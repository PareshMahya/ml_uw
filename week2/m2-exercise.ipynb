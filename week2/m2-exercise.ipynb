{
 "cells": [
  {
   "cell_type": "markdown",
   "metadata": {},
   "source": [
    "# Module 2: Exercise"
   ]
  },
  {
   "cell_type": "markdown",
   "metadata": {},
   "source": [
    ">__Task 1__\n",
    ">\n",
    ">Import pandas and NumPy libraries using their alias"
   ]
  },
  {
   "cell_type": "code",
   "execution_count": 1268,
   "metadata": {},
   "outputs": [],
   "source": [
    "import numpy as np\n"
   ]
  },
  {
   "cell_type": "markdown",
   "metadata": {},
   "source": [
    "## Python Native Data Types"
   ]
  },
  {
   "cell_type": "markdown",
   "metadata": {},
   "source": [
    "### Numbers, Strings, Booleans"
   ]
  },
  {
   "cell_type": "markdown",
   "metadata": {
    "tags": []
   },
   "source": [
    ">__Task 2__\n",
    ">\n",
    ">Perform the following operations and return to see the results\n",
    ">- $3+2\\times4$\n",
    ">- $(3+2)\\div4$\n",
    ">- $(3+2)^4$\n",
    ">- get the integer quotient of $(3+2)/4$ using floor division"
   ]
  },
  {
   "cell_type": "code",
   "execution_count": 1269,
   "metadata": {},
   "outputs": [
    {
     "data": {
      "text/plain": [
       "11"
      ]
     },
     "execution_count": 1269,
     "metadata": {},
     "output_type": "execute_result"
    }
   ],
   "source": [
    "ans = 3+2*4\n",
    "ans"
   ]
  },
  {
   "cell_type": "code",
   "execution_count": 1270,
   "metadata": {},
   "outputs": [
    {
     "data": {
      "text/plain": [
       "1.25"
      ]
     },
     "execution_count": 1270,
     "metadata": {},
     "output_type": "execute_result"
    }
   ],
   "source": [
    "(3+2)/4"
   ]
  },
  {
   "cell_type": "code",
   "execution_count": 1271,
   "metadata": {},
   "outputs": [
    {
     "data": {
      "text/plain": [
       "625"
      ]
     },
     "execution_count": 1271,
     "metadata": {},
     "output_type": "execute_result"
    }
   ],
   "source": [
    "(3+2)**4"
   ]
  },
  {
   "cell_type": "code",
   "execution_count": 1272,
   "metadata": {},
   "outputs": [
    {
     "data": {
      "text/plain": [
       "1"
      ]
     },
     "execution_count": 1272,
     "metadata": {},
     "output_type": "execute_result"
    }
   ],
   "source": [
    "(3 + 2) // 4"
   ]
  },
  {
   "cell_type": "markdown",
   "metadata": {},
   "source": [
    "Note __the floor division rounds the result to the nearest whole number__."
   ]
  },
  {
   "cell_type": "markdown",
   "metadata": {},
   "source": [
    ">__Task 3__\n",
    ">\n",
    ">Run the following cells and find the data type of each object"
   ]
  },
  {
   "cell_type": "code",
   "execution_count": 1273,
   "metadata": {},
   "outputs": [],
   "source": [
    "ans_task3 = 4//7"
   ]
  },
  {
   "cell_type": "code",
   "execution_count": 1274,
   "metadata": {},
   "outputs": [
    {
     "name": "stdout",
     "output_type": "stream",
     "text": [
      "<class 'int'>\n"
     ]
    }
   ],
   "source": [
    "# Return data type\n",
    "print(type(ans_task3))"
   ]
  },
  {
   "cell_type": "code",
   "execution_count": 1275,
   "metadata": {},
   "outputs": [
    {
     "data": {
      "text/plain": [
       "-3.6666666666666665"
      ]
     },
     "execution_count": 1275,
     "metadata": {},
     "output_type": "execute_result"
    }
   ],
   "source": [
    "a = 11/(-3)\n",
    "a"
   ]
  },
  {
   "cell_type": "code",
   "execution_count": 1276,
   "metadata": {},
   "outputs": [
    {
     "name": "stdout",
     "output_type": "stream",
     "text": [
      "<class 'float'>\n"
     ]
    }
   ],
   "source": [
    "# Return data type\n",
    "type(a)  # shows the object type as output of the cell in Jupyter notebook/ any python notebook script. \n",
    "# x =type(a)  # Even use like this/.\n",
    "# print(x)\n",
    "print(type(a))  # shows the object type as output in terminal or normal script run."
   ]
  },
  {
   "cell_type": "code",
   "execution_count": 1277,
   "metadata": {},
   "outputs": [
    {
     "name": "stdout",
     "output_type": "stream",
     "text": [
      "<class 'bool'>\n"
     ]
    }
   ],
   "source": [
    "b = True\n",
    "# Return data type\n",
    "print(type(b))"
   ]
  },
  {
   "cell_type": "markdown",
   "metadata": {},
   "source": [
    ">__Task 4__\n",
    ">\n",
    ">Assume your student ID is 00223298, assign it to a variable as a string object"
   ]
  },
  {
   "cell_type": "code",
   "execution_count": 1278,
   "metadata": {},
   "outputs": [
    {
     "name": "stdout",
     "output_type": "stream",
     "text": [
      "<class 'str'>\n"
     ]
    }
   ],
   "source": [
    "# id = str(00223298)\n",
    "id = \"00223298\"\n",
    "# Return data type\n",
    "print(type(id))"
   ]
  },
  {
   "cell_type": "markdown",
   "metadata": {},
   "source": [
    ">__Task 5__\n",
    ">\n",
    ">Convert the variable __c__ below to float"
   ]
  },
  {
   "cell_type": "code",
   "execution_count": 1279,
   "metadata": {},
   "outputs": [
    {
     "data": {
      "text/plain": [
       "6.0"
      ]
     },
     "execution_count": 1279,
     "metadata": {},
     "output_type": "execute_result"
    }
   ],
   "source": [
    "c = '6.0'\n",
    "# Convert to float\n",
    "c = float(c) # Force conversion from string to float\n",
    "# c = eval(c) # any data type to their corresponding data type so avoid `eval` unless you 100% trust the input.\n",
    "c"
   ]
  },
  {
   "cell_type": "code",
   "execution_count": 1280,
   "metadata": {},
   "outputs": [
    {
     "name": "stdout",
     "output_type": "stream",
     "text": [
      "<class 'float'>\n"
     ]
    }
   ],
   "source": [
    "# Return data type\n",
    "print(type(c))"
   ]
  },
  {
   "cell_type": "markdown",
   "metadata": {},
   "source": [
    ">__Task 6__\n",
    ">\n",
    ">Run the cell below to get the value of variable __d__ and then convert it to integer"
   ]
  },
  {
   "cell_type": "code",
   "execution_count": 1281,
   "metadata": {},
   "outputs": [
    {
     "data": {
      "text/plain": [
       "True"
      ]
     },
     "execution_count": 1281,
     "metadata": {},
     "output_type": "execute_result"
    }
   ],
   "source": [
    "d = (-6) < 78\n",
    "d"
   ]
  },
  {
   "cell_type": "code",
   "execution_count": 1282,
   "metadata": {},
   "outputs": [
    {
     "data": {
      "text/plain": [
       "1"
      ]
     },
     "execution_count": 1282,
     "metadata": {},
     "output_type": "execute_result"
    }
   ],
   "source": [
    "# Convert to integer\n",
    "d = int(d)\n",
    "d"
   ]
  },
  {
   "cell_type": "code",
   "execution_count": 1283,
   "metadata": {},
   "outputs": [
    {
     "name": "stdout",
     "output_type": "stream",
     "text": [
      "<class 'int'>\n"
     ]
    }
   ],
   "source": [
    "# Return data type\n",
    "print(type(d))"
   ]
  },
  {
   "cell_type": "markdown",
   "metadata": {},
   "source": [
    "### Lists, Tuples, Sets"
   ]
  },
  {
   "cell_type": "markdown",
   "metadata": {},
   "source": [
    ">__Task 7__\n",
    ">\n",
    ">Create a list, a tuple, and a set containing the following elements and compare the outputs:\n",
    ">\n",
    ">`0`, `robot` (str), `-9`, `False` (bool), `77`, `77`, `100`, `true` (str)"
   ]
  },
  {
   "cell_type": "code",
   "execution_count": 1284,
   "metadata": {},
   "outputs": [
    {
     "data": {
      "text/plain": [
       "[0, 'robot', -9, False, 77, 77, 100, 'true']"
      ]
     },
     "execution_count": 1284,
     "metadata": {},
     "output_type": "execute_result"
    }
   ],
   "source": [
    "# Create a list\n",
    "l = [ 0, 'robot', -9, False, 77,77,100, 'true']\n",
    "l"
   ]
  },
  {
   "cell_type": "code",
   "execution_count": 1285,
   "metadata": {},
   "outputs": [
    {
     "name": "stdout",
     "output_type": "stream",
     "text": [
      "<class 'list'>\n"
     ]
    }
   ],
   "source": [
    "# Return data type\n",
    "print(type(l))"
   ]
  },
  {
   "cell_type": "code",
   "execution_count": 1286,
   "metadata": {},
   "outputs": [
    {
     "data": {
      "text/plain": [
       "(0, 'robot', -9, False, 77, 77, 100, 'true')"
      ]
     },
     "execution_count": 1286,
     "metadata": {},
     "output_type": "execute_result"
    }
   ],
   "source": [
    "# Create a tuple\n",
    "# t = (0, 'robot', -9, False, 77,77,100, 'true')\n",
    "t = tuple(l)\n",
    "t"
   ]
  },
  {
   "cell_type": "code",
   "execution_count": 1287,
   "metadata": {},
   "outputs": [
    {
     "name": "stdout",
     "output_type": "stream",
     "text": [
      "<class 'tuple'>\n"
     ]
    }
   ],
   "source": [
    "# Return data type\n",
    "print(type(t))"
   ]
  },
  {
   "cell_type": "code",
   "execution_count": 1288,
   "metadata": {},
   "outputs": [
    {
     "data": {
      "text/plain": [
       "{-9, 0, 100, 77, 'robot', 'true'}"
      ]
     },
     "execution_count": 1288,
     "metadata": {},
     "output_type": "execute_result"
    }
   ],
   "source": [
    "# Create a set\n",
    "s = {0, 'robot', -9, False, 77,77,100, 'true'}\n",
    "# s = set(l)\n",
    "s"
   ]
  },
  {
   "cell_type": "code",
   "execution_count": 1289,
   "metadata": {},
   "outputs": [
    {
     "name": "stdout",
     "output_type": "stream",
     "text": [
      "<class 'set'>\n"
     ]
    }
   ],
   "source": [
    "# Return data type\n",
    "print(type(s))"
   ]
  },
  {
   "cell_type": "markdown",
   "metadata": {},
   "source": [
    ">__Task 8__\n",
    ">\n",
    ">Overwrite the element `true` to `1` in the above list __l__"
   ]
  },
  {
   "cell_type": "code",
   "execution_count": 1290,
   "metadata": {},
   "outputs": [
    {
     "name": "stdout",
     "output_type": "stream",
     "text": [
      "old list: \n",
      "[0, 'robot', -9, False, 77, 77, 100, 'true']\n"
     ]
    },
    {
     "data": {
      "text/plain": [
       "[0, 'robot', -9, False, 77, 77, 100, 1]"
      ]
     },
     "execution_count": 1290,
     "metadata": {},
     "output_type": "execute_result"
    }
   ],
   "source": [
    "print(f\"old list: \\n{l}\")\n",
    "\n",
    "l[l.index('true')] = 1\n",
    "l"
   ]
  },
  {
   "cell_type": "markdown",
   "metadata": {},
   "source": [
    ">__Task 9__\n",
    ">\n",
    ">Add `age` and `weight` to the list __e__ below using __`+`__"
   ]
  },
  {
   "cell_type": "code",
   "execution_count": 1291,
   "metadata": {},
   "outputs": [
    {
     "data": {
      "text/plain": [
       "['diabetes', 'heart bypass']"
      ]
     },
     "execution_count": 1291,
     "metadata": {},
     "output_type": "execute_result"
    }
   ],
   "source": [
    "e = ['diabetes', 'heart bypass']\n",
    "e"
   ]
  },
  {
   "cell_type": "code",
   "execution_count": 1292,
   "metadata": {},
   "outputs": [
    {
     "data": {
      "text/plain": [
       "['diabetes', 'heart bypass', 'age', 'weight']"
      ]
     },
     "execution_count": 1292,
     "metadata": {},
     "output_type": "execute_result"
    }
   ],
   "source": [
    "f = e + ['age', 'weight']\n",
    "f"
   ]
  },
  {
   "cell_type": "markdown",
   "metadata": {},
   "source": [
    "Alternatively, you can use the __`extend()`__ method to add item(s) to the end of the list:"
   ]
  },
  {
   "cell_type": "code",
   "execution_count": 1293,
   "metadata": {},
   "outputs": [
    {
     "data": {
      "text/plain": [
       "['diabetes', 'heart bypass', 'age', 'weight']"
      ]
     },
     "execution_count": 1293,
     "metadata": {},
     "output_type": "execute_result"
    }
   ],
   "source": [
    "e.extend(['age', 'weight'])\n",
    "e"
   ]
  },
  {
   "cell_type": "markdown",
   "metadata": {
    "tags": []
   },
   "source": [
    "### Dictionaries"
   ]
  },
  {
   "cell_type": "code",
   "execution_count": 1294,
   "metadata": {},
   "outputs": [
    {
     "data": {
      "text/plain": [
       "{'Australia': ['Sydney', 'Melbourne', 'Canberra'],\n",
       " 'Canada': ['Toronto', 'Montreal', 'Ottawa'],\n",
       " 'Germany': ['Berlin', 'Hamburg', 'Munich'],\n",
       " 'Japan': ['Tokyo', 'Osaka', 'Nagoya']}"
      ]
     },
     "execution_count": 1294,
     "metadata": {},
     "output_type": "execute_result"
    }
   ],
   "source": [
    "cities = {'Australia' :['Sydney', 'Melbourne', 'Canberra'],\n",
    "          'Canada'    :['Toronto', 'Montreal', 'Ottawa'],\n",
    "          'Germany'   :['Berlin', 'Hamburg', 'Munich'],\n",
    "          'Japan'     :['Tokyo', 'Osaka', 'Nagoya']}\n",
    "cities"
   ]
  },
  {
   "cell_type": "markdown",
   "metadata": {},
   "source": [
    ">__Task 10__\n",
    ">\n",
    ">Return only values of the `Japan` key"
   ]
  },
  {
   "cell_type": "code",
   "execution_count": 1295,
   "metadata": {},
   "outputs": [
    {
     "name": "stdout",
     "output_type": "stream",
     "text": [
      "['Tokyo', 'Osaka', 'Nagoya']\n"
     ]
    }
   ],
   "source": [
    "task_10 = cities['Japan']\n",
    "print(task_10)"
   ]
  },
  {
   "cell_type": "markdown",
   "metadata": {},
   "source": [
    ">__Task 11__\n",
    ">\n",
    ">Return only values and only keys of the dictionary __cities__"
   ]
  },
  {
   "cell_type": "code",
   "execution_count": 1296,
   "metadata": {},
   "outputs": [
    {
     "name": "stdout",
     "output_type": "stream",
     "text": [
      "dict_values([['Sydney', 'Melbourne', 'Canberra'], ['Toronto', 'Montreal', 'Ottawa'], ['Berlin', 'Hamburg', 'Munich'], ['Tokyo', 'Osaka', 'Nagoya']])\n"
     ]
    }
   ],
   "source": [
    "# Return only values\n",
    "# # First way\n",
    "# for country in cities:\n",
    "#     print(cities.values())\n",
    "# # Second way\n",
    "print(cities.values())\n",
    "# # Third way\n",
    "# task_11 = [city for country in cities.values() for city in country]\n",
    "# print(task_11)"
   ]
  },
  {
   "cell_type": "code",
   "execution_count": 1297,
   "metadata": {},
   "outputs": [
    {
     "name": "stdout",
     "output_type": "stream",
     "text": [
      "['Australia', 'Canada', 'Germany', 'Japan']\n"
     ]
    }
   ],
   "source": [
    "# Return only keys\n",
    "# # First way\n",
    "# for country in cities:\n",
    "#     print(country)\n",
    "# # Second way\n",
    "# print(cities.keys())\n",
    "# # Third way\n",
    "task_12 = [country for country in cities.keys()]\n",
    "print(task_12)"
   ]
  },
  {
   "cell_type": "markdown",
   "metadata": {},
   "source": [
    "You can use a __`for`__ loop to print not only keys but also the values corresponding to that keys:"
   ]
  },
  {
   "cell_type": "code",
   "execution_count": 1298,
   "metadata": {},
   "outputs": [
    {
     "name": "stdout",
     "output_type": "stream",
     "text": [
      "key:  Australia \n",
      "value:  ['Sydney', 'Melbourne', 'Canberra'] \n",
      "\n",
      "key:  Canada \n",
      "value:  ['Toronto', 'Montreal', 'Ottawa'] \n",
      "\n",
      "key:  Germany \n",
      "value:  ['Berlin', 'Hamburg', 'Munich'] \n",
      "\n",
      "key:  Japan \n",
      "value:  ['Tokyo', 'Osaka', 'Nagoya'] \n",
      "\n"
     ]
    }
   ],
   "source": [
    "for k in cities.keys():\n",
    "    print('key: ', k, '\\nvalue: ', cities[k], '\\n')"
   ]
  },
  {
   "cell_type": "markdown",
   "metadata": {},
   "source": [
    ">__Task 12__\n",
    ">\n",
    ">Return the same output above using the __`items()`__ method within a `for` loop"
   ]
  },
  {
   "cell_type": "code",
   "execution_count": 1299,
   "metadata": {},
   "outputs": [
    {
     "name": "stdout",
     "output_type": "stream",
     "text": [
      "key: Australia \n",
      "value: ['Sydney', 'Melbourne', 'Canberra']\n",
      "\n",
      "key: Canada \n",
      "value: ['Toronto', 'Montreal', 'Ottawa']\n",
      "\n",
      "key: Germany \n",
      "value: ['Berlin', 'Hamburg', 'Munich']\n",
      "\n",
      "key: Japan \n",
      "value: ['Tokyo', 'Osaka', 'Nagoya']\n",
      "\n"
     ]
    }
   ],
   "source": [
    "for k, v in cities.items():\n",
    "    print(f\"key: {k} \\nvalue: {v}\\n\")"
   ]
  },
  {
   "cell_type": "markdown",
   "metadata": {},
   "source": [
    ">__Task 13__\n",
    ">\n",
    ">Add `Egypt` as a new key to __cities__ and `Cairo`, `Durban`, `Alexandria` as its corresponding values"
   ]
  },
  {
   "cell_type": "code",
   "execution_count": 1300,
   "metadata": {},
   "outputs": [
    {
     "data": {
      "text/plain": [
       "{'Australia': ['Sydney', 'Melbourne', 'Canberra'],\n",
       " 'Canada': ['Toronto', 'Montreal', 'Ottawa'],\n",
       " 'Germany': ['Berlin', 'Hamburg', 'Munich'],\n",
       " 'Japan': ['Tokyo', 'Osaka', 'Nagoya'],\n",
       " 'Egypt': ['Cairo', 'Durban', 'Alexandria']}"
      ]
     },
     "execution_count": 1300,
     "metadata": {},
     "output_type": "execute_result"
    }
   ],
   "source": [
    "cities['Egypt'] = ['Cairo', 'Durban', 'Alexandria']\n",
    "cities"
   ]
  },
  {
   "cell_type": "markdown",
   "metadata": {},
   "source": [
    ">__Task 14__\n",
    ">\n",
    ">`Durban` is actually in South Africa. Overwrite it with `Giza` and then confirm values of the __Egypt__ column"
   ]
  },
  {
   "cell_type": "code",
   "execution_count": 1301,
   "metadata": {},
   "outputs": [
    {
     "data": {
      "text/plain": [
       "{'Australia': ['Sydney', 'Melbourne', 'Canberra'],\n",
       " 'Canada': ['Toronto', 'Montreal', 'Ottawa'],\n",
       " 'Germany': ['Berlin', 'Hamburg', 'Munich'],\n",
       " 'Japan': ['Tokyo', 'Osaka', 'Nagoya'],\n",
       " 'Egypt': ['Cairo', 'Giza', 'Alexandria']}"
      ]
     },
     "execution_count": 1301,
     "metadata": {},
     "output_type": "execute_result"
    }
   ],
   "source": [
    "Durban_index = cities['Egypt'].index('Durban')\n",
    "cities['Egypt'][Durban_index] = 'Giza'\n",
    "# cities['Egypt'][1] = 'Giza' \n",
    "cities"
   ]
  },
  {
   "cell_type": "markdown",
   "metadata": {},
   "source": [
    ">__Task 15__\n",
    ">\n",
    ">Delete the key `Germany` from __cities__ "
   ]
  },
  {
   "cell_type": "code",
   "execution_count": 1302,
   "metadata": {},
   "outputs": [
    {
     "data": {
      "text/plain": [
       "{'Australia': ['Sydney', 'Melbourne', 'Canberra'],\n",
       " 'Canada': ['Toronto', 'Montreal', 'Ottawa'],\n",
       " 'Japan': ['Tokyo', 'Osaka', 'Nagoya'],\n",
       " 'Egypt': ['Cairo', 'Giza', 'Alexandria']}"
      ]
     },
     "execution_count": 1302,
     "metadata": {},
     "output_type": "execute_result"
    }
   ],
   "source": [
    "# del cities['Germany']\n",
    "cities.pop('Germany')\n",
    "cities"
   ]
  },
  {
   "cell_type": "markdown",
   "metadata": {},
   "source": [
    "## NumPy Arrays"
   ]
  },
  {
   "cell_type": "markdown",
   "metadata": {},
   "source": [
    ">__Task 16__\n",
    ">\n",
    ">Create an array that contains a list of `99`, `2`, `65`"
   ]
  },
  {
   "cell_type": "code",
   "execution_count": 1303,
   "metadata": {},
   "outputs": [
    {
     "data": {
      "text/plain": [
       "array([99,  2, 65])"
      ]
     },
     "execution_count": 1303,
     "metadata": {},
     "output_type": "execute_result"
    }
   ],
   "source": [
    "arr = np.array([99,2,65])\n",
    "arr"
   ]
  },
  {
   "cell_type": "markdown",
   "metadata": {
    "jp-MarkdownHeadingCollapsed": true,
    "tags": []
   },
   "source": [
    ">__Task 17__\n",
    ">\n",
    ">Run the following operations to see the results"
   ]
  },
  {
   "cell_type": "code",
   "execution_count": 1304,
   "metadata": {},
   "outputs": [
    {
     "data": {
      "text/plain": [
       "array([4.59511985, 0.69314718, 4.17438727])"
      ]
     },
     "execution_count": 1304,
     "metadata": {},
     "output_type": "execute_result"
    }
   ],
   "source": [
    "# Natural logarithm\n",
    "np.log(arr)"
   ]
  },
  {
   "cell_type": "code",
   "execution_count": 1305,
   "metadata": {},
   "outputs": [
    {
     "data": {
      "text/plain": [
       "array([9.94987437, 1.41421356, 8.06225775])"
      ]
     },
     "execution_count": 1305,
     "metadata": {},
     "output_type": "execute_result"
    }
   ],
   "source": [
    "# Square root\n",
    "np.sqrt(arr)"
   ]
  },
  {
   "cell_type": "code",
   "execution_count": 1306,
   "metadata": {},
   "outputs": [
    {
     "data": {
      "text/plain": [
       "array([ 0.03982088, -0.41614684, -0.56245385])"
      ]
     },
     "execution_count": 1306,
     "metadata": {},
     "output_type": "execute_result"
    }
   ],
   "source": [
    "# Cosine\n",
    "np.cos(arr)\n"
   ]
  },
  {
   "cell_type": "markdown",
   "metadata": {},
   "source": [
    "We can use the __`arange()`__ method to create an array from 0 to any number of values we want. For example, we want an array of 20 numbers, we write:"
   ]
  },
  {
   "cell_type": "code",
   "execution_count": 1307,
   "metadata": {},
   "outputs": [
    {
     "data": {
      "text/plain": [
       "array([ 0,  1,  2,  3,  4,  5,  6,  7,  8,  9, 10, 11, 12, 13, 14, 15, 16,\n",
       "       17, 18, 19])"
      ]
     },
     "execution_count": 1307,
     "metadata": {},
     "output_type": "execute_result"
    }
   ],
   "source": [
    "num1 = np.arange(20)\n",
    "num1"
   ]
  },
  {
   "cell_type": "markdown",
   "metadata": {},
   "source": [
    ">__Task 18__\n",
    ">\n",
    ">Retrieve the first 5 numbers of the above array __num1__"
   ]
  },
  {
   "cell_type": "code",
   "execution_count": 1308,
   "metadata": {},
   "outputs": [
    {
     "name": "stdout",
     "output_type": "stream",
     "text": [
      "[0 1 2 3 4]\n"
     ]
    }
   ],
   "source": [
    "print(num1[:5])\n",
    "# task_18 = num1[:5]\n",
    "# task_18"
   ]
  },
  {
   "cell_type": "markdown",
   "metadata": {},
   "source": [
    "We can also pass the __`reshape()`__ function with `arange()` to specify rows and columns. For example, we can rearrange the above array into 5 rows and 4 columns:"
   ]
  },
  {
   "cell_type": "code",
   "execution_count": 1309,
   "metadata": {},
   "outputs": [
    {
     "data": {
      "text/plain": [
       "array([[ 0,  1,  2,  3],\n",
       "       [ 4,  5,  6,  7],\n",
       "       [ 8,  9, 10, 11],\n",
       "       [12, 13, 14, 15],\n",
       "       [16, 17, 18, 19]])"
      ]
     },
     "execution_count": 1309,
     "metadata": {},
     "output_type": "execute_result"
    }
   ],
   "source": [
    "num2 = np.arange(20).reshape(5,4)\n",
    "num2"
   ]
  },
  {
   "cell_type": "markdown",
   "metadata": {},
   "source": [
    ">__Task 19__\n",
    ">\n",
    ">Retrieve the numbers from the last 2 rows and first 3 columns in the array __num2__ (your output should return `[12, 13, 14], [16, 17, 18]`)"
   ]
  },
  {
   "cell_type": "code",
   "execution_count": 1310,
   "metadata": {},
   "outputs": [
    {
     "data": {
      "text/plain": [
       "array([[12, 13, 14],\n",
       "       [16, 17, 18]])"
      ]
     },
     "execution_count": 1310,
     "metadata": {},
     "output_type": "execute_result"
    }
   ],
   "source": [
    "task_19 = num2[-2:, :3]\n",
    "task_19"
   ]
  },
  {
   "cell_type": "markdown",
   "metadata": {},
   "source": [
    "## Pandas Series and DataFrames"
   ]
  },
  {
   "cell_type": "markdown",
   "metadata": {},
   "source": [
    ">__Task 20__\n",
    ">\n",
    ">Import the data file \"bank_data.csv\""
   ]
  },
  {
   "cell_type": "code",
   "execution_count": 1311,
   "metadata": {},
   "outputs": [
    {
     "data": {
      "text/html": [
       "<div>\n",
       "<style scoped>\n",
       "    .dataframe tbody tr th:only-of-type {\n",
       "        vertical-align: middle;\n",
       "    }\n",
       "\n",
       "    .dataframe tbody tr th {\n",
       "        vertical-align: top;\n",
       "    }\n",
       "\n",
       "    .dataframe thead th {\n",
       "        text-align: right;\n",
       "    }\n",
       "</style>\n",
       "<table border=\"1\" class=\"dataframe\">\n",
       "  <thead>\n",
       "    <tr style=\"text-align: right;\">\n",
       "      <th></th>\n",
       "      <th>age</th>\n",
       "      <th>job</th>\n",
       "      <th>marital</th>\n",
       "      <th>education</th>\n",
       "      <th>default</th>\n",
       "      <th>balance</th>\n",
       "      <th>housing</th>\n",
       "      <th>loan</th>\n",
       "      <th>contact</th>\n",
       "      <th>day</th>\n",
       "      <th>month</th>\n",
       "      <th>duration</th>\n",
       "      <th>campaign</th>\n",
       "      <th>pdays</th>\n",
       "      <th>previous</th>\n",
       "      <th>poutcome</th>\n",
       "      <th>y</th>\n",
       "      <th>year</th>\n",
       "    </tr>\n",
       "  </thead>\n",
       "  <tbody>\n",
       "    <tr>\n",
       "      <th>0</th>\n",
       "      <td>30.0</td>\n",
       "      <td>unemployed</td>\n",
       "      <td>married</td>\n",
       "      <td>primary</td>\n",
       "      <td>no</td>\n",
       "      <td>1787.0</td>\n",
       "      <td>no</td>\n",
       "      <td>no</td>\n",
       "      <td>cellular</td>\n",
       "      <td>19.0</td>\n",
       "      <td>10</td>\n",
       "      <td>79.0</td>\n",
       "      <td>1.0</td>\n",
       "      <td>-1.0</td>\n",
       "      <td>0.0</td>\n",
       "      <td>unknown</td>\n",
       "      <td>no</td>\n",
       "      <td>2022</td>\n",
       "    </tr>\n",
       "    <tr>\n",
       "      <th>1</th>\n",
       "      <td>33.0</td>\n",
       "      <td>services</td>\n",
       "      <td>married</td>\n",
       "      <td>secondary</td>\n",
       "      <td>no</td>\n",
       "      <td>4789.0</td>\n",
       "      <td>yes</td>\n",
       "      <td>yes</td>\n",
       "      <td>cellular</td>\n",
       "      <td>11.0</td>\n",
       "      <td>5</td>\n",
       "      <td>220.0</td>\n",
       "      <td>1.0</td>\n",
       "      <td>339.0</td>\n",
       "      <td>4.0</td>\n",
       "      <td>failure</td>\n",
       "      <td>no</td>\n",
       "      <td>2022</td>\n",
       "    </tr>\n",
       "    <tr>\n",
       "      <th>2</th>\n",
       "      <td>35.0</td>\n",
       "      <td>management</td>\n",
       "      <td>single</td>\n",
       "      <td>tertiary</td>\n",
       "      <td>no</td>\n",
       "      <td>1350.0</td>\n",
       "      <td>yes</td>\n",
       "      <td>no</td>\n",
       "      <td>cellular</td>\n",
       "      <td>16.0</td>\n",
       "      <td>4</td>\n",
       "      <td>185.0</td>\n",
       "      <td>1.0</td>\n",
       "      <td>330.0</td>\n",
       "      <td>1.0</td>\n",
       "      <td>failure</td>\n",
       "      <td>no</td>\n",
       "      <td>2022</td>\n",
       "    </tr>\n",
       "    <tr>\n",
       "      <th>3</th>\n",
       "      <td>30.0</td>\n",
       "      <td>management</td>\n",
       "      <td>married</td>\n",
       "      <td>tertiary</td>\n",
       "      <td>no</td>\n",
       "      <td>NaN</td>\n",
       "      <td>yes</td>\n",
       "      <td>yes</td>\n",
       "      <td>NaN</td>\n",
       "      <td>3.0</td>\n",
       "      <td>6</td>\n",
       "      <td>199.0</td>\n",
       "      <td>4.0</td>\n",
       "      <td>-1.0</td>\n",
       "      <td>0.0</td>\n",
       "      <td>unknown</td>\n",
       "      <td>no</td>\n",
       "      <td>2022</td>\n",
       "    </tr>\n",
       "    <tr>\n",
       "      <th>4</th>\n",
       "      <td>59.0</td>\n",
       "      <td>blue-collar</td>\n",
       "      <td>married</td>\n",
       "      <td>secondary</td>\n",
       "      <td>no</td>\n",
       "      <td>0.0</td>\n",
       "      <td>yes</td>\n",
       "      <td>no</td>\n",
       "      <td>NaN</td>\n",
       "      <td>5.0</td>\n",
       "      <td>5</td>\n",
       "      <td>226.0</td>\n",
       "      <td>1.0</td>\n",
       "      <td>-1.0</td>\n",
       "      <td>0.0</td>\n",
       "      <td>unknown</td>\n",
       "      <td>no</td>\n",
       "      <td>2022</td>\n",
       "    </tr>\n",
       "    <tr>\n",
       "      <th>...</th>\n",
       "      <td>...</td>\n",
       "      <td>...</td>\n",
       "      <td>...</td>\n",
       "      <td>...</td>\n",
       "      <td>...</td>\n",
       "      <td>...</td>\n",
       "      <td>...</td>\n",
       "      <td>...</td>\n",
       "      <td>...</td>\n",
       "      <td>...</td>\n",
       "      <td>...</td>\n",
       "      <td>...</td>\n",
       "      <td>...</td>\n",
       "      <td>...</td>\n",
       "      <td>...</td>\n",
       "      <td>...</td>\n",
       "      <td>...</td>\n",
       "      <td>...</td>\n",
       "    </tr>\n",
       "    <tr>\n",
       "      <th>4516</th>\n",
       "      <td>33.0</td>\n",
       "      <td>services</td>\n",
       "      <td>married</td>\n",
       "      <td>secondary</td>\n",
       "      <td>no</td>\n",
       "      <td>-333.0</td>\n",
       "      <td>yes</td>\n",
       "      <td>no</td>\n",
       "      <td>cellular</td>\n",
       "      <td>30.0</td>\n",
       "      <td>7</td>\n",
       "      <td>329.0</td>\n",
       "      <td>5.0</td>\n",
       "      <td>-1.0</td>\n",
       "      <td>0.0</td>\n",
       "      <td>unknown</td>\n",
       "      <td>no</td>\n",
       "      <td>2022</td>\n",
       "    </tr>\n",
       "    <tr>\n",
       "      <th>4517</th>\n",
       "      <td>57.0</td>\n",
       "      <td>self-employed</td>\n",
       "      <td>married</td>\n",
       "      <td>tertiary</td>\n",
       "      <td>yes</td>\n",
       "      <td>-3313.0</td>\n",
       "      <td>yes</td>\n",
       "      <td>yes</td>\n",
       "      <td>NaN</td>\n",
       "      <td>9.0</td>\n",
       "      <td>5</td>\n",
       "      <td>153.0</td>\n",
       "      <td>1.0</td>\n",
       "      <td>-1.0</td>\n",
       "      <td>0.0</td>\n",
       "      <td>unknown</td>\n",
       "      <td>no</td>\n",
       "      <td>2022</td>\n",
       "    </tr>\n",
       "    <tr>\n",
       "      <th>4518</th>\n",
       "      <td>57.0</td>\n",
       "      <td>technician</td>\n",
       "      <td>married</td>\n",
       "      <td>secondary</td>\n",
       "      <td>no</td>\n",
       "      <td>295.0</td>\n",
       "      <td>no</td>\n",
       "      <td>no</td>\n",
       "      <td>cellular</td>\n",
       "      <td>19.0</td>\n",
       "      <td>8</td>\n",
       "      <td>151.0</td>\n",
       "      <td>11.0</td>\n",
       "      <td>-1.0</td>\n",
       "      <td>0.0</td>\n",
       "      <td>unknown</td>\n",
       "      <td>no</td>\n",
       "      <td>2022</td>\n",
       "    </tr>\n",
       "    <tr>\n",
       "      <th>4519</th>\n",
       "      <td>28.0</td>\n",
       "      <td>blue-collar</td>\n",
       "      <td>married</td>\n",
       "      <td>secondary</td>\n",
       "      <td>no</td>\n",
       "      <td>1137.0</td>\n",
       "      <td>no</td>\n",
       "      <td>no</td>\n",
       "      <td>cellular</td>\n",
       "      <td>6.0</td>\n",
       "      <td>2</td>\n",
       "      <td>129.0</td>\n",
       "      <td>4.0</td>\n",
       "      <td>211.0</td>\n",
       "      <td>3.0</td>\n",
       "      <td>other</td>\n",
       "      <td>no</td>\n",
       "      <td>2022</td>\n",
       "    </tr>\n",
       "    <tr>\n",
       "      <th>4520</th>\n",
       "      <td>44.0</td>\n",
       "      <td>entrepreneur</td>\n",
       "      <td>single</td>\n",
       "      <td>tertiary</td>\n",
       "      <td>no</td>\n",
       "      <td>1136.0</td>\n",
       "      <td>yes</td>\n",
       "      <td>yes</td>\n",
       "      <td>cellular</td>\n",
       "      <td>3.0</td>\n",
       "      <td>4</td>\n",
       "      <td>345.0</td>\n",
       "      <td>2.0</td>\n",
       "      <td>249.0</td>\n",
       "      <td>7.0</td>\n",
       "      <td>other</td>\n",
       "      <td>no</td>\n",
       "      <td>2022</td>\n",
       "    </tr>\n",
       "  </tbody>\n",
       "</table>\n",
       "<p>4521 rows × 18 columns</p>\n",
       "</div>"
      ],
      "text/plain": [
       "       age            job  marital  education default  balance housing loan  \\\n",
       "0     30.0     unemployed  married    primary      no   1787.0      no   no   \n",
       "1     33.0       services  married  secondary      no   4789.0     yes  yes   \n",
       "2     35.0     management   single   tertiary      no   1350.0     yes   no   \n",
       "3     30.0     management  married   tertiary      no      NaN     yes  yes   \n",
       "4     59.0    blue-collar  married  secondary      no      0.0     yes   no   \n",
       "...    ...            ...      ...        ...     ...      ...     ...  ...   \n",
       "4516  33.0       services  married  secondary      no   -333.0     yes   no   \n",
       "4517  57.0  self-employed  married   tertiary     yes  -3313.0     yes  yes   \n",
       "4518  57.0     technician  married  secondary      no    295.0      no   no   \n",
       "4519  28.0    blue-collar  married  secondary      no   1137.0      no   no   \n",
       "4520  44.0   entrepreneur   single   tertiary      no   1136.0     yes  yes   \n",
       "\n",
       "       contact   day  month  duration  campaign  pdays  previous poutcome   y  \\\n",
       "0     cellular  19.0     10      79.0       1.0   -1.0       0.0  unknown  no   \n",
       "1     cellular  11.0      5     220.0       1.0  339.0       4.0  failure  no   \n",
       "2     cellular  16.0      4     185.0       1.0  330.0       1.0  failure  no   \n",
       "3          NaN   3.0      6     199.0       4.0   -1.0       0.0  unknown  no   \n",
       "4          NaN   5.0      5     226.0       1.0   -1.0       0.0  unknown  no   \n",
       "...        ...   ...    ...       ...       ...    ...       ...      ...  ..   \n",
       "4516  cellular  30.0      7     329.0       5.0   -1.0       0.0  unknown  no   \n",
       "4517       NaN   9.0      5     153.0       1.0   -1.0       0.0  unknown  no   \n",
       "4518  cellular  19.0      8     151.0      11.0   -1.0       0.0  unknown  no   \n",
       "4519  cellular   6.0      2     129.0       4.0  211.0       3.0    other  no   \n",
       "4520  cellular   3.0      4     345.0       2.0  249.0       7.0    other  no   \n",
       "\n",
       "      year  \n",
       "0     2022  \n",
       "1     2022  \n",
       "2     2022  \n",
       "3     2022  \n",
       "4     2022  \n",
       "...    ...  \n",
       "4516  2022  \n",
       "4517  2022  \n",
       "4518  2022  \n",
       "4519  2022  \n",
       "4520  2022  \n",
       "\n",
       "[4521 rows x 18 columns]"
      ]
     },
     "execution_count": 1311,
     "metadata": {},
     "output_type": "execute_result"
    }
   ],
   "source": [
    "import pandas as pd\n",
    "\n",
    "bank = pd.read_csv('bank_data.csv')\n",
    "bank"
   ]
  },
  {
   "cell_type": "markdown",
   "metadata": {},
   "source": [
    ">__Task 21__\n",
    ">\n",
    ">Select __age__ column as a series and confirm the result by checking its data type"
   ]
  },
  {
   "cell_type": "code",
   "execution_count": 1312,
   "metadata": {},
   "outputs": [
    {
     "name": "stdout",
     "output_type": "stream",
     "text": [
      "<class 'pandas.core.series.Series'>\n"
     ]
    }
   ],
   "source": [
    "age_series = bank['age']\n",
    "age_series\n",
    "print(type(age_series))"
   ]
  },
  {
   "cell_type": "code",
   "execution_count": 1313,
   "metadata": {},
   "outputs": [
    {
     "name": "stdout",
     "output_type": "stream",
     "text": [
      "float64\n"
     ]
    }
   ],
   "source": [
    "# Return data type\n",
    "print(age_series.dtype)"
   ]
  },
  {
   "cell_type": "markdown",
   "metadata": {},
   "source": [
    "Notice that __`df[...]` returns a series and `df[[...]]` returns a data frame__."
   ]
  },
  {
   "cell_type": "markdown",
   "metadata": {},
   "source": [
    ">__Task 22__\n",
    ">\n",
    ">Select columns __job__, __education__, and __balance__ as a data frame and confirm the result by checking its data type"
   ]
  },
  {
   "cell_type": "code",
   "execution_count": 1314,
   "metadata": {},
   "outputs": [
    {
     "data": {
      "text/html": [
       "<div>\n",
       "<style scoped>\n",
       "    .dataframe tbody tr th:only-of-type {\n",
       "        vertical-align: middle;\n",
       "    }\n",
       "\n",
       "    .dataframe tbody tr th {\n",
       "        vertical-align: top;\n",
       "    }\n",
       "\n",
       "    .dataframe thead th {\n",
       "        text-align: right;\n",
       "    }\n",
       "</style>\n",
       "<table border=\"1\" class=\"dataframe\">\n",
       "  <thead>\n",
       "    <tr style=\"text-align: right;\">\n",
       "      <th></th>\n",
       "      <th>age</th>\n",
       "      <th>education</th>\n",
       "      <th>balance</th>\n",
       "    </tr>\n",
       "  </thead>\n",
       "  <tbody>\n",
       "    <tr>\n",
       "      <th>0</th>\n",
       "      <td>30.0</td>\n",
       "      <td>primary</td>\n",
       "      <td>1787.0</td>\n",
       "    </tr>\n",
       "    <tr>\n",
       "      <th>1</th>\n",
       "      <td>33.0</td>\n",
       "      <td>secondary</td>\n",
       "      <td>4789.0</td>\n",
       "    </tr>\n",
       "    <tr>\n",
       "      <th>2</th>\n",
       "      <td>35.0</td>\n",
       "      <td>tertiary</td>\n",
       "      <td>1350.0</td>\n",
       "    </tr>\n",
       "    <tr>\n",
       "      <th>3</th>\n",
       "      <td>30.0</td>\n",
       "      <td>tertiary</td>\n",
       "      <td>NaN</td>\n",
       "    </tr>\n",
       "    <tr>\n",
       "      <th>4</th>\n",
       "      <td>59.0</td>\n",
       "      <td>secondary</td>\n",
       "      <td>0.0</td>\n",
       "    </tr>\n",
       "    <tr>\n",
       "      <th>...</th>\n",
       "      <td>...</td>\n",
       "      <td>...</td>\n",
       "      <td>...</td>\n",
       "    </tr>\n",
       "    <tr>\n",
       "      <th>4516</th>\n",
       "      <td>33.0</td>\n",
       "      <td>secondary</td>\n",
       "      <td>-333.0</td>\n",
       "    </tr>\n",
       "    <tr>\n",
       "      <th>4517</th>\n",
       "      <td>57.0</td>\n",
       "      <td>tertiary</td>\n",
       "      <td>-3313.0</td>\n",
       "    </tr>\n",
       "    <tr>\n",
       "      <th>4518</th>\n",
       "      <td>57.0</td>\n",
       "      <td>secondary</td>\n",
       "      <td>295.0</td>\n",
       "    </tr>\n",
       "    <tr>\n",
       "      <th>4519</th>\n",
       "      <td>28.0</td>\n",
       "      <td>secondary</td>\n",
       "      <td>1137.0</td>\n",
       "    </tr>\n",
       "    <tr>\n",
       "      <th>4520</th>\n",
       "      <td>44.0</td>\n",
       "      <td>tertiary</td>\n",
       "      <td>1136.0</td>\n",
       "    </tr>\n",
       "  </tbody>\n",
       "</table>\n",
       "<p>4521 rows × 3 columns</p>\n",
       "</div>"
      ],
      "text/plain": [
       "       age  education  balance\n",
       "0     30.0    primary   1787.0\n",
       "1     33.0  secondary   4789.0\n",
       "2     35.0   tertiary   1350.0\n",
       "3     30.0   tertiary      NaN\n",
       "4     59.0  secondary      0.0\n",
       "...    ...        ...      ...\n",
       "4516  33.0  secondary   -333.0\n",
       "4517  57.0   tertiary  -3313.0\n",
       "4518  57.0  secondary    295.0\n",
       "4519  28.0  secondary   1137.0\n",
       "4520  44.0   tertiary   1136.0\n",
       "\n",
       "[4521 rows x 3 columns]"
      ]
     },
     "execution_count": 1314,
     "metadata": {},
     "output_type": "execute_result"
    }
   ],
   "source": [
    "task_22 = bank[['age', 'education', 'balance']]\n",
    "task_22"
   ]
  },
  {
   "cell_type": "code",
   "execution_count": 1315,
   "metadata": {},
   "outputs": [
    {
     "name": "stdout",
     "output_type": "stream",
     "text": [
      "==> Data type of whole: \n",
      "<class 'pandas.core.frame.DataFrame'>\n",
      "\n",
      "==> Data type of all individual columns: \n",
      "age          float64\n",
      "education     object\n",
      "balance      float64\n",
      "dtype: object\n",
      "\n"
     ]
    }
   ],
   "source": [
    "# Return data type\n",
    "print(f\"==> Data type of whole: \\n{type(task_22)}\\n\")\n",
    "print(f\"==> Data type of all individual columns: \\n{task_22.dtypes}\\n\")"
   ]
  },
  {
   "cell_type": "markdown",
   "metadata": {},
   "source": [
    ">__Task 23__\n",
    ">\n",
    ">Retrieve the last 7 rows and first 5 columns from the __bank__ data"
   ]
  },
  {
   "cell_type": "code",
   "execution_count": 1316,
   "metadata": {},
   "outputs": [
    {
     "name": "stdout",
     "output_type": "stream",
     "text": [
      "       age            job  marital  education default\n",
      "4514  38.0    blue-collar  married  secondary      no\n",
      "4515  32.0       services   single  secondary      no\n",
      "4516  33.0       services  married  secondary      no\n",
      "4517  57.0  self-employed  married   tertiary     yes\n",
      "4518  57.0     technician  married  secondary      no\n",
      "4519  28.0    blue-collar  married  secondary      no\n",
      "4520  44.0   entrepreneur   single   tertiary      no\n"
     ]
    }
   ],
   "source": [
    "# last 7 rows, first 5 columns\n",
    "task_23 = bank.iloc[-7:, :5] \n",
    "print(task_23)\n"
   ]
  },
  {
   "cell_type": "markdown",
   "metadata": {},
   "source": [
    "### Dates and Times"
   ]
  },
  {
   "cell_type": "markdown",
   "metadata": {},
   "source": [
    "Let's create a new column of the client contact dates using the __bank__ data:"
   ]
  },
  {
   "cell_type": "code",
   "execution_count": 1317,
   "metadata": {},
   "outputs": [
    {
     "data": {
      "text/plain": [
       "0       2022-10-19\n",
       "1        2022-5-11\n",
       "2        2022-4-16\n",
       "3         2022-6-3\n",
       "4         2022-5-5\n",
       "           ...    \n",
       "4516     2022-7-30\n",
       "4517      2022-5-9\n",
       "4518     2022-8-19\n",
       "4519      2022-2-6\n",
       "4520      2022-4-3\n",
       "Name: contact_date, Length: 4521, dtype: object"
      ]
     },
     "execution_count": 1317,
     "metadata": {},
     "output_type": "execute_result"
    }
   ],
   "source": [
    "bank['contact_date'] = bank['year'].astype(str)+'-'+bank['month'].astype(str)+'-'+bank['day'].astype(int).astype(str)\n",
    "bank['contact_date']"
   ]
  },
  {
   "cell_type": "markdown",
   "metadata": {},
   "source": [
    "The last line above shows that the dtype (data type) is a generic object, not a datetime type."
   ]
  },
  {
   "cell_type": "markdown",
   "metadata": {},
   "source": [
    ">__Task 24__\n",
    ">\n",
    ">Convert the __contact_date__ column to a datetime object"
   ]
  },
  {
   "cell_type": "code",
   "execution_count": 1318,
   "metadata": {},
   "outputs": [
    {
     "data": {
      "text/plain": [
       "0      2022-10-19\n",
       "1      2022-05-11\n",
       "2      2022-04-16\n",
       "3      2022-06-03\n",
       "4      2022-05-05\n",
       "          ...    \n",
       "4516   2022-07-30\n",
       "4517   2022-05-09\n",
       "4518   2022-08-19\n",
       "4519   2022-02-06\n",
       "4520   2022-04-03\n",
       "Name: contact_date, Length: 4521, dtype: datetime64[ns]"
      ]
     },
     "execution_count": 1318,
     "metadata": {},
     "output_type": "execute_result"
    }
   ],
   "source": [
    "bank['contact_date'] = pd.to_datetime(bank[['year','month','day']])\n",
    "bank['contact_date']"
   ]
  },
  {
   "cell_type": "markdown",
   "metadata": {},
   "source": [
    "Now, it is properly read as date."
   ]
  },
  {
   "cell_type": "markdown",
   "metadata": {
    "id": "jth-1Pmk3x4l"
   },
   "source": [
    "## Data Manipulation"
   ]
  },
  {
   "cell_type": "code",
   "execution_count": 1319,
   "metadata": {},
   "outputs": [],
   "source": [
    "import warnings\n",
    "warnings.filterwarnings(\"ignore\")"
   ]
  },
  {
   "cell_type": "markdown",
   "metadata": {},
   "source": [
    ">__Task 25__\n",
    ">\n",
    ">Import the data file \"hc_train.csv\" and explore the first 5 rows"
   ]
  },
  {
   "cell_type": "code",
   "execution_count": 1320,
   "metadata": {},
   "outputs": [
    {
     "data": {
      "text/html": [
       "<div>\n",
       "<style scoped>\n",
       "    .dataframe tbody tr th:only-of-type {\n",
       "        vertical-align: middle;\n",
       "    }\n",
       "\n",
       "    .dataframe tbody tr th {\n",
       "        vertical-align: top;\n",
       "    }\n",
       "\n",
       "    .dataframe thead th {\n",
       "        text-align: right;\n",
       "    }\n",
       "</style>\n",
       "<table border=\"1\" class=\"dataframe\">\n",
       "  <thead>\n",
       "    <tr style=\"text-align: right;\">\n",
       "      <th></th>\n",
       "      <th>Unnamed: 0</th>\n",
       "      <th>case_id</th>\n",
       "      <th>Hospital_code</th>\n",
       "      <th>Hospital_type_code</th>\n",
       "      <th>City_Code_Hospital</th>\n",
       "      <th>Hospital_region_code</th>\n",
       "      <th>Available Extra Rooms in Hospital</th>\n",
       "      <th>Department</th>\n",
       "      <th>Ward_Type</th>\n",
       "      <th>Ward_Facility_Code</th>\n",
       "      <th>Bed Grade</th>\n",
       "      <th>patientid</th>\n",
       "      <th>City_Code_Patient</th>\n",
       "      <th>Type of Admission</th>\n",
       "      <th>Severity of Illness</th>\n",
       "      <th>Visitors with Patient</th>\n",
       "      <th>Age</th>\n",
       "      <th>Admission_Deposit</th>\n",
       "      <th>Stay</th>\n",
       "    </tr>\n",
       "  </thead>\n",
       "  <tbody>\n",
       "    <tr>\n",
       "      <th>0</th>\n",
       "      <td>119967</td>\n",
       "      <td>119968</td>\n",
       "      <td>27</td>\n",
       "      <td>a</td>\n",
       "      <td>7</td>\n",
       "      <td>Y</td>\n",
       "      <td>3</td>\n",
       "      <td>gynecology</td>\n",
       "      <td>R</td>\n",
       "      <td>C</td>\n",
       "      <td>2.0</td>\n",
       "      <td>11389</td>\n",
       "      <td>8.0</td>\n",
       "      <td>Emergency</td>\n",
       "      <td>Minor</td>\n",
       "      <td>2</td>\n",
       "      <td>11-20</td>\n",
       "      <td>5072.0</td>\n",
       "      <td>21-30</td>\n",
       "    </tr>\n",
       "    <tr>\n",
       "      <th>1</th>\n",
       "      <td>92433</td>\n",
       "      <td>92434</td>\n",
       "      <td>6</td>\n",
       "      <td>a</td>\n",
       "      <td>6</td>\n",
       "      <td>X</td>\n",
       "      <td>4</td>\n",
       "      <td>gynecology</td>\n",
       "      <td>Q</td>\n",
       "      <td>F</td>\n",
       "      <td>1.0</td>\n",
       "      <td>12522</td>\n",
       "      <td>2.0</td>\n",
       "      <td>Emergency</td>\n",
       "      <td>Extreme</td>\n",
       "      <td>4</td>\n",
       "      <td>31-40</td>\n",
       "      <td>3585.0</td>\n",
       "      <td>21-30</td>\n",
       "    </tr>\n",
       "    <tr>\n",
       "      <th>2</th>\n",
       "      <td>132258</td>\n",
       "      <td>132259</td>\n",
       "      <td>16</td>\n",
       "      <td>c</td>\n",
       "      <td>3</td>\n",
       "      <td>Z</td>\n",
       "      <td>4</td>\n",
       "      <td>gynecology</td>\n",
       "      <td>S</td>\n",
       "      <td>A</td>\n",
       "      <td>3.0</td>\n",
       "      <td>119556</td>\n",
       "      <td>8.0</td>\n",
       "      <td>Trauma</td>\n",
       "      <td>Moderate</td>\n",
       "      <td>6</td>\n",
       "      <td>71-80</td>\n",
       "      <td>4013.0</td>\n",
       "      <td>More than 100 Days</td>\n",
       "    </tr>\n",
       "    <tr>\n",
       "      <th>3</th>\n",
       "      <td>168439</td>\n",
       "      <td>168440</td>\n",
       "      <td>23</td>\n",
       "      <td>a</td>\n",
       "      <td>6</td>\n",
       "      <td>X</td>\n",
       "      <td>2</td>\n",
       "      <td>anesthesia</td>\n",
       "      <td>S</td>\n",
       "      <td>F</td>\n",
       "      <td>3.0</td>\n",
       "      <td>107177</td>\n",
       "      <td>8.0</td>\n",
       "      <td>Urgent</td>\n",
       "      <td>Extreme</td>\n",
       "      <td>2</td>\n",
       "      <td>71-80</td>\n",
       "      <td>5160.0</td>\n",
       "      <td>21-30</td>\n",
       "    </tr>\n",
       "    <tr>\n",
       "      <th>4</th>\n",
       "      <td>82100</td>\n",
       "      <td>82101</td>\n",
       "      <td>25</td>\n",
       "      <td>e</td>\n",
       "      <td>1</td>\n",
       "      <td>X</td>\n",
       "      <td>3</td>\n",
       "      <td>gynecology</td>\n",
       "      <td>R</td>\n",
       "      <td>E</td>\n",
       "      <td>3.0</td>\n",
       "      <td>64508</td>\n",
       "      <td>13.0</td>\n",
       "      <td>Trauma</td>\n",
       "      <td>Moderate</td>\n",
       "      <td>3</td>\n",
       "      <td>61-70</td>\n",
       "      <td>4099.0</td>\n",
       "      <td>21-30</td>\n",
       "    </tr>\n",
       "  </tbody>\n",
       "</table>\n",
       "</div>"
      ],
      "text/plain": [
       "   Unnamed: 0  case_id  Hospital_code Hospital_type_code  City_Code_Hospital  \\\n",
       "0      119967   119968             27                  a                   7   \n",
       "1       92433    92434              6                  a                   6   \n",
       "2      132258   132259             16                  c                   3   \n",
       "3      168439   168440             23                  a                   6   \n",
       "4       82100    82101             25                  e                   1   \n",
       "\n",
       "  Hospital_region_code  Available Extra Rooms in Hospital  Department  \\\n",
       "0                    Y                                  3  gynecology   \n",
       "1                    X                                  4  gynecology   \n",
       "2                    Z                                  4  gynecology   \n",
       "3                    X                                  2  anesthesia   \n",
       "4                    X                                  3  gynecology   \n",
       "\n",
       "  Ward_Type Ward_Facility_Code  Bed Grade  patientid  City_Code_Patient  \\\n",
       "0         R                  C        2.0      11389                8.0   \n",
       "1         Q                  F        1.0      12522                2.0   \n",
       "2         S                  A        3.0     119556                8.0   \n",
       "3         S                  F        3.0     107177                8.0   \n",
       "4         R                  E        3.0      64508               13.0   \n",
       "\n",
       "  Type of Admission Severity of Illness  Visitors with Patient    Age  \\\n",
       "0         Emergency               Minor                      2  11-20   \n",
       "1         Emergency             Extreme                      4  31-40   \n",
       "2            Trauma            Moderate                      6  71-80   \n",
       "3            Urgent             Extreme                      2  71-80   \n",
       "4            Trauma            Moderate                      3  61-70   \n",
       "\n",
       "   Admission_Deposit                Stay  \n",
       "0             5072.0               21-30  \n",
       "1             3585.0               21-30  \n",
       "2             4013.0  More than 100 Days  \n",
       "3             5160.0               21-30  \n",
       "4             4099.0               21-30  "
      ]
     },
     "execution_count": 1320,
     "metadata": {},
     "output_type": "execute_result"
    }
   ],
   "source": [
    "hc = pd.read_csv('hc_train.csv')\n",
    "hc.head()"
   ]
  },
  {
   "cell_type": "markdown",
   "metadata": {
    "id": "2ekrnwtfeTz5"
   },
   "source": [
    ">__Task 26__\n",
    ">\n",
    ">Convert the values of the __Department__ column to uppercase"
   ]
  },
  {
   "cell_type": "code",
   "execution_count": 1321,
   "metadata": {
    "colab": {
     "base_uri": "https://localhost:8080/"
    },
    "id": "ytiyoRhWeUlo",
    "outputId": "46e64ef8-8f21-4071-bb24-44cc3c720ea1"
   },
   "outputs": [
    {
     "data": {
      "text/html": [
       "<div>\n",
       "<style scoped>\n",
       "    .dataframe tbody tr th:only-of-type {\n",
       "        vertical-align: middle;\n",
       "    }\n",
       "\n",
       "    .dataframe tbody tr th {\n",
       "        vertical-align: top;\n",
       "    }\n",
       "\n",
       "    .dataframe thead th {\n",
       "        text-align: right;\n",
       "    }\n",
       "</style>\n",
       "<table border=\"1\" class=\"dataframe\">\n",
       "  <thead>\n",
       "    <tr style=\"text-align: right;\">\n",
       "      <th></th>\n",
       "      <th>Unnamed: 0</th>\n",
       "      <th>case_id</th>\n",
       "      <th>Hospital_code</th>\n",
       "      <th>Hospital_type_code</th>\n",
       "      <th>City_Code_Hospital</th>\n",
       "      <th>Hospital_region_code</th>\n",
       "      <th>Available Extra Rooms in Hospital</th>\n",
       "      <th>Department</th>\n",
       "      <th>Ward_Type</th>\n",
       "      <th>Ward_Facility_Code</th>\n",
       "      <th>Bed Grade</th>\n",
       "      <th>patientid</th>\n",
       "      <th>City_Code_Patient</th>\n",
       "      <th>Type of Admission</th>\n",
       "      <th>Severity of Illness</th>\n",
       "      <th>Visitors with Patient</th>\n",
       "      <th>Age</th>\n",
       "      <th>Admission_Deposit</th>\n",
       "      <th>Stay</th>\n",
       "    </tr>\n",
       "  </thead>\n",
       "  <tbody>\n",
       "    <tr>\n",
       "      <th>0</th>\n",
       "      <td>119967</td>\n",
       "      <td>119968</td>\n",
       "      <td>27</td>\n",
       "      <td>a</td>\n",
       "      <td>7</td>\n",
       "      <td>Y</td>\n",
       "      <td>3</td>\n",
       "      <td>GYNECOLOGY</td>\n",
       "      <td>R</td>\n",
       "      <td>C</td>\n",
       "      <td>2.0</td>\n",
       "      <td>11389</td>\n",
       "      <td>8.0</td>\n",
       "      <td>Emergency</td>\n",
       "      <td>Minor</td>\n",
       "      <td>2</td>\n",
       "      <td>11-20</td>\n",
       "      <td>5072.0</td>\n",
       "      <td>21-30</td>\n",
       "    </tr>\n",
       "    <tr>\n",
       "      <th>1</th>\n",
       "      <td>92433</td>\n",
       "      <td>92434</td>\n",
       "      <td>6</td>\n",
       "      <td>a</td>\n",
       "      <td>6</td>\n",
       "      <td>X</td>\n",
       "      <td>4</td>\n",
       "      <td>GYNECOLOGY</td>\n",
       "      <td>Q</td>\n",
       "      <td>F</td>\n",
       "      <td>1.0</td>\n",
       "      <td>12522</td>\n",
       "      <td>2.0</td>\n",
       "      <td>Emergency</td>\n",
       "      <td>Extreme</td>\n",
       "      <td>4</td>\n",
       "      <td>31-40</td>\n",
       "      <td>3585.0</td>\n",
       "      <td>21-30</td>\n",
       "    </tr>\n",
       "    <tr>\n",
       "      <th>2</th>\n",
       "      <td>132258</td>\n",
       "      <td>132259</td>\n",
       "      <td>16</td>\n",
       "      <td>c</td>\n",
       "      <td>3</td>\n",
       "      <td>Z</td>\n",
       "      <td>4</td>\n",
       "      <td>GYNECOLOGY</td>\n",
       "      <td>S</td>\n",
       "      <td>A</td>\n",
       "      <td>3.0</td>\n",
       "      <td>119556</td>\n",
       "      <td>8.0</td>\n",
       "      <td>Trauma</td>\n",
       "      <td>Moderate</td>\n",
       "      <td>6</td>\n",
       "      <td>71-80</td>\n",
       "      <td>4013.0</td>\n",
       "      <td>More than 100 Days</td>\n",
       "    </tr>\n",
       "    <tr>\n",
       "      <th>3</th>\n",
       "      <td>168439</td>\n",
       "      <td>168440</td>\n",
       "      <td>23</td>\n",
       "      <td>a</td>\n",
       "      <td>6</td>\n",
       "      <td>X</td>\n",
       "      <td>2</td>\n",
       "      <td>ANESTHESIA</td>\n",
       "      <td>S</td>\n",
       "      <td>F</td>\n",
       "      <td>3.0</td>\n",
       "      <td>107177</td>\n",
       "      <td>8.0</td>\n",
       "      <td>Urgent</td>\n",
       "      <td>Extreme</td>\n",
       "      <td>2</td>\n",
       "      <td>71-80</td>\n",
       "      <td>5160.0</td>\n",
       "      <td>21-30</td>\n",
       "    </tr>\n",
       "    <tr>\n",
       "      <th>4</th>\n",
       "      <td>82100</td>\n",
       "      <td>82101</td>\n",
       "      <td>25</td>\n",
       "      <td>e</td>\n",
       "      <td>1</td>\n",
       "      <td>X</td>\n",
       "      <td>3</td>\n",
       "      <td>GYNECOLOGY</td>\n",
       "      <td>R</td>\n",
       "      <td>E</td>\n",
       "      <td>3.0</td>\n",
       "      <td>64508</td>\n",
       "      <td>13.0</td>\n",
       "      <td>Trauma</td>\n",
       "      <td>Moderate</td>\n",
       "      <td>3</td>\n",
       "      <td>61-70</td>\n",
       "      <td>4099.0</td>\n",
       "      <td>21-30</td>\n",
       "    </tr>\n",
       "  </tbody>\n",
       "</table>\n",
       "</div>"
      ],
      "text/plain": [
       "   Unnamed: 0  case_id  Hospital_code Hospital_type_code  City_Code_Hospital  \\\n",
       "0      119967   119968             27                  a                   7   \n",
       "1       92433    92434              6                  a                   6   \n",
       "2      132258   132259             16                  c                   3   \n",
       "3      168439   168440             23                  a                   6   \n",
       "4       82100    82101             25                  e                   1   \n",
       "\n",
       "  Hospital_region_code  Available Extra Rooms in Hospital  Department  \\\n",
       "0                    Y                                  3  GYNECOLOGY   \n",
       "1                    X                                  4  GYNECOLOGY   \n",
       "2                    Z                                  4  GYNECOLOGY   \n",
       "3                    X                                  2  ANESTHESIA   \n",
       "4                    X                                  3  GYNECOLOGY   \n",
       "\n",
       "  Ward_Type Ward_Facility_Code  Bed Grade  patientid  City_Code_Patient  \\\n",
       "0         R                  C        2.0      11389                8.0   \n",
       "1         Q                  F        1.0      12522                2.0   \n",
       "2         S                  A        3.0     119556                8.0   \n",
       "3         S                  F        3.0     107177                8.0   \n",
       "4         R                  E        3.0      64508               13.0   \n",
       "\n",
       "  Type of Admission Severity of Illness  Visitors with Patient    Age  \\\n",
       "0         Emergency               Minor                      2  11-20   \n",
       "1         Emergency             Extreme                      4  31-40   \n",
       "2            Trauma            Moderate                      6  71-80   \n",
       "3            Urgent             Extreme                      2  71-80   \n",
       "4            Trauma            Moderate                      3  61-70   \n",
       "\n",
       "   Admission_Deposit                Stay  \n",
       "0             5072.0               21-30  \n",
       "1             3585.0               21-30  \n",
       "2             4013.0  More than 100 Days  \n",
       "3             5160.0               21-30  \n",
       "4             4099.0               21-30  "
      ]
     },
     "execution_count": 1321,
     "metadata": {},
     "output_type": "execute_result"
    }
   ],
   "source": [
    "hc['Department'] = hc['Department'].str.upper()\n",
    "hc.head()"
   ]
  },
  {
   "cell_type": "markdown",
   "metadata": {},
   "source": [
    "### Replace Values"
   ]
  },
  {
   "cell_type": "markdown",
   "metadata": {
    "id": "G5ds0GfseWmi"
   },
   "source": [
    ">__Task 27__\n",
    ">\n",
    ">Replace `TB & Chest disease` in the __Department__ column with `Tuberculosis & Chest`"
   ]
  },
  {
   "cell_type": "code",
   "execution_count": 1322,
   "metadata": {},
   "outputs": [
    {
     "data": {
      "text/plain": [
       "array(['GYNECOLOGY', 'ANESTHESIA', 'RADIOTHERAPY', 'SURGERY',\n",
       "       'TB & CHEST DISEASE'], dtype=object)"
      ]
     },
     "execution_count": 1322,
     "metadata": {},
     "output_type": "execute_result"
    }
   ],
   "source": [
    "hc['Department'].unique()"
   ]
  },
  {
   "cell_type": "code",
   "execution_count": 1323,
   "metadata": {
    "colab": {
     "base_uri": "https://localhost:8080/",
     "height": 713
    },
    "id": "TS2sTxj2eZOR",
    "outputId": "1fb8e069-c456-4861-ffab-228e3d0511d0"
   },
   "outputs": [
    {
     "data": {
      "text/plain": [
       "array(['GYNECOLOGY', 'ANESTHESIA', 'RADIOTHERAPY', 'SURGERY',\n",
       "       'TUBERCULOSIS & CHEST'], dtype=object)"
      ]
     },
     "execution_count": 1323,
     "metadata": {},
     "output_type": "execute_result"
    }
   ],
   "source": [
    "\n",
    "hc['Department'] = hc['Department'].str.replace('TB & Chest disease'.upper(), 'Tuberculosis & Chest'.upper())\n",
    "# Print unique variables in the column to confirm the change \n",
    "hc['Department'].unique()"
   ]
  },
  {
   "cell_type": "markdown",
   "metadata": {},
   "source": [
    "We can also replace with different values by passing a list or dict as substitutes."
   ]
  },
  {
   "cell_type": "markdown",
   "metadata": {
    "id": "g-eYiLvtebH3"
   },
   "source": [
    ">__Task 28__\n",
    ">\n",
    ">Replace values in the __Severity of Illness__ column with a dictionary that maps variables below:\n",
    ">\n",
    ">- Extreme: '3rd degree'\n",
    ">- Moderate: '2nd degree'\n",
    ">- Minor: '1st degree'"
   ]
  },
  {
   "cell_type": "code",
   "execution_count": 1324,
   "metadata": {},
   "outputs": [
    {
     "data": {
      "text/plain": [
       "array(['Minor', 'Extreme', 'Moderate'], dtype=object)"
      ]
     },
     "execution_count": 1324,
     "metadata": {},
     "output_type": "execute_result"
    }
   ],
   "source": [
    "# list(hc.columns)\n",
    "hc['Severity of Illness'].unique()"
   ]
  },
  {
   "cell_type": "code",
   "execution_count": 1325,
   "metadata": {
    "colab": {
     "base_uri": "https://localhost:8080/",
     "height": 713
    },
    "id": "9TW2gepxeeUi",
    "outputId": "f2a73e36-9379-46f1-be50-3f8ab5f2637d"
   },
   "outputs": [
    {
     "data": {
      "text/plain": [
       "array(['1st degree', '3rd degree', '2nd degree'], dtype=object)"
      ]
     },
     "execution_count": 1325,
     "metadata": {},
     "output_type": "execute_result"
    }
   ],
   "source": [
    "# Create a dict\n",
    "map_dict = {\n",
    "    'Extreme': '3rd degree',\n",
    "    'Moderate': '2nd degree',\n",
    "    'Minor': '1st degree'\n",
    "    }\n",
    "# Replace values with the dict\n",
    "# hc['Severity of Illness'] = hc['Severity of Illness'].map(map_dict)   # changes all values, non-matching keys become NaN\n",
    "hc['Severity of Illness'] = hc['Severity of Illness'].replace(map_dict) # only changes matching keys\n",
    "\n",
    "hc['Severity of Illness'].unique()\n",
    "# hc['Severity of Illness']\n"
   ]
  },
  {
   "cell_type": "markdown",
   "metadata": {},
   "source": [
    "### Rename Column and Row Labels"
   ]
  },
  {
   "cell_type": "markdown",
   "metadata": {
    "id": "TRNs_NEieg7u"
   },
   "source": [
    ">__Task 29__\n",
    ">\n",
    ">Rename all column headings to their lowercase values by passing a `str` function"
   ]
  },
  {
   "cell_type": "code",
   "execution_count": 1326,
   "metadata": {
    "colab": {
     "base_uri": "https://localhost:8080/",
     "height": 713
    },
    "id": "5H31dRX3ejAR",
    "outputId": "978af9b3-dae8-4f32-f410-fd6908bf6744"
   },
   "outputs": [
    {
     "data": {
      "text/plain": [
       "Index(['unnamed: 0', 'case_id', 'hospital_code', 'hospital_type_code',\n",
       "       'city_code_hospital', 'hospital_region_code',\n",
       "       'available extra rooms in hospital', 'department', 'ward_type',\n",
       "       'ward_facility_code', 'bed grade', 'patientid', 'city_code_patient',\n",
       "       'type of admission', 'severity of illness', 'visitors with patient',\n",
       "       'age', 'admission_deposit', 'stay'],\n",
       "      dtype='object')"
      ]
     },
     "execution_count": 1326,
     "metadata": {},
     "output_type": "execute_result"
    }
   ],
   "source": [
    "hc.columns = hc.columns.str.lower()\n",
    "hc.columns\n"
   ]
  },
  {
   "cell_type": "markdown",
   "metadata": {
    "id": "v-u31QGPepPQ"
   },
   "source": [
    ">__Task 30__\n",
    ">\n",
    ">Rename the column headings below using a dictionary that maps\n",
    ">\n",
    ">- `Severity of Illness` to `Severity`\n",
    ">- `case_id` to `ID`"
   ]
  },
  {
   "cell_type": "code",
   "execution_count": 1327,
   "metadata": {
    "colab": {
     "base_uri": "https://localhost:8080/",
     "height": 713
    },
    "id": "kiObkYq4ep9Y",
    "outputId": "95d8ee67-03da-433d-a3b8-35e85656a7fb"
   },
   "outputs": [
    {
     "data": {
      "text/plain": [
       "Index(['unnamed: 0', 'ID', 'hospital_code', 'hospital_type_code',\n",
       "       'city_code_hospital', 'hospital_region_code',\n",
       "       'available extra rooms in hospital', 'department', 'ward_type',\n",
       "       'ward_facility_code', 'bed grade', 'patientid', 'city_code_patient',\n",
       "       'type of admission', 'Severity', 'visitors with patient', 'age',\n",
       "       'admission_deposit', 'stay'],\n",
       "      dtype='object')"
      ]
     },
     "execution_count": 1327,
     "metadata": {},
     "output_type": "execute_result"
    }
   ],
   "source": [
    "col_dict = {\n",
    "    'severity of illness': 'Severity',\n",
    "    'case_id': 'ID'\n",
    "    }\n",
    "hc = hc.rename(columns=col_dict)\n",
    "hc.columns"
   ]
  },
  {
   "cell_type": "markdown",
   "metadata": {},
   "source": [
    "### Binning Methods"
   ]
  },
  {
   "cell_type": "markdown",
   "metadata": {
    "id": "yaL2ymhuergj"
   },
   "source": [
    ">__Task 31__\n",
    ">\n",
    ">Group the case IDs into three categories below:\n",
    ">\n",
    ">- (0, 100000) to `old case`\n",
    ">- (100001-200000) to `recent case`\n",
    ">- (200001-last) to `new case`"
   ]
  },
  {
   "cell_type": "code",
   "execution_count": 1328,
   "metadata": {},
   "outputs": [
    {
     "data": {
      "text/plain": [
       "np.int64(318438)"
      ]
     },
     "execution_count": 1328,
     "metadata": {},
     "output_type": "execute_result"
    }
   ],
   "source": [
    "# Check the maximum value of the column\n",
    "hc['ID'].max()"
   ]
  },
  {
   "cell_type": "code",
   "execution_count": 1329,
   "metadata": {
    "colab": {
     "base_uri": "https://localhost:8080/"
    },
    "id": "BhywGdWqetue",
    "outputId": "73330599-6e8a-4af7-ddb3-66d798e184a6"
   },
   "outputs": [
    {
     "name": "stdout",
     "output_type": "stream",
     "text": [
      "0    recent case\n",
      "1       old case\n",
      "2    recent case\n",
      "3    recent case\n",
      "4       old case\n",
      "Name: ID, dtype: category\n",
      "Categories (3, object): ['old case' < 'recent case' < 'new case']\n"
     ]
    },
    {
     "data": {
      "text/plain": [
       "0        recent case\n",
       "1           old case\n",
       "2        recent case\n",
       "3        recent case\n",
       "4           old case\n",
       "            ...     \n",
       "51233       new case\n",
       "51234       new case\n",
       "51235       old case\n",
       "51236    recent case\n",
       "51237       new case\n",
       "Name: ID, Length: 51238, dtype: category\n",
       "Categories (3, object): ['old case' < 'recent case' < 'new case']"
      ]
     },
     "execution_count": 1329,
     "metadata": {},
     "output_type": "execute_result"
    }
   ],
   "source": [
    "bins = [0, 100000, 200000, float('inf')]\n",
    "labels = ['old case', 'recent case', 'new case']\n",
    "\n",
    "group = pd.cut(hc['ID'], bins=bins, labels=labels, include_lowest=True)\n",
    "print(group.head())\n",
    "group"
   ]
  },
  {
   "cell_type": "markdown",
   "metadata": {
    "id": "07mA3j8XevvX"
   },
   "source": [
    ">__Task 32__\n",
    ">\n",
    ">Group the case IDs into to 3 equal-sized bins with 4 decimal places"
   ]
  },
  {
   "cell_type": "code",
   "execution_count": 1330,
   "metadata": {
    "colab": {
     "base_uri": "https://localhost:8080/"
    },
    "id": "dCGKswwuevip",
    "outputId": "4e6b96c3-f9cd-4671-a7c0-36a21a66daf1"
   },
   "outputs": [
    {
     "name": "stdout",
     "output_type": "stream",
     "text": [
      "0    (106146.6667, 212292.3333]\n",
      "1       (-317.437, 106146.6667]\n",
      "2    (106146.6667, 212292.3333]\n",
      "3    (106146.6667, 212292.3333]\n",
      "4       (-317.437, 106146.6667]\n",
      "Name: ID, dtype: category\n",
      "Categories (3, interval[float64, right]): [(-317.437, 106146.6667] < (106146.6667, 212292.3333] < (212292.3333, 318438.0]]\n"
     ]
    },
    {
     "data": {
      "text/plain": [
       "0        (106146.6667, 212292.3333]\n",
       "1           (-317.437, 106146.6667]\n",
       "2        (106146.6667, 212292.3333]\n",
       "3        (106146.6667, 212292.3333]\n",
       "4           (-317.437, 106146.6667]\n",
       "                    ...            \n",
       "51233       (212292.3333, 318438.0]\n",
       "51234       (212292.3333, 318438.0]\n",
       "51235       (-317.437, 106146.6667]\n",
       "51236    (106146.6667, 212292.3333]\n",
       "51237    (106146.6667, 212292.3333]\n",
       "Name: ID, Length: 51238, dtype: category\n",
       "Categories (3, interval[float64, right]): [(-317.437, 106146.6667] < (106146.6667, 212292.3333] < (212292.3333, 318438.0]]"
      ]
     },
     "execution_count": 1330,
     "metadata": {},
     "output_type": "execute_result"
    }
   ],
   "source": [
    "group_equ = pd.cut(hc['ID'], bins=3, precision=4)\n",
    "print(group_equ.head())\n",
    "group_equ"
   ]
  },
  {
   "cell_type": "markdown",
   "metadata": {
    "id": "GX9nOf3Ie1_N"
   },
   "source": [
    ">__Task 33__\n",
    ">\n",
    ">Group the case IDs into 4 quartiles with 2 decimal places"
   ]
  },
  {
   "cell_type": "code",
   "execution_count": 1331,
   "metadata": {
    "colab": {
     "base_uri": "https://localhost:8080/"
    },
    "id": "9WoZEqlle4fB",
    "outputId": "6eedab9e-be30-4165-ac2d-9d293d4e3868"
   },
   "outputs": [
    {
     "data": {
      "text/plain": [
       "0        (79834.25, 159728.5]\n",
       "1        (79834.25, 159728.5]\n",
       "2        (79834.25, 159728.5]\n",
       "3        (159728.5, 238968.5]\n",
       "4        (79834.25, 159728.5]\n",
       "                 ...         \n",
       "51233    (238968.5, 318438.0]\n",
       "51234    (238968.5, 318438.0]\n",
       "51235        (0.99, 79834.25]\n",
       "51236    (79834.25, 159728.5]\n",
       "51237    (159728.5, 238968.5]\n",
       "Name: ID, Length: 51238, dtype: category\n",
       "Categories (4, interval[float64, right]): [(0.99, 79834.25] < (79834.25, 159728.5] < (159728.5, 238968.5] < (238968.5, 318438.0]]"
      ]
     },
     "execution_count": 1331,
     "metadata": {},
     "output_type": "execute_result"
    }
   ],
   "source": [
    "group_qua = pd.qcut(hc['ID'], q=4, precision=2)\n",
    "group_qua"
   ]
  },
  {
   "cell_type": "markdown",
   "metadata": {},
   "source": [
    "### Random Sampling"
   ]
  },
  {
   "cell_type": "markdown",
   "metadata": {},
   "source": [
    ">__Task 34__\n",
    ">\n",
    ">Randomly select 10 data points from the __hc__ data without repeat elements"
   ]
  },
  {
   "cell_type": "code",
   "execution_count": 1332,
   "metadata": {
    "colab": {
     "base_uri": "https://localhost:8080/",
     "height": 653
    },
    "id": "DPOl-Z-wbrIS",
    "outputId": "f4f779c8-830b-4db6-8625-1d017b05c6ba"
   },
   "outputs": [
    {
     "data": {
      "text/html": [
       "<div>\n",
       "<style scoped>\n",
       "    .dataframe tbody tr th:only-of-type {\n",
       "        vertical-align: middle;\n",
       "    }\n",
       "\n",
       "    .dataframe tbody tr th {\n",
       "        vertical-align: top;\n",
       "    }\n",
       "\n",
       "    .dataframe thead th {\n",
       "        text-align: right;\n",
       "    }\n",
       "</style>\n",
       "<table border=\"1\" class=\"dataframe\">\n",
       "  <thead>\n",
       "    <tr style=\"text-align: right;\">\n",
       "      <th></th>\n",
       "      <th>unnamed: 0</th>\n",
       "      <th>ID</th>\n",
       "      <th>hospital_code</th>\n",
       "      <th>hospital_type_code</th>\n",
       "      <th>city_code_hospital</th>\n",
       "      <th>hospital_region_code</th>\n",
       "      <th>available extra rooms in hospital</th>\n",
       "      <th>department</th>\n",
       "      <th>ward_type</th>\n",
       "      <th>ward_facility_code</th>\n",
       "      <th>bed grade</th>\n",
       "      <th>patientid</th>\n",
       "      <th>city_code_patient</th>\n",
       "      <th>type of admission</th>\n",
       "      <th>Severity</th>\n",
       "      <th>visitors with patient</th>\n",
       "      <th>age</th>\n",
       "      <th>admission_deposit</th>\n",
       "      <th>stay</th>\n",
       "    </tr>\n",
       "  </thead>\n",
       "  <tbody>\n",
       "    <tr>\n",
       "      <th>6089</th>\n",
       "      <td>217230</td>\n",
       "      <td>217231</td>\n",
       "      <td>18</td>\n",
       "      <td>d</td>\n",
       "      <td>13</td>\n",
       "      <td>Y</td>\n",
       "      <td>4</td>\n",
       "      <td>GYNECOLOGY</td>\n",
       "      <td>Q</td>\n",
       "      <td>B</td>\n",
       "      <td>2.0</td>\n",
       "      <td>15599</td>\n",
       "      <td>8.0</td>\n",
       "      <td>Trauma</td>\n",
       "      <td>2nd degree</td>\n",
       "      <td>4</td>\n",
       "      <td>41-50</td>\n",
       "      <td>4295.0</td>\n",
       "      <td>31-40</td>\n",
       "    </tr>\n",
       "    <tr>\n",
       "      <th>8861</th>\n",
       "      <td>95205</td>\n",
       "      <td>95206</td>\n",
       "      <td>15</td>\n",
       "      <td>c</td>\n",
       "      <td>5</td>\n",
       "      <td>Z</td>\n",
       "      <td>6</td>\n",
       "      <td>GYNECOLOGY</td>\n",
       "      <td>Q</td>\n",
       "      <td>F</td>\n",
       "      <td>3.0</td>\n",
       "      <td>93915</td>\n",
       "      <td>5.0</td>\n",
       "      <td>Trauma</td>\n",
       "      <td>3rd degree</td>\n",
       "      <td>4</td>\n",
       "      <td>71-80</td>\n",
       "      <td>4713.0</td>\n",
       "      <td>31-40</td>\n",
       "    </tr>\n",
       "    <tr>\n",
       "      <th>30262</th>\n",
       "      <td>51394</td>\n",
       "      <td>51395</td>\n",
       "      <td>29</td>\n",
       "      <td>a</td>\n",
       "      <td>4</td>\n",
       "      <td>X</td>\n",
       "      <td>3</td>\n",
       "      <td>GYNECOLOGY</td>\n",
       "      <td>S</td>\n",
       "      <td>F</td>\n",
       "      <td>4.0</td>\n",
       "      <td>25131</td>\n",
       "      <td>2.0</td>\n",
       "      <td>Emergency</td>\n",
       "      <td>1st degree</td>\n",
       "      <td>4</td>\n",
       "      <td>31-40</td>\n",
       "      <td>4051.0</td>\n",
       "      <td>More than 100 Days</td>\n",
       "    </tr>\n",
       "    <tr>\n",
       "      <th>36566</th>\n",
       "      <td>288453</td>\n",
       "      <td>288454</td>\n",
       "      <td>23</td>\n",
       "      <td>a</td>\n",
       "      <td>6</td>\n",
       "      <td>X</td>\n",
       "      <td>4</td>\n",
       "      <td>GYNECOLOGY</td>\n",
       "      <td>R</td>\n",
       "      <td>F</td>\n",
       "      <td>2.0</td>\n",
       "      <td>17582</td>\n",
       "      <td>4.0</td>\n",
       "      <td>Emergency</td>\n",
       "      <td>1st degree</td>\n",
       "      <td>2</td>\n",
       "      <td>21-30</td>\n",
       "      <td>5733.0</td>\n",
       "      <td>21-30</td>\n",
       "    </tr>\n",
       "    <tr>\n",
       "      <th>17675</th>\n",
       "      <td>202128</td>\n",
       "      <td>202129</td>\n",
       "      <td>23</td>\n",
       "      <td>a</td>\n",
       "      <td>6</td>\n",
       "      <td>X</td>\n",
       "      <td>4</td>\n",
       "      <td>GYNECOLOGY</td>\n",
       "      <td>Q</td>\n",
       "      <td>F</td>\n",
       "      <td>1.0</td>\n",
       "      <td>82953</td>\n",
       "      <td>2.0</td>\n",
       "      <td>Trauma</td>\n",
       "      <td>1st degree</td>\n",
       "      <td>2</td>\n",
       "      <td>51-60</td>\n",
       "      <td>4400.0</td>\n",
       "      <td>11-20</td>\n",
       "    </tr>\n",
       "    <tr>\n",
       "      <th>22733</th>\n",
       "      <td>62650</td>\n",
       "      <td>62651</td>\n",
       "      <td>6</td>\n",
       "      <td>a</td>\n",
       "      <td>6</td>\n",
       "      <td>X</td>\n",
       "      <td>4</td>\n",
       "      <td>GYNECOLOGY</td>\n",
       "      <td>Q</td>\n",
       "      <td>F</td>\n",
       "      <td>3.0</td>\n",
       "      <td>78543</td>\n",
       "      <td>8.0</td>\n",
       "      <td>Trauma</td>\n",
       "      <td>2nd degree</td>\n",
       "      <td>2</td>\n",
       "      <td>31-40</td>\n",
       "      <td>4297.0</td>\n",
       "      <td>21-30</td>\n",
       "    </tr>\n",
       "    <tr>\n",
       "      <th>43235</th>\n",
       "      <td>51920</td>\n",
       "      <td>51921</td>\n",
       "      <td>26</td>\n",
       "      <td>b</td>\n",
       "      <td>2</td>\n",
       "      <td>Y</td>\n",
       "      <td>5</td>\n",
       "      <td>RADIOTHERAPY</td>\n",
       "      <td>S</td>\n",
       "      <td>D</td>\n",
       "      <td>4.0</td>\n",
       "      <td>24315</td>\n",
       "      <td>8.0</td>\n",
       "      <td>Trauma</td>\n",
       "      <td>1st degree</td>\n",
       "      <td>4</td>\n",
       "      <td>31-40</td>\n",
       "      <td>5740.0</td>\n",
       "      <td>21-30</td>\n",
       "    </tr>\n",
       "    <tr>\n",
       "      <th>17696</th>\n",
       "      <td>230337</td>\n",
       "      <td>230338</td>\n",
       "      <td>25</td>\n",
       "      <td>e</td>\n",
       "      <td>1</td>\n",
       "      <td>X</td>\n",
       "      <td>4</td>\n",
       "      <td>GYNECOLOGY</td>\n",
       "      <td>R</td>\n",
       "      <td>E</td>\n",
       "      <td>2.0</td>\n",
       "      <td>36929</td>\n",
       "      <td>1.0</td>\n",
       "      <td>Emergency</td>\n",
       "      <td>2nd degree</td>\n",
       "      <td>3</td>\n",
       "      <td>41-50</td>\n",
       "      <td>4699.0</td>\n",
       "      <td>0-10</td>\n",
       "    </tr>\n",
       "    <tr>\n",
       "      <th>6545</th>\n",
       "      <td>220492</td>\n",
       "      <td>220493</td>\n",
       "      <td>26</td>\n",
       "      <td>b</td>\n",
       "      <td>2</td>\n",
       "      <td>Y</td>\n",
       "      <td>4</td>\n",
       "      <td>GYNECOLOGY</td>\n",
       "      <td>Q</td>\n",
       "      <td>D</td>\n",
       "      <td>3.0</td>\n",
       "      <td>44930</td>\n",
       "      <td>8.0</td>\n",
       "      <td>Trauma</td>\n",
       "      <td>3rd degree</td>\n",
       "      <td>6</td>\n",
       "      <td>51-60</td>\n",
       "      <td>4450.0</td>\n",
       "      <td>71-80</td>\n",
       "    </tr>\n",
       "    <tr>\n",
       "      <th>2743</th>\n",
       "      <td>227982</td>\n",
       "      <td>227983</td>\n",
       "      <td>2</td>\n",
       "      <td>c</td>\n",
       "      <td>5</td>\n",
       "      <td>Z</td>\n",
       "      <td>4</td>\n",
       "      <td>GYNECOLOGY</td>\n",
       "      <td>Q</td>\n",
       "      <td>F</td>\n",
       "      <td>4.0</td>\n",
       "      <td>14715</td>\n",
       "      <td>21.0</td>\n",
       "      <td>Emergency</td>\n",
       "      <td>2nd degree</td>\n",
       "      <td>2</td>\n",
       "      <td>41-50</td>\n",
       "      <td>6152.0</td>\n",
       "      <td>11-20</td>\n",
       "    </tr>\n",
       "  </tbody>\n",
       "</table>\n",
       "</div>"
      ],
      "text/plain": [
       "       unnamed: 0      ID  hospital_code hospital_type_code  \\\n",
       "6089       217230  217231             18                  d   \n",
       "8861        95205   95206             15                  c   \n",
       "30262       51394   51395             29                  a   \n",
       "36566      288453  288454             23                  a   \n",
       "17675      202128  202129             23                  a   \n",
       "22733       62650   62651              6                  a   \n",
       "43235       51920   51921             26                  b   \n",
       "17696      230337  230338             25                  e   \n",
       "6545       220492  220493             26                  b   \n",
       "2743       227982  227983              2                  c   \n",
       "\n",
       "       city_code_hospital hospital_region_code  \\\n",
       "6089                   13                    Y   \n",
       "8861                    5                    Z   \n",
       "30262                   4                    X   \n",
       "36566                   6                    X   \n",
       "17675                   6                    X   \n",
       "22733                   6                    X   \n",
       "43235                   2                    Y   \n",
       "17696                   1                    X   \n",
       "6545                    2                    Y   \n",
       "2743                    5                    Z   \n",
       "\n",
       "       available extra rooms in hospital    department ward_type  \\\n",
       "6089                                   4    GYNECOLOGY         Q   \n",
       "8861                                   6    GYNECOLOGY         Q   \n",
       "30262                                  3    GYNECOLOGY         S   \n",
       "36566                                  4    GYNECOLOGY         R   \n",
       "17675                                  4    GYNECOLOGY         Q   \n",
       "22733                                  4    GYNECOLOGY         Q   \n",
       "43235                                  5  RADIOTHERAPY         S   \n",
       "17696                                  4    GYNECOLOGY         R   \n",
       "6545                                   4    GYNECOLOGY         Q   \n",
       "2743                                   4    GYNECOLOGY         Q   \n",
       "\n",
       "      ward_facility_code  bed grade  patientid  city_code_patient  \\\n",
       "6089                   B        2.0      15599                8.0   \n",
       "8861                   F        3.0      93915                5.0   \n",
       "30262                  F        4.0      25131                2.0   \n",
       "36566                  F        2.0      17582                4.0   \n",
       "17675                  F        1.0      82953                2.0   \n",
       "22733                  F        3.0      78543                8.0   \n",
       "43235                  D        4.0      24315                8.0   \n",
       "17696                  E        2.0      36929                1.0   \n",
       "6545                   D        3.0      44930                8.0   \n",
       "2743                   F        4.0      14715               21.0   \n",
       "\n",
       "      type of admission    Severity  visitors with patient    age  \\\n",
       "6089             Trauma  2nd degree                      4  41-50   \n",
       "8861             Trauma  3rd degree                      4  71-80   \n",
       "30262         Emergency  1st degree                      4  31-40   \n",
       "36566         Emergency  1st degree                      2  21-30   \n",
       "17675            Trauma  1st degree                      2  51-60   \n",
       "22733            Trauma  2nd degree                      2  31-40   \n",
       "43235            Trauma  1st degree                      4  31-40   \n",
       "17696         Emergency  2nd degree                      3  41-50   \n",
       "6545             Trauma  3rd degree                      6  51-60   \n",
       "2743          Emergency  2nd degree                      2  41-50   \n",
       "\n",
       "       admission_deposit                stay  \n",
       "6089              4295.0               31-40  \n",
       "8861              4713.0               31-40  \n",
       "30262             4051.0  More than 100 Days  \n",
       "36566             5733.0               21-30  \n",
       "17675             4400.0               11-20  \n",
       "22733             4297.0               21-30  \n",
       "43235             5740.0               21-30  \n",
       "17696             4699.0                0-10  \n",
       "6545              4450.0               71-80  \n",
       "2743              6152.0               11-20  "
      ]
     },
     "execution_count": 1332,
     "metadata": {},
     "output_type": "execute_result"
    }
   ],
   "source": [
    "task_34 = hc.sample(n=10, replace=False)\n",
    "task_34"
   ]
  },
  {
   "cell_type": "markdown",
   "metadata": {
    "id": "MV4BfH7ob-Jx"
   },
   "source": [
    ">__Task 35__\n",
    ">\n",
    ">Randomly select 50 data points from the __patientid__ column allowing repeat elements"
   ]
  },
  {
   "cell_type": "code",
   "execution_count": 1333,
   "metadata": {
    "colab": {
     "base_uri": "https://localhost:8080/",
     "height": 687
    },
    "id": "L8f8FsZib-aK",
    "outputId": "0cd5063c-99e7-42a6-d57a-956d391e27b0"
   },
   "outputs": [
    {
     "data": {
      "text/plain": [
       "24024    100767\n",
       "41888     80448\n",
       "22923     34584\n",
       "8375      82303\n",
       "3981      24906\n",
       "7601     123804\n",
       "48958     39548\n",
       "13597     18006\n",
       "30200    106896\n",
       "1198     130173\n",
       "47034     83812\n",
       "30867     85342\n",
       "33260     24522\n",
       "42539    125030\n",
       "22869    130795\n",
       "7628     121449\n",
       "43027     40531\n",
       "19405    117779\n",
       "26979     57518\n",
       "22174     41577\n",
       "11076     17542\n",
       "47483     53704\n",
       "46041      3853\n",
       "864       64869\n",
       "18045     59502\n",
       "19639     55868\n",
       "44931    117833\n",
       "44712     65572\n",
       "24363    106434\n",
       "27078     22687\n",
       "14471     88275\n",
       "32427    116288\n",
       "17014     88250\n",
       "23176     42499\n",
       "26351     56572\n",
       "24898     13287\n",
       "5463      69243\n",
       "48480     11259\n",
       "27122     79669\n",
       "19213     42438\n",
       "25796     58039\n",
       "16527     78234\n",
       "23736     69301\n",
       "43672    128647\n",
       "12439     20443\n",
       "26119    118829\n",
       "4590      80521\n",
       "45771      8585\n",
       "19635    101828\n",
       "2949      51786\n",
       "Name: patientid, dtype: int64"
      ]
     },
     "execution_count": 1333,
     "metadata": {},
     "output_type": "execute_result"
    }
   ],
   "source": [
    "task_35 = hc['patientid'].sample(n=50, replace=True)\n",
    "task_35"
   ]
  }
 ],
 "metadata": {
  "colab": {
   "collapsed_sections": [],
   "name": "2.b.ipynb",
   "provenance": []
  },
  "kernelspec": {
   "display_name": "dsml_venv (3.12.4)",
   "language": "python",
   "name": "python3"
  },
  "language_info": {
   "codemirror_mode": {
    "name": "ipython",
    "version": 3
   },
   "file_extension": ".py",
   "mimetype": "text/x-python",
   "name": "python",
   "nbconvert_exporter": "python",
   "pygments_lexer": "ipython3",
   "version": "3.12.4"
  }
 },
 "nbformat": 4,
 "nbformat_minor": 4
}
