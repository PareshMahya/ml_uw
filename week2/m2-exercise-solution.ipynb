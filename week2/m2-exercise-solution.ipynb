{
 "cells": [
  {
   "cell_type": "markdown",
   "metadata": {},
   "source": [
    "# Module 2: Exercise (Solution)"
   ]
  },
  {
   "cell_type": "markdown",
   "metadata": {},
   "source": [
    ">__Task 1__\n",
    ">\n",
    ">Import pandas and NumPy libraries using their alias"
   ]
  },
  {
   "cell_type": "code",
   "execution_count": 1,
   "metadata": {},
   "outputs": [],
   "source": [
    "import pandas as pd\n",
    "import numpy as np"
   ]
  },
  {
   "cell_type": "markdown",
   "metadata": {},
   "source": [
    "## Python Native Data Types"
   ]
  },
  {
   "cell_type": "markdown",
   "metadata": {},
   "source": [
    "### Numbers, Strings, Booleans"
   ]
  },
  {
   "cell_type": "markdown",
   "metadata": {
    "tags": []
   },
   "source": [
    ">__Task 2__\n",
    ">\n",
    ">Perform the following operations and return to see the results\n",
    ">- $3+2\\times4$\n",
    ">- $(3+2)\\div4$\n",
    ">- $(3+2)^4$\n",
    ">- get the integer quotient of $(3+2)/4$ using floor division"
   ]
  },
  {
   "cell_type": "code",
   "execution_count": 2,
   "metadata": {},
   "outputs": [
    {
     "data": {
      "text/plain": [
       "11"
      ]
     },
     "execution_count": 2,
     "metadata": {},
     "output_type": "execute_result"
    }
   ],
   "source": [
    "3+2*4"
   ]
  },
  {
   "cell_type": "code",
   "execution_count": 3,
   "metadata": {},
   "outputs": [
    {
     "data": {
      "text/plain": [
       "1.25"
      ]
     },
     "execution_count": 3,
     "metadata": {},
     "output_type": "execute_result"
    }
   ],
   "source": [
    "(3+2)/4"
   ]
  },
  {
   "cell_type": "code",
   "execution_count": 4,
   "metadata": {},
   "outputs": [
    {
     "data": {
      "text/plain": [
       "625"
      ]
     },
     "execution_count": 4,
     "metadata": {},
     "output_type": "execute_result"
    }
   ],
   "source": [
    "(3+2)**4"
   ]
  },
  {
   "cell_type": "code",
   "execution_count": 5,
   "metadata": {},
   "outputs": [
    {
     "data": {
      "text/plain": [
       "1"
      ]
     },
     "execution_count": 5,
     "metadata": {},
     "output_type": "execute_result"
    }
   ],
   "source": [
    "(3+2)//4"
   ]
  },
  {
   "cell_type": "markdown",
   "metadata": {},
   "source": [
    "Note __the floor division rounds the result to the nearest whole number__."
   ]
  },
  {
   "cell_type": "markdown",
   "metadata": {},
   "source": [
    ">__Task 3__\n",
    ">\n",
    ">Run the following cells and find the data type of each object"
   ]
  },
  {
   "cell_type": "code",
   "execution_count": 6,
   "metadata": {},
   "outputs": [
    {
     "data": {
      "text/plain": [
       "0"
      ]
     },
     "execution_count": 6,
     "metadata": {},
     "output_type": "execute_result"
    }
   ],
   "source": [
    "4//7"
   ]
  },
  {
   "cell_type": "code",
   "execution_count": 7,
   "metadata": {},
   "outputs": [
    {
     "data": {
      "text/plain": [
       "int"
      ]
     },
     "execution_count": 7,
     "metadata": {},
     "output_type": "execute_result"
    }
   ],
   "source": [
    "# Return data type\n",
    "type(4//7)"
   ]
  },
  {
   "cell_type": "code",
   "execution_count": 8,
   "metadata": {},
   "outputs": [
    {
     "data": {
      "text/plain": [
       "-3.6666666666666665"
      ]
     },
     "execution_count": 8,
     "metadata": {},
     "output_type": "execute_result"
    }
   ],
   "source": [
    "a = 11/(-3)\n",
    "a"
   ]
  },
  {
   "cell_type": "code",
   "execution_count": 9,
   "metadata": {},
   "outputs": [
    {
     "data": {
      "text/plain": [
       "float"
      ]
     },
     "execution_count": 9,
     "metadata": {},
     "output_type": "execute_result"
    }
   ],
   "source": [
    "# Return data type\n",
    "type(a)"
   ]
  },
  {
   "cell_type": "code",
   "execution_count": 10,
   "metadata": {},
   "outputs": [
    {
     "data": {
      "text/plain": [
       "bool"
      ]
     },
     "execution_count": 10,
     "metadata": {},
     "output_type": "execute_result"
    }
   ],
   "source": [
    "b = True\n",
    "# Return data type\n",
    "type(b)"
   ]
  },
  {
   "cell_type": "markdown",
   "metadata": {},
   "source": [
    ">__Task 4__\n",
    ">\n",
    ">Assume your student ID is 00223298, assign it to a variable as a string object"
   ]
  },
  {
   "cell_type": "code",
   "execution_count": 11,
   "metadata": {},
   "outputs": [
    {
     "data": {
      "text/plain": [
       "str"
      ]
     },
     "execution_count": 11,
     "metadata": {},
     "output_type": "execute_result"
    }
   ],
   "source": [
    "id = '00223298'\n",
    "# Return data type\n",
    "type(id)"
   ]
  },
  {
   "cell_type": "markdown",
   "metadata": {},
   "source": [
    ">__Task 5__\n",
    ">\n",
    ">Convert the variable __c__ below to float"
   ]
  },
  {
   "cell_type": "code",
   "execution_count": 12,
   "metadata": {},
   "outputs": [
    {
     "data": {
      "text/plain": [
       "6.0"
      ]
     },
     "execution_count": 12,
     "metadata": {},
     "output_type": "execute_result"
    }
   ],
   "source": [
    "c = '6.0'\n",
    "# Convert to float\n",
    "c = float(c)\n",
    "c"
   ]
  },
  {
   "cell_type": "code",
   "execution_count": 13,
   "metadata": {},
   "outputs": [
    {
     "data": {
      "text/plain": [
       "float"
      ]
     },
     "execution_count": 13,
     "metadata": {},
     "output_type": "execute_result"
    }
   ],
   "source": [
    "# Return data type\n",
    "type(c)"
   ]
  },
  {
   "cell_type": "markdown",
   "metadata": {},
   "source": [
    ">__Task 6__\n",
    ">\n",
    ">Run the cell below to get the value of variable __d__ and then convert it to integer"
   ]
  },
  {
   "cell_type": "code",
   "execution_count": 14,
   "metadata": {},
   "outputs": [
    {
     "data": {
      "text/plain": [
       "True"
      ]
     },
     "execution_count": 14,
     "metadata": {},
     "output_type": "execute_result"
    }
   ],
   "source": [
    "d = (-6) < 78\n",
    "d"
   ]
  },
  {
   "cell_type": "code",
   "execution_count": 15,
   "metadata": {},
   "outputs": [
    {
     "data": {
      "text/plain": [
       "1"
      ]
     },
     "execution_count": 15,
     "metadata": {},
     "output_type": "execute_result"
    }
   ],
   "source": [
    "# Convert to integer\n",
    "d = int(d)\n",
    "d"
   ]
  },
  {
   "cell_type": "code",
   "execution_count": 16,
   "metadata": {},
   "outputs": [
    {
     "data": {
      "text/plain": [
       "int"
      ]
     },
     "execution_count": 16,
     "metadata": {},
     "output_type": "execute_result"
    }
   ],
   "source": [
    "# Return data type\n",
    "type(d)"
   ]
  },
  {
   "cell_type": "markdown",
   "metadata": {},
   "source": [
    "### Lists, Tuples, Sets"
   ]
  },
  {
   "cell_type": "markdown",
   "metadata": {},
   "source": [
    ">__Task 7__\n",
    ">\n",
    ">Create a list, a tuple, and a set containing the following elements and compare the outputs:\n",
    ">\n",
    ">`0`, `robot` (str), `-9`, `False` (bool), `77`, `77`, `100`, `true` (str)"
   ]
  },
  {
   "cell_type": "code",
   "execution_count": 17,
   "metadata": {},
   "outputs": [
    {
     "data": {
      "text/plain": [
       "[0, 'robot', -9, False, 77, 77, 100, 'true']"
      ]
     },
     "execution_count": 17,
     "metadata": {},
     "output_type": "execute_result"
    }
   ],
   "source": [
    "# Create a list\n",
    "# l = list((0, 'robot', -9, False, 77, 77, 100, 'true'))\n",
    "# OR\n",
    "l = [0, 'robot', -9, False, 77, 77, 100, 'true']\n",
    "l"
   ]
  },
  {
   "cell_type": "code",
   "execution_count": 18,
   "metadata": {},
   "outputs": [
    {
     "data": {
      "text/plain": [
       "list"
      ]
     },
     "execution_count": 18,
     "metadata": {},
     "output_type": "execute_result"
    }
   ],
   "source": [
    "# Return data type\n",
    "type(l)"
   ]
  },
  {
   "cell_type": "code",
   "execution_count": 19,
   "metadata": {},
   "outputs": [
    {
     "data": {
      "text/plain": [
       "(0, 'robot', -9, False, 77, 77, 100, 'true')"
      ]
     },
     "execution_count": 19,
     "metadata": {},
     "output_type": "execute_result"
    }
   ],
   "source": [
    "# Create a tuple\n",
    "# t = tuple((0, 'robot', -9, False, 77, 77, 100, 'true'))\n",
    "# OR\n",
    "t = (0, 'robot', -9, False, 77, 77, 100, 'true')\n",
    "t"
   ]
  },
  {
   "cell_type": "code",
   "execution_count": 20,
   "metadata": {},
   "outputs": [
    {
     "data": {
      "text/plain": [
       "tuple"
      ]
     },
     "execution_count": 20,
     "metadata": {},
     "output_type": "execute_result"
    }
   ],
   "source": [
    "# Return data type\n",
    "type(t)"
   ]
  },
  {
   "cell_type": "code",
   "execution_count": 21,
   "metadata": {},
   "outputs": [
    {
     "data": {
      "text/plain": [
       "{-9, 0, 100, 77, 'robot', 'true'}"
      ]
     },
     "execution_count": 21,
     "metadata": {},
     "output_type": "execute_result"
    }
   ],
   "source": [
    "# Create a set\n",
    "# s = set((0, 'robot', -9, False, 77, 77, 100, 'true'))\n",
    "# OR\n",
    "s = {0, 'robot', -9, False, 77, 77, 100, 'true'}\n",
    "s"
   ]
  },
  {
   "cell_type": "code",
   "execution_count": 22,
   "metadata": {},
   "outputs": [
    {
     "data": {
      "text/plain": [
       "set"
      ]
     },
     "execution_count": 22,
     "metadata": {},
     "output_type": "execute_result"
    }
   ],
   "source": [
    "# Return data type\n",
    "type(s)"
   ]
  },
  {
   "cell_type": "markdown",
   "metadata": {},
   "source": [
    ">__Task 8__\n",
    ">\n",
    ">Overwrite the element `true` to `1` in the above list __l__"
   ]
  },
  {
   "cell_type": "code",
   "execution_count": 23,
   "metadata": {},
   "outputs": [
    {
     "data": {
      "text/plain": [
       "[0, 'robot', -9, False, 77, 77, 100, 1]"
      ]
     },
     "execution_count": 23,
     "metadata": {},
     "output_type": "execute_result"
    }
   ],
   "source": [
    "# l[7] = 1\n",
    "# OR\n",
    "l[-1] = 1\n",
    "l"
   ]
  },
  {
   "cell_type": "markdown",
   "metadata": {},
   "source": [
    ">__Task 9__\n",
    ">\n",
    ">Add `age` and `weight` to the list __e__ below using __`+`__"
   ]
  },
  {
   "cell_type": "code",
   "execution_count": 24,
   "metadata": {},
   "outputs": [
    {
     "data": {
      "text/plain": [
       "['diabetes', 'heart bypass']"
      ]
     },
     "execution_count": 24,
     "metadata": {},
     "output_type": "execute_result"
    }
   ],
   "source": [
    "e = ['diabetes', 'heart bypass']\n",
    "e"
   ]
  },
  {
   "cell_type": "code",
   "execution_count": 25,
   "metadata": {},
   "outputs": [
    {
     "data": {
      "text/plain": [
       "['diabetes', 'heart bypass', 'age', 'weight']"
      ]
     },
     "execution_count": 25,
     "metadata": {},
     "output_type": "execute_result"
    }
   ],
   "source": [
    "f = e + ['age', 'weight']\n",
    "f"
   ]
  },
  {
   "cell_type": "markdown",
   "metadata": {},
   "source": [
    "Alternatively, you can use the __`extend()`__ method to add item(s) to the end of the list:"
   ]
  },
  {
   "cell_type": "code",
   "execution_count": 26,
   "metadata": {},
   "outputs": [
    {
     "data": {
      "text/plain": [
       "['diabetes', 'heart bypass', 'age', 'weight']"
      ]
     },
     "execution_count": 26,
     "metadata": {},
     "output_type": "execute_result"
    }
   ],
   "source": [
    "e.extend(['age', 'weight'])\n",
    "e"
   ]
  },
  {
   "cell_type": "markdown",
   "metadata": {
    "tags": []
   },
   "source": [
    "### Dictionaries"
   ]
  },
  {
   "cell_type": "code",
   "execution_count": 27,
   "metadata": {},
   "outputs": [
    {
     "data": {
      "text/plain": [
       "{'Australia': ['Sydney', 'Melbourne', 'Canberra'],\n",
       " 'Canada': ['Toronto', 'Montreal', 'Ottawa'],\n",
       " 'Germany': ['Berlin', 'Hamburg', 'Munich'],\n",
       " 'Japan': ['Tokyo', 'Osaka', 'Nagoya']}"
      ]
     },
     "execution_count": 27,
     "metadata": {},
     "output_type": "execute_result"
    }
   ],
   "source": [
    "cities = {'Australia' :['Sydney', 'Melbourne', 'Canberra'],\n",
    "          'Canada'    :['Toronto', 'Montreal', 'Ottawa'],\n",
    "          'Germany'   :['Berlin', 'Hamburg', 'Munich'],\n",
    "          'Japan'     :['Tokyo', 'Osaka', 'Nagoya']}\n",
    "cities"
   ]
  },
  {
   "cell_type": "markdown",
   "metadata": {},
   "source": [
    ">__Task 10__\n",
    ">\n",
    ">Return only values of the `Japan` key"
   ]
  },
  {
   "cell_type": "code",
   "execution_count": 28,
   "metadata": {},
   "outputs": [
    {
     "data": {
      "text/plain": [
       "['Tokyo', 'Osaka', 'Nagoya']"
      ]
     },
     "execution_count": 28,
     "metadata": {},
     "output_type": "execute_result"
    }
   ],
   "source": [
    "cities['Japan']"
   ]
  },
  {
   "cell_type": "markdown",
   "metadata": {},
   "source": [
    ">__Task 11__\n",
    ">\n",
    ">Return only values and only keys of the dictionary __cities__"
   ]
  },
  {
   "cell_type": "code",
   "execution_count": 29,
   "metadata": {},
   "outputs": [
    {
     "data": {
      "text/plain": [
       "dict_values([['Sydney', 'Melbourne', 'Canberra'], ['Toronto', 'Montreal', 'Ottawa'], ['Berlin', 'Hamburg', 'Munich'], ['Tokyo', 'Osaka', 'Nagoya']])"
      ]
     },
     "execution_count": 29,
     "metadata": {},
     "output_type": "execute_result"
    }
   ],
   "source": [
    "# Return only values\n",
    "cities.values()"
   ]
  },
  {
   "cell_type": "code",
   "execution_count": 30,
   "metadata": {},
   "outputs": [
    {
     "data": {
      "text/plain": [
       "dict_keys(['Australia', 'Canada', 'Germany', 'Japan'])"
      ]
     },
     "execution_count": 30,
     "metadata": {},
     "output_type": "execute_result"
    }
   ],
   "source": [
    "# Return only keys\n",
    "cities.keys()"
   ]
  },
  {
   "cell_type": "markdown",
   "metadata": {},
   "source": [
    "You can use a __`for`__ loop to print not only keys but also the values corresponding to that keys:"
   ]
  },
  {
   "cell_type": "code",
   "execution_count": 31,
   "metadata": {},
   "outputs": [
    {
     "name": "stdout",
     "output_type": "stream",
     "text": [
      "key:  Australia \n",
      "value:  ['Sydney', 'Melbourne', 'Canberra'] \n",
      "\n",
      "key:  Canada \n",
      "value:  ['Toronto', 'Montreal', 'Ottawa'] \n",
      "\n",
      "key:  Germany \n",
      "value:  ['Berlin', 'Hamburg', 'Munich'] \n",
      "\n",
      "key:  Japan \n",
      "value:  ['Tokyo', 'Osaka', 'Nagoya'] \n",
      "\n"
     ]
    }
   ],
   "source": [
    "for k in cities.keys():\n",
    "    print('key: ', k, '\\nvalue: ', cities[k], '\\n')"
   ]
  },
  {
   "cell_type": "markdown",
   "metadata": {},
   "source": [
    ">__Task 12__\n",
    ">\n",
    ">Return the same output above using the __`items()`__ method within a `for` loop"
   ]
  },
  {
   "cell_type": "code",
   "execution_count": 32,
   "metadata": {},
   "outputs": [
    {
     "name": "stdout",
     "output_type": "stream",
     "text": [
      "key:  Australia \n",
      "value:  ['Sydney', 'Melbourne', 'Canberra'] \n",
      "\n",
      "key:  Canada \n",
      "value:  ['Toronto', 'Montreal', 'Ottawa'] \n",
      "\n",
      "key:  Germany \n",
      "value:  ['Berlin', 'Hamburg', 'Munich'] \n",
      "\n",
      "key:  Japan \n",
      "value:  ['Tokyo', 'Osaka', 'Nagoya'] \n",
      "\n"
     ]
    }
   ],
   "source": [
    "for k,v in cities.items():\n",
    "    print('key: ', k, '\\nvalue: ', v, '\\n')"
   ]
  },
  {
   "cell_type": "markdown",
   "metadata": {},
   "source": [
    ">__Task 13__\n",
    ">\n",
    ">Add `Egypt` as a new key to __cities__ and `Cairo`, `Durban`, `Alexandria` as its corresponding values"
   ]
  },
  {
   "cell_type": "code",
   "execution_count": 33,
   "metadata": {},
   "outputs": [
    {
     "data": {
      "text/plain": [
       "{'Australia': ['Sydney', 'Melbourne', 'Canberra'],\n",
       " 'Canada': ['Toronto', 'Montreal', 'Ottawa'],\n",
       " 'Germany': ['Berlin', 'Hamburg', 'Munich'],\n",
       " 'Japan': ['Tokyo', 'Osaka', 'Nagoya'],\n",
       " 'Egypt': ['Cairo', 'Durban', 'Alexandria']}"
      ]
     },
     "execution_count": 33,
     "metadata": {},
     "output_type": "execute_result"
    }
   ],
   "source": [
    "cities['Egypt'] = ['Cairo', 'Durban', 'Alexandria']\n",
    "cities"
   ]
  },
  {
   "cell_type": "markdown",
   "metadata": {},
   "source": [
    ">__Task 14__\n",
    ">\n",
    ">`Durban` is actually in South Africa. Overwrite it with `Giza`"
   ]
  },
  {
   "cell_type": "code",
   "execution_count": 34,
   "metadata": {},
   "outputs": [
    {
     "data": {
      "text/plain": [
       "['Cairo', 'Giza', 'Alexandria']"
      ]
     },
     "execution_count": 34,
     "metadata": {},
     "output_type": "execute_result"
    }
   ],
   "source": [
    "cities['Egypt'][1] = 'Giza'\n",
    "cities['Egypt']"
   ]
  },
  {
   "cell_type": "markdown",
   "metadata": {},
   "source": [
    ">__Task 15__\n",
    ">\n",
    ">Delete the key `Germany` from __cities__ "
   ]
  },
  {
   "cell_type": "code",
   "execution_count": 35,
   "metadata": {},
   "outputs": [
    {
     "data": {
      "text/plain": [
       "{'Australia': ['Sydney', 'Melbourne', 'Canberra'],\n",
       " 'Canada': ['Toronto', 'Montreal', 'Ottawa'],\n",
       " 'Japan': ['Tokyo', 'Osaka', 'Nagoya'],\n",
       " 'Egypt': ['Cairo', 'Giza', 'Alexandria']}"
      ]
     },
     "execution_count": 35,
     "metadata": {},
     "output_type": "execute_result"
    }
   ],
   "source": [
    "del cities['Germany']\n",
    "cities"
   ]
  },
  {
   "cell_type": "markdown",
   "metadata": {},
   "source": [
    "## NumPy Arrays"
   ]
  },
  {
   "cell_type": "markdown",
   "metadata": {},
   "source": [
    ">__Task 16__\n",
    ">\n",
    ">Create an array that contains a list of `99`, `2`, `65`"
   ]
  },
  {
   "cell_type": "code",
   "execution_count": 36,
   "metadata": {},
   "outputs": [
    {
     "data": {
      "text/plain": [
       "array([99,  2, 65])"
      ]
     },
     "execution_count": 36,
     "metadata": {},
     "output_type": "execute_result"
    }
   ],
   "source": [
    "arr = np.array([99, 2, 65])\n",
    "arr"
   ]
  },
  {
   "cell_type": "markdown",
   "metadata": {
    "jp-MarkdownHeadingCollapsed": true,
    "tags": []
   },
   "source": [
    ">__Task 17__\n",
    ">\n",
    ">Run the following operations to see the results"
   ]
  },
  {
   "cell_type": "code",
   "execution_count": 37,
   "metadata": {},
   "outputs": [
    {
     "data": {
      "text/plain": [
       "array([4.59511985, 0.69314718, 4.17438727])"
      ]
     },
     "execution_count": 37,
     "metadata": {},
     "output_type": "execute_result"
    }
   ],
   "source": [
    "# Natural logarithm\n",
    "np.log(arr)"
   ]
  },
  {
   "cell_type": "code",
   "execution_count": 38,
   "metadata": {},
   "outputs": [
    {
     "data": {
      "text/plain": [
       "array([9.94987437, 1.41421356, 8.06225775])"
      ]
     },
     "execution_count": 38,
     "metadata": {},
     "output_type": "execute_result"
    }
   ],
   "source": [
    "# Square root\n",
    "np.sqrt(arr)"
   ]
  },
  {
   "cell_type": "code",
   "execution_count": 39,
   "metadata": {},
   "outputs": [
    {
     "data": {
      "text/plain": [
       "array([ 0.03982088, -0.41614684, -0.56245385])"
      ]
     },
     "execution_count": 39,
     "metadata": {},
     "output_type": "execute_result"
    }
   ],
   "source": [
    "# Cosine\n",
    "np.cos(arr)"
   ]
  },
  {
   "cell_type": "markdown",
   "metadata": {},
   "source": [
    "We can use the __`arange()`__ method to create an array from 0 to any number of values we want. For example, we want an array of 20 numbers, we write:"
   ]
  },
  {
   "cell_type": "code",
   "execution_count": 40,
   "metadata": {},
   "outputs": [
    {
     "data": {
      "text/plain": [
       "array([ 0,  1,  2,  3,  4,  5,  6,  7,  8,  9, 10, 11, 12, 13, 14, 15, 16,\n",
       "       17, 18, 19])"
      ]
     },
     "execution_count": 40,
     "metadata": {},
     "output_type": "execute_result"
    }
   ],
   "source": [
    "num1 = np.arange(20)\n",
    "num1"
   ]
  },
  {
   "cell_type": "markdown",
   "metadata": {},
   "source": [
    ">__Task 18__\n",
    ">\n",
    ">Retrieve the first 5 numbers of the above array __num1__"
   ]
  },
  {
   "cell_type": "code",
   "execution_count": 41,
   "metadata": {},
   "outputs": [
    {
     "data": {
      "text/plain": [
       "array([0, 1, 2, 3, 4])"
      ]
     },
     "execution_count": 41,
     "metadata": {},
     "output_type": "execute_result"
    }
   ],
   "source": [
    "num1[:5]"
   ]
  },
  {
   "cell_type": "markdown",
   "metadata": {},
   "source": [
    "We can also pass the __`reshape()`__ function with `arange()` to specify rows and columns. For example, we can rearrange the above array into 5 rows and 4 columns:"
   ]
  },
  {
   "cell_type": "code",
   "execution_count": 42,
   "metadata": {},
   "outputs": [
    {
     "data": {
      "text/plain": [
       "array([[ 0,  1,  2,  3],\n",
       "       [ 4,  5,  6,  7],\n",
       "       [ 8,  9, 10, 11],\n",
       "       [12, 13, 14, 15],\n",
       "       [16, 17, 18, 19]])"
      ]
     },
     "execution_count": 42,
     "metadata": {},
     "output_type": "execute_result"
    }
   ],
   "source": [
    "num2 = np.arange(20).reshape(5,4)\n",
    "num2"
   ]
  },
  {
   "cell_type": "markdown",
   "metadata": {},
   "source": [
    ">__Task 19__\n",
    ">\n",
    ">Retrieve the numbers from the last 2 rows and first 3 columns in the array __num2__ (your output should return `[12, 13, 14], [16, 17, 18]`)"
   ]
  },
  {
   "cell_type": "code",
   "execution_count": 43,
   "metadata": {},
   "outputs": [
    {
     "data": {
      "text/plain": [
       "array([[12, 13, 14],\n",
       "       [16, 17, 18]])"
      ]
     },
     "execution_count": 43,
     "metadata": {},
     "output_type": "execute_result"
    }
   ],
   "source": [
    "# num2[3:,:3]\n",
    "# OR\n",
    "num2[-2:,:3]"
   ]
  },
  {
   "cell_type": "markdown",
   "metadata": {},
   "source": [
    "## Pandas Series and DataFrames"
   ]
  },
  {
   "cell_type": "markdown",
   "metadata": {},
   "source": [
    ">__Task 20__\n",
    ">\n",
    ">Import the data file \"bank_data.csv\""
   ]
  },
  {
   "cell_type": "code",
   "execution_count": 44,
   "metadata": {},
   "outputs": [
    {
     "data": {
      "text/html": [
       "<div>\n",
       "<style scoped>\n",
       "    .dataframe tbody tr th:only-of-type {\n",
       "        vertical-align: middle;\n",
       "    }\n",
       "\n",
       "    .dataframe tbody tr th {\n",
       "        vertical-align: top;\n",
       "    }\n",
       "\n",
       "    .dataframe thead th {\n",
       "        text-align: right;\n",
       "    }\n",
       "</style>\n",
       "<table border=\"1\" class=\"dataframe\">\n",
       "  <thead>\n",
       "    <tr style=\"text-align: right;\">\n",
       "      <th></th>\n",
       "      <th>age</th>\n",
       "      <th>job</th>\n",
       "      <th>marital</th>\n",
       "      <th>education</th>\n",
       "      <th>default</th>\n",
       "      <th>balance</th>\n",
       "      <th>housing</th>\n",
       "      <th>loan</th>\n",
       "      <th>contact</th>\n",
       "      <th>day</th>\n",
       "      <th>month</th>\n",
       "      <th>duration</th>\n",
       "      <th>campaign</th>\n",
       "      <th>pdays</th>\n",
       "      <th>previous</th>\n",
       "      <th>poutcome</th>\n",
       "      <th>y</th>\n",
       "      <th>year</th>\n",
       "    </tr>\n",
       "  </thead>\n",
       "  <tbody>\n",
       "    <tr>\n",
       "      <th>0</th>\n",
       "      <td>30.0</td>\n",
       "      <td>unemployed</td>\n",
       "      <td>married</td>\n",
       "      <td>primary</td>\n",
       "      <td>no</td>\n",
       "      <td>1787.0</td>\n",
       "      <td>no</td>\n",
       "      <td>no</td>\n",
       "      <td>cellular</td>\n",
       "      <td>19.0</td>\n",
       "      <td>10</td>\n",
       "      <td>79.0</td>\n",
       "      <td>1.0</td>\n",
       "      <td>-1.0</td>\n",
       "      <td>0.0</td>\n",
       "      <td>unknown</td>\n",
       "      <td>no</td>\n",
       "      <td>2022</td>\n",
       "    </tr>\n",
       "    <tr>\n",
       "      <th>1</th>\n",
       "      <td>33.0</td>\n",
       "      <td>services</td>\n",
       "      <td>married</td>\n",
       "      <td>secondary</td>\n",
       "      <td>no</td>\n",
       "      <td>4789.0</td>\n",
       "      <td>yes</td>\n",
       "      <td>yes</td>\n",
       "      <td>cellular</td>\n",
       "      <td>11.0</td>\n",
       "      <td>5</td>\n",
       "      <td>220.0</td>\n",
       "      <td>1.0</td>\n",
       "      <td>339.0</td>\n",
       "      <td>4.0</td>\n",
       "      <td>failure</td>\n",
       "      <td>no</td>\n",
       "      <td>2022</td>\n",
       "    </tr>\n",
       "    <tr>\n",
       "      <th>2</th>\n",
       "      <td>35.0</td>\n",
       "      <td>management</td>\n",
       "      <td>single</td>\n",
       "      <td>tertiary</td>\n",
       "      <td>no</td>\n",
       "      <td>1350.0</td>\n",
       "      <td>yes</td>\n",
       "      <td>no</td>\n",
       "      <td>cellular</td>\n",
       "      <td>16.0</td>\n",
       "      <td>4</td>\n",
       "      <td>185.0</td>\n",
       "      <td>1.0</td>\n",
       "      <td>330.0</td>\n",
       "      <td>1.0</td>\n",
       "      <td>failure</td>\n",
       "      <td>no</td>\n",
       "      <td>2022</td>\n",
       "    </tr>\n",
       "    <tr>\n",
       "      <th>3</th>\n",
       "      <td>30.0</td>\n",
       "      <td>management</td>\n",
       "      <td>married</td>\n",
       "      <td>tertiary</td>\n",
       "      <td>no</td>\n",
       "      <td>NaN</td>\n",
       "      <td>yes</td>\n",
       "      <td>yes</td>\n",
       "      <td>NaN</td>\n",
       "      <td>3.0</td>\n",
       "      <td>6</td>\n",
       "      <td>199.0</td>\n",
       "      <td>4.0</td>\n",
       "      <td>-1.0</td>\n",
       "      <td>0.0</td>\n",
       "      <td>unknown</td>\n",
       "      <td>no</td>\n",
       "      <td>2022</td>\n",
       "    </tr>\n",
       "    <tr>\n",
       "      <th>4</th>\n",
       "      <td>59.0</td>\n",
       "      <td>blue-collar</td>\n",
       "      <td>married</td>\n",
       "      <td>secondary</td>\n",
       "      <td>no</td>\n",
       "      <td>0.0</td>\n",
       "      <td>yes</td>\n",
       "      <td>no</td>\n",
       "      <td>NaN</td>\n",
       "      <td>5.0</td>\n",
       "      <td>5</td>\n",
       "      <td>226.0</td>\n",
       "      <td>1.0</td>\n",
       "      <td>-1.0</td>\n",
       "      <td>0.0</td>\n",
       "      <td>unknown</td>\n",
       "      <td>no</td>\n",
       "      <td>2022</td>\n",
       "    </tr>\n",
       "    <tr>\n",
       "      <th>...</th>\n",
       "      <td>...</td>\n",
       "      <td>...</td>\n",
       "      <td>...</td>\n",
       "      <td>...</td>\n",
       "      <td>...</td>\n",
       "      <td>...</td>\n",
       "      <td>...</td>\n",
       "      <td>...</td>\n",
       "      <td>...</td>\n",
       "      <td>...</td>\n",
       "      <td>...</td>\n",
       "      <td>...</td>\n",
       "      <td>...</td>\n",
       "      <td>...</td>\n",
       "      <td>...</td>\n",
       "      <td>...</td>\n",
       "      <td>...</td>\n",
       "      <td>...</td>\n",
       "    </tr>\n",
       "    <tr>\n",
       "      <th>4516</th>\n",
       "      <td>33.0</td>\n",
       "      <td>services</td>\n",
       "      <td>married</td>\n",
       "      <td>secondary</td>\n",
       "      <td>no</td>\n",
       "      <td>-333.0</td>\n",
       "      <td>yes</td>\n",
       "      <td>no</td>\n",
       "      <td>cellular</td>\n",
       "      <td>30.0</td>\n",
       "      <td>7</td>\n",
       "      <td>329.0</td>\n",
       "      <td>5.0</td>\n",
       "      <td>-1.0</td>\n",
       "      <td>0.0</td>\n",
       "      <td>unknown</td>\n",
       "      <td>no</td>\n",
       "      <td>2022</td>\n",
       "    </tr>\n",
       "    <tr>\n",
       "      <th>4517</th>\n",
       "      <td>57.0</td>\n",
       "      <td>self-employed</td>\n",
       "      <td>married</td>\n",
       "      <td>tertiary</td>\n",
       "      <td>yes</td>\n",
       "      <td>-3313.0</td>\n",
       "      <td>yes</td>\n",
       "      <td>yes</td>\n",
       "      <td>NaN</td>\n",
       "      <td>9.0</td>\n",
       "      <td>5</td>\n",
       "      <td>153.0</td>\n",
       "      <td>1.0</td>\n",
       "      <td>-1.0</td>\n",
       "      <td>0.0</td>\n",
       "      <td>unknown</td>\n",
       "      <td>no</td>\n",
       "      <td>2022</td>\n",
       "    </tr>\n",
       "    <tr>\n",
       "      <th>4518</th>\n",
       "      <td>57.0</td>\n",
       "      <td>technician</td>\n",
       "      <td>married</td>\n",
       "      <td>secondary</td>\n",
       "      <td>no</td>\n",
       "      <td>295.0</td>\n",
       "      <td>no</td>\n",
       "      <td>no</td>\n",
       "      <td>cellular</td>\n",
       "      <td>19.0</td>\n",
       "      <td>8</td>\n",
       "      <td>151.0</td>\n",
       "      <td>11.0</td>\n",
       "      <td>-1.0</td>\n",
       "      <td>0.0</td>\n",
       "      <td>unknown</td>\n",
       "      <td>no</td>\n",
       "      <td>2022</td>\n",
       "    </tr>\n",
       "    <tr>\n",
       "      <th>4519</th>\n",
       "      <td>28.0</td>\n",
       "      <td>blue-collar</td>\n",
       "      <td>married</td>\n",
       "      <td>secondary</td>\n",
       "      <td>no</td>\n",
       "      <td>1137.0</td>\n",
       "      <td>no</td>\n",
       "      <td>no</td>\n",
       "      <td>cellular</td>\n",
       "      <td>6.0</td>\n",
       "      <td>2</td>\n",
       "      <td>129.0</td>\n",
       "      <td>4.0</td>\n",
       "      <td>211.0</td>\n",
       "      <td>3.0</td>\n",
       "      <td>other</td>\n",
       "      <td>no</td>\n",
       "      <td>2022</td>\n",
       "    </tr>\n",
       "    <tr>\n",
       "      <th>4520</th>\n",
       "      <td>44.0</td>\n",
       "      <td>entrepreneur</td>\n",
       "      <td>single</td>\n",
       "      <td>tertiary</td>\n",
       "      <td>no</td>\n",
       "      <td>1136.0</td>\n",
       "      <td>yes</td>\n",
       "      <td>yes</td>\n",
       "      <td>cellular</td>\n",
       "      <td>3.0</td>\n",
       "      <td>4</td>\n",
       "      <td>345.0</td>\n",
       "      <td>2.0</td>\n",
       "      <td>249.0</td>\n",
       "      <td>7.0</td>\n",
       "      <td>other</td>\n",
       "      <td>no</td>\n",
       "      <td>2022</td>\n",
       "    </tr>\n",
       "  </tbody>\n",
       "</table>\n",
       "<p>4521 rows × 18 columns</p>\n",
       "</div>"
      ],
      "text/plain": [
       "       age            job  marital  education default  balance housing loan  \\\n",
       "0     30.0     unemployed  married    primary      no   1787.0      no   no   \n",
       "1     33.0       services  married  secondary      no   4789.0     yes  yes   \n",
       "2     35.0     management   single   tertiary      no   1350.0     yes   no   \n",
       "3     30.0     management  married   tertiary      no      NaN     yes  yes   \n",
       "4     59.0    blue-collar  married  secondary      no      0.0     yes   no   \n",
       "...    ...            ...      ...        ...     ...      ...     ...  ...   \n",
       "4516  33.0       services  married  secondary      no   -333.0     yes   no   \n",
       "4517  57.0  self-employed  married   tertiary     yes  -3313.0     yes  yes   \n",
       "4518  57.0     technician  married  secondary      no    295.0      no   no   \n",
       "4519  28.0    blue-collar  married  secondary      no   1137.0      no   no   \n",
       "4520  44.0   entrepreneur   single   tertiary      no   1136.0     yes  yes   \n",
       "\n",
       "       contact   day  month  duration  campaign  pdays  previous poutcome   y  \\\n",
       "0     cellular  19.0     10      79.0       1.0   -1.0       0.0  unknown  no   \n",
       "1     cellular  11.0      5     220.0       1.0  339.0       4.0  failure  no   \n",
       "2     cellular  16.0      4     185.0       1.0  330.0       1.0  failure  no   \n",
       "3          NaN   3.0      6     199.0       4.0   -1.0       0.0  unknown  no   \n",
       "4          NaN   5.0      5     226.0       1.0   -1.0       0.0  unknown  no   \n",
       "...        ...   ...    ...       ...       ...    ...       ...      ...  ..   \n",
       "4516  cellular  30.0      7     329.0       5.0   -1.0       0.0  unknown  no   \n",
       "4517       NaN   9.0      5     153.0       1.0   -1.0       0.0  unknown  no   \n",
       "4518  cellular  19.0      8     151.0      11.0   -1.0       0.0  unknown  no   \n",
       "4519  cellular   6.0      2     129.0       4.0  211.0       3.0    other  no   \n",
       "4520  cellular   3.0      4     345.0       2.0  249.0       7.0    other  no   \n",
       "\n",
       "      year  \n",
       "0     2022  \n",
       "1     2022  \n",
       "2     2022  \n",
       "3     2022  \n",
       "4     2022  \n",
       "...    ...  \n",
       "4516  2022  \n",
       "4517  2022  \n",
       "4518  2022  \n",
       "4519  2022  \n",
       "4520  2022  \n",
       "\n",
       "[4521 rows x 18 columns]"
      ]
     },
     "execution_count": 44,
     "metadata": {},
     "output_type": "execute_result"
    }
   ],
   "source": [
    "bank = pd.read_csv('bank_data.csv')\n",
    "bank"
   ]
  },
  {
   "cell_type": "markdown",
   "metadata": {},
   "source": [
    ">__Task 21__\n",
    ">\n",
    ">Select __age__ column as a series and confirm the result by checking its data type"
   ]
  },
  {
   "cell_type": "code",
   "execution_count": 45,
   "metadata": {},
   "outputs": [
    {
     "data": {
      "text/plain": [
       "0       30.0\n",
       "1       33.0\n",
       "2       35.0\n",
       "3       30.0\n",
       "4       59.0\n",
       "        ... \n",
       "4516    33.0\n",
       "4517    57.0\n",
       "4518    57.0\n",
       "4519    28.0\n",
       "4520    44.0\n",
       "Name: age, Length: 4521, dtype: float64"
      ]
     },
     "execution_count": 45,
     "metadata": {},
     "output_type": "execute_result"
    }
   ],
   "source": [
    "bank['age']"
   ]
  },
  {
   "cell_type": "code",
   "execution_count": 46,
   "metadata": {},
   "outputs": [
    {
     "data": {
      "text/plain": [
       "pandas.core.series.Series"
      ]
     },
     "execution_count": 46,
     "metadata": {},
     "output_type": "execute_result"
    }
   ],
   "source": [
    "# Return data type\n",
    "type(bank['age'])"
   ]
  },
  {
   "cell_type": "markdown",
   "metadata": {},
   "source": [
    "Notice that __`df[...]` returns a series and `df[[...]]` returns a data frame__."
   ]
  },
  {
   "cell_type": "markdown",
   "metadata": {},
   "source": [
    ">__Task 22__\n",
    ">\n",
    ">Select columns __job__, __education__, and __balance__ as a data frame and confirm the result by checking its data type"
   ]
  },
  {
   "cell_type": "code",
   "execution_count": 47,
   "metadata": {},
   "outputs": [
    {
     "data": {
      "text/html": [
       "<div>\n",
       "<style scoped>\n",
       "    .dataframe tbody tr th:only-of-type {\n",
       "        vertical-align: middle;\n",
       "    }\n",
       "\n",
       "    .dataframe tbody tr th {\n",
       "        vertical-align: top;\n",
       "    }\n",
       "\n",
       "    .dataframe thead th {\n",
       "        text-align: right;\n",
       "    }\n",
       "</style>\n",
       "<table border=\"1\" class=\"dataframe\">\n",
       "  <thead>\n",
       "    <tr style=\"text-align: right;\">\n",
       "      <th></th>\n",
       "      <th>job</th>\n",
       "      <th>education</th>\n",
       "      <th>balance</th>\n",
       "    </tr>\n",
       "  </thead>\n",
       "  <tbody>\n",
       "    <tr>\n",
       "      <th>0</th>\n",
       "      <td>unemployed</td>\n",
       "      <td>primary</td>\n",
       "      <td>1787.0</td>\n",
       "    </tr>\n",
       "    <tr>\n",
       "      <th>1</th>\n",
       "      <td>services</td>\n",
       "      <td>secondary</td>\n",
       "      <td>4789.0</td>\n",
       "    </tr>\n",
       "    <tr>\n",
       "      <th>2</th>\n",
       "      <td>management</td>\n",
       "      <td>tertiary</td>\n",
       "      <td>1350.0</td>\n",
       "    </tr>\n",
       "    <tr>\n",
       "      <th>3</th>\n",
       "      <td>management</td>\n",
       "      <td>tertiary</td>\n",
       "      <td>NaN</td>\n",
       "    </tr>\n",
       "    <tr>\n",
       "      <th>4</th>\n",
       "      <td>blue-collar</td>\n",
       "      <td>secondary</td>\n",
       "      <td>0.0</td>\n",
       "    </tr>\n",
       "    <tr>\n",
       "      <th>...</th>\n",
       "      <td>...</td>\n",
       "      <td>...</td>\n",
       "      <td>...</td>\n",
       "    </tr>\n",
       "    <tr>\n",
       "      <th>4516</th>\n",
       "      <td>services</td>\n",
       "      <td>secondary</td>\n",
       "      <td>-333.0</td>\n",
       "    </tr>\n",
       "    <tr>\n",
       "      <th>4517</th>\n",
       "      <td>self-employed</td>\n",
       "      <td>tertiary</td>\n",
       "      <td>-3313.0</td>\n",
       "    </tr>\n",
       "    <tr>\n",
       "      <th>4518</th>\n",
       "      <td>technician</td>\n",
       "      <td>secondary</td>\n",
       "      <td>295.0</td>\n",
       "    </tr>\n",
       "    <tr>\n",
       "      <th>4519</th>\n",
       "      <td>blue-collar</td>\n",
       "      <td>secondary</td>\n",
       "      <td>1137.0</td>\n",
       "    </tr>\n",
       "    <tr>\n",
       "      <th>4520</th>\n",
       "      <td>entrepreneur</td>\n",
       "      <td>tertiary</td>\n",
       "      <td>1136.0</td>\n",
       "    </tr>\n",
       "  </tbody>\n",
       "</table>\n",
       "<p>4521 rows × 3 columns</p>\n",
       "</div>"
      ],
      "text/plain": [
       "                job  education  balance\n",
       "0        unemployed    primary   1787.0\n",
       "1          services  secondary   4789.0\n",
       "2        management   tertiary   1350.0\n",
       "3        management   tertiary      NaN\n",
       "4       blue-collar  secondary      0.0\n",
       "...             ...        ...      ...\n",
       "4516       services  secondary   -333.0\n",
       "4517  self-employed   tertiary  -3313.0\n",
       "4518     technician  secondary    295.0\n",
       "4519    blue-collar  secondary   1137.0\n",
       "4520   entrepreneur   tertiary   1136.0\n",
       "\n",
       "[4521 rows x 3 columns]"
      ]
     },
     "execution_count": 47,
     "metadata": {},
     "output_type": "execute_result"
    }
   ],
   "source": [
    "bank[['job','education','balance']]"
   ]
  },
  {
   "cell_type": "code",
   "execution_count": 48,
   "metadata": {},
   "outputs": [
    {
     "data": {
      "text/plain": [
       "pandas.core.frame.DataFrame"
      ]
     },
     "execution_count": 48,
     "metadata": {},
     "output_type": "execute_result"
    }
   ],
   "source": [
    "# Return data type\n",
    "type(bank[['job','education','balance']])"
   ]
  },
  {
   "cell_type": "markdown",
   "metadata": {},
   "source": [
    ">__Task 23__\n",
    ">\n",
    ">Retrieve the last 7 rows and first 5 columns from the __bank__ data"
   ]
  },
  {
   "cell_type": "code",
   "execution_count": 49,
   "metadata": {},
   "outputs": [
    {
     "data": {
      "text/html": [
       "<div>\n",
       "<style scoped>\n",
       "    .dataframe tbody tr th:only-of-type {\n",
       "        vertical-align: middle;\n",
       "    }\n",
       "\n",
       "    .dataframe tbody tr th {\n",
       "        vertical-align: top;\n",
       "    }\n",
       "\n",
       "    .dataframe thead th {\n",
       "        text-align: right;\n",
       "    }\n",
       "</style>\n",
       "<table border=\"1\" class=\"dataframe\">\n",
       "  <thead>\n",
       "    <tr style=\"text-align: right;\">\n",
       "      <th></th>\n",
       "      <th>age</th>\n",
       "      <th>job</th>\n",
       "      <th>marital</th>\n",
       "      <th>education</th>\n",
       "      <th>default</th>\n",
       "    </tr>\n",
       "  </thead>\n",
       "  <tbody>\n",
       "    <tr>\n",
       "      <th>4514</th>\n",
       "      <td>38.0</td>\n",
       "      <td>blue-collar</td>\n",
       "      <td>married</td>\n",
       "      <td>secondary</td>\n",
       "      <td>no</td>\n",
       "    </tr>\n",
       "    <tr>\n",
       "      <th>4515</th>\n",
       "      <td>32.0</td>\n",
       "      <td>services</td>\n",
       "      <td>single</td>\n",
       "      <td>secondary</td>\n",
       "      <td>no</td>\n",
       "    </tr>\n",
       "    <tr>\n",
       "      <th>4516</th>\n",
       "      <td>33.0</td>\n",
       "      <td>services</td>\n",
       "      <td>married</td>\n",
       "      <td>secondary</td>\n",
       "      <td>no</td>\n",
       "    </tr>\n",
       "    <tr>\n",
       "      <th>4517</th>\n",
       "      <td>57.0</td>\n",
       "      <td>self-employed</td>\n",
       "      <td>married</td>\n",
       "      <td>tertiary</td>\n",
       "      <td>yes</td>\n",
       "    </tr>\n",
       "    <tr>\n",
       "      <th>4518</th>\n",
       "      <td>57.0</td>\n",
       "      <td>technician</td>\n",
       "      <td>married</td>\n",
       "      <td>secondary</td>\n",
       "      <td>no</td>\n",
       "    </tr>\n",
       "    <tr>\n",
       "      <th>4519</th>\n",
       "      <td>28.0</td>\n",
       "      <td>blue-collar</td>\n",
       "      <td>married</td>\n",
       "      <td>secondary</td>\n",
       "      <td>no</td>\n",
       "    </tr>\n",
       "    <tr>\n",
       "      <th>4520</th>\n",
       "      <td>44.0</td>\n",
       "      <td>entrepreneur</td>\n",
       "      <td>single</td>\n",
       "      <td>tertiary</td>\n",
       "      <td>no</td>\n",
       "    </tr>\n",
       "  </tbody>\n",
       "</table>\n",
       "</div>"
      ],
      "text/plain": [
       "       age            job  marital  education default\n",
       "4514  38.0    blue-collar  married  secondary      no\n",
       "4515  32.0       services   single  secondary      no\n",
       "4516  33.0       services  married  secondary      no\n",
       "4517  57.0  self-employed  married   tertiary     yes\n",
       "4518  57.0     technician  married  secondary      no\n",
       "4519  28.0    blue-collar  married  secondary      no\n",
       "4520  44.0   entrepreneur   single   tertiary      no"
      ]
     },
     "execution_count": 49,
     "metadata": {},
     "output_type": "execute_result"
    }
   ],
   "source": [
    "bank.iloc[-7:,:5]"
   ]
  },
  {
   "cell_type": "markdown",
   "metadata": {},
   "source": [
    "### Dates and Times"
   ]
  },
  {
   "cell_type": "markdown",
   "metadata": {},
   "source": [
    "Let's create a new column of the client contact dates using the __bank__ data:"
   ]
  },
  {
   "cell_type": "code",
   "execution_count": 50,
   "metadata": {},
   "outputs": [
    {
     "data": {
      "text/plain": [
       "0       2022-10-19\n",
       "1        2022-5-11\n",
       "2        2022-4-16\n",
       "3         2022-6-3\n",
       "4         2022-5-5\n",
       "           ...    \n",
       "4516     2022-7-30\n",
       "4517      2022-5-9\n",
       "4518     2022-8-19\n",
       "4519      2022-2-6\n",
       "4520      2022-4-3\n",
       "Name: contact_date, Length: 4521, dtype: object"
      ]
     },
     "execution_count": 50,
     "metadata": {},
     "output_type": "execute_result"
    }
   ],
   "source": [
    "bank['contact_date'] = bank['year'].astype(str)+'-'+bank['month'].astype(str)+'-'+bank['day'].astype(int).astype(str)\n",
    "bank['contact_date']"
   ]
  },
  {
   "cell_type": "markdown",
   "metadata": {},
   "source": [
    "The last line above shows that the dtype (data type) is a generic object, not a datetime type."
   ]
  },
  {
   "cell_type": "markdown",
   "metadata": {},
   "source": [
    ">__Task 24__\n",
    ">\n",
    ">Convert the __contact_date__ column to a datetime object"
   ]
  },
  {
   "cell_type": "code",
   "execution_count": 51,
   "metadata": {},
   "outputs": [
    {
     "data": {
      "text/plain": [
       "0      2022-10-19\n",
       "1      2022-05-11\n",
       "2      2022-04-16\n",
       "3      2022-06-03\n",
       "4      2022-05-05\n",
       "          ...    \n",
       "4516   2022-07-30\n",
       "4517   2022-05-09\n",
       "4518   2022-08-19\n",
       "4519   2022-02-06\n",
       "4520   2022-04-03\n",
       "Name: contact_date, Length: 4521, dtype: datetime64[ns]"
      ]
     },
     "execution_count": 51,
     "metadata": {},
     "output_type": "execute_result"
    }
   ],
   "source": [
    "bank['contact_date'] = pd.to_datetime(bank['contact_date'])\n",
    "bank['contact_date']"
   ]
  },
  {
   "cell_type": "markdown",
   "metadata": {},
   "source": [
    "Now, it is properly read as date."
   ]
  },
  {
   "cell_type": "markdown",
   "metadata": {
    "id": "jth-1Pmk3x4l"
   },
   "source": [
    "## Data Manipulation"
   ]
  },
  {
   "cell_type": "code",
   "execution_count": 52,
   "metadata": {},
   "outputs": [],
   "source": [
    "import warnings\n",
    "warnings.filterwarnings(\"ignore\")"
   ]
  },
  {
   "cell_type": "markdown",
   "metadata": {},
   "source": [
    ">__Task 25__\n",
    ">\n",
    ">Import the data file \"hc_train.csv\" and explore the first 5 rows"
   ]
  },
  {
   "cell_type": "code",
   "execution_count": 53,
   "metadata": {},
   "outputs": [
    {
     "data": {
      "text/html": [
       "<div>\n",
       "<style scoped>\n",
       "    .dataframe tbody tr th:only-of-type {\n",
       "        vertical-align: middle;\n",
       "    }\n",
       "\n",
       "    .dataframe tbody tr th {\n",
       "        vertical-align: top;\n",
       "    }\n",
       "\n",
       "    .dataframe thead th {\n",
       "        text-align: right;\n",
       "    }\n",
       "</style>\n",
       "<table border=\"1\" class=\"dataframe\">\n",
       "  <thead>\n",
       "    <tr style=\"text-align: right;\">\n",
       "      <th></th>\n",
       "      <th>Unnamed: 0</th>\n",
       "      <th>case_id</th>\n",
       "      <th>Hospital_code</th>\n",
       "      <th>Hospital_type_code</th>\n",
       "      <th>City_Code_Hospital</th>\n",
       "      <th>Hospital_region_code</th>\n",
       "      <th>Available Extra Rooms in Hospital</th>\n",
       "      <th>Department</th>\n",
       "      <th>Ward_Type</th>\n",
       "      <th>Ward_Facility_Code</th>\n",
       "      <th>Bed Grade</th>\n",
       "      <th>patientid</th>\n",
       "      <th>City_Code_Patient</th>\n",
       "      <th>Type of Admission</th>\n",
       "      <th>Severity of Illness</th>\n",
       "      <th>Visitors with Patient</th>\n",
       "      <th>Age</th>\n",
       "      <th>Admission_Deposit</th>\n",
       "      <th>Stay</th>\n",
       "    </tr>\n",
       "  </thead>\n",
       "  <tbody>\n",
       "    <tr>\n",
       "      <th>0</th>\n",
       "      <td>119967</td>\n",
       "      <td>119968</td>\n",
       "      <td>27</td>\n",
       "      <td>a</td>\n",
       "      <td>7</td>\n",
       "      <td>Y</td>\n",
       "      <td>3</td>\n",
       "      <td>gynecology</td>\n",
       "      <td>R</td>\n",
       "      <td>C</td>\n",
       "      <td>2.0</td>\n",
       "      <td>11389</td>\n",
       "      <td>8.0</td>\n",
       "      <td>Emergency</td>\n",
       "      <td>Minor</td>\n",
       "      <td>2</td>\n",
       "      <td>11-20</td>\n",
       "      <td>5072.0</td>\n",
       "      <td>21-30</td>\n",
       "    </tr>\n",
       "    <tr>\n",
       "      <th>1</th>\n",
       "      <td>92433</td>\n",
       "      <td>92434</td>\n",
       "      <td>6</td>\n",
       "      <td>a</td>\n",
       "      <td>6</td>\n",
       "      <td>X</td>\n",
       "      <td>4</td>\n",
       "      <td>gynecology</td>\n",
       "      <td>Q</td>\n",
       "      <td>F</td>\n",
       "      <td>1.0</td>\n",
       "      <td>12522</td>\n",
       "      <td>2.0</td>\n",
       "      <td>Emergency</td>\n",
       "      <td>Extreme</td>\n",
       "      <td>4</td>\n",
       "      <td>31-40</td>\n",
       "      <td>3585.0</td>\n",
       "      <td>21-30</td>\n",
       "    </tr>\n",
       "    <tr>\n",
       "      <th>2</th>\n",
       "      <td>132258</td>\n",
       "      <td>132259</td>\n",
       "      <td>16</td>\n",
       "      <td>c</td>\n",
       "      <td>3</td>\n",
       "      <td>Z</td>\n",
       "      <td>4</td>\n",
       "      <td>gynecology</td>\n",
       "      <td>S</td>\n",
       "      <td>A</td>\n",
       "      <td>3.0</td>\n",
       "      <td>119556</td>\n",
       "      <td>8.0</td>\n",
       "      <td>Trauma</td>\n",
       "      <td>Moderate</td>\n",
       "      <td>6</td>\n",
       "      <td>71-80</td>\n",
       "      <td>4013.0</td>\n",
       "      <td>More than 100 Days</td>\n",
       "    </tr>\n",
       "    <tr>\n",
       "      <th>3</th>\n",
       "      <td>168439</td>\n",
       "      <td>168440</td>\n",
       "      <td>23</td>\n",
       "      <td>a</td>\n",
       "      <td>6</td>\n",
       "      <td>X</td>\n",
       "      <td>2</td>\n",
       "      <td>anesthesia</td>\n",
       "      <td>S</td>\n",
       "      <td>F</td>\n",
       "      <td>3.0</td>\n",
       "      <td>107177</td>\n",
       "      <td>8.0</td>\n",
       "      <td>Urgent</td>\n",
       "      <td>Extreme</td>\n",
       "      <td>2</td>\n",
       "      <td>71-80</td>\n",
       "      <td>5160.0</td>\n",
       "      <td>21-30</td>\n",
       "    </tr>\n",
       "    <tr>\n",
       "      <th>4</th>\n",
       "      <td>82100</td>\n",
       "      <td>82101</td>\n",
       "      <td>25</td>\n",
       "      <td>e</td>\n",
       "      <td>1</td>\n",
       "      <td>X</td>\n",
       "      <td>3</td>\n",
       "      <td>gynecology</td>\n",
       "      <td>R</td>\n",
       "      <td>E</td>\n",
       "      <td>3.0</td>\n",
       "      <td>64508</td>\n",
       "      <td>13.0</td>\n",
       "      <td>Trauma</td>\n",
       "      <td>Moderate</td>\n",
       "      <td>3</td>\n",
       "      <td>61-70</td>\n",
       "      <td>4099.0</td>\n",
       "      <td>21-30</td>\n",
       "    </tr>\n",
       "  </tbody>\n",
       "</table>\n",
       "</div>"
      ],
      "text/plain": [
       "   Unnamed: 0  case_id  Hospital_code Hospital_type_code  City_Code_Hospital  \\\n",
       "0      119967   119968             27                  a                   7   \n",
       "1       92433    92434              6                  a                   6   \n",
       "2      132258   132259             16                  c                   3   \n",
       "3      168439   168440             23                  a                   6   \n",
       "4       82100    82101             25                  e                   1   \n",
       "\n",
       "  Hospital_region_code  Available Extra Rooms in Hospital  Department  \\\n",
       "0                    Y                                  3  gynecology   \n",
       "1                    X                                  4  gynecology   \n",
       "2                    Z                                  4  gynecology   \n",
       "3                    X                                  2  anesthesia   \n",
       "4                    X                                  3  gynecology   \n",
       "\n",
       "  Ward_Type Ward_Facility_Code  Bed Grade  patientid  City_Code_Patient  \\\n",
       "0         R                  C        2.0      11389                8.0   \n",
       "1         Q                  F        1.0      12522                2.0   \n",
       "2         S                  A        3.0     119556                8.0   \n",
       "3         S                  F        3.0     107177                8.0   \n",
       "4         R                  E        3.0      64508               13.0   \n",
       "\n",
       "  Type of Admission Severity of Illness  Visitors with Patient    Age  \\\n",
       "0         Emergency               Minor                      2  11-20   \n",
       "1         Emergency             Extreme                      4  31-40   \n",
       "2            Trauma            Moderate                      6  71-80   \n",
       "3            Urgent             Extreme                      2  71-80   \n",
       "4            Trauma            Moderate                      3  61-70   \n",
       "\n",
       "   Admission_Deposit                Stay  \n",
       "0             5072.0               21-30  \n",
       "1             3585.0               21-30  \n",
       "2             4013.0  More than 100 Days  \n",
       "3             5160.0               21-30  \n",
       "4             4099.0               21-30  "
      ]
     },
     "execution_count": 53,
     "metadata": {},
     "output_type": "execute_result"
    }
   ],
   "source": [
    "hc = pd.read_csv('hc_train.csv')\n",
    "hc.head()"
   ]
  },
  {
   "cell_type": "markdown",
   "metadata": {
    "id": "2ekrnwtfeTz5"
   },
   "source": [
    ">__Task 26__\n",
    ">\n",
    ">Convert the values of the __Department__ column to uppercase"
   ]
  },
  {
   "cell_type": "code",
   "execution_count": 54,
   "metadata": {
    "colab": {
     "base_uri": "https://localhost:8080/"
    },
    "id": "ytiyoRhWeUlo",
    "outputId": "46e64ef8-8f21-4071-bb24-44cc3c720ea1"
   },
   "outputs": [
    {
     "data": {
      "text/plain": [
       "0                GYNECOLOGY\n",
       "1                GYNECOLOGY\n",
       "2                GYNECOLOGY\n",
       "3                ANESTHESIA\n",
       "4                GYNECOLOGY\n",
       "                ...        \n",
       "51233            GYNECOLOGY\n",
       "51234            GYNECOLOGY\n",
       "51235            GYNECOLOGY\n",
       "51236            GYNECOLOGY\n",
       "51237    TB & CHEST DISEASE\n",
       "Name: Department, Length: 51238, dtype: object"
      ]
     },
     "execution_count": 54,
     "metadata": {},
     "output_type": "execute_result"
    }
   ],
   "source": [
    "hc['Department'].str.upper()"
   ]
  },
  {
   "cell_type": "markdown",
   "metadata": {},
   "source": [
    "### Replace Values"
   ]
  },
  {
   "cell_type": "markdown",
   "metadata": {
    "id": "G5ds0GfseWmi"
   },
   "source": [
    ">__Task 27__\n",
    ">\n",
    ">Replace `TB & Chest disease` in the __Department__ column with `Tuberculosis & Chest`"
   ]
  },
  {
   "cell_type": "code",
   "execution_count": 55,
   "metadata": {
    "colab": {
     "base_uri": "https://localhost:8080/",
     "height": 713
    },
    "id": "TS2sTxj2eZOR",
    "outputId": "1fb8e069-c456-4861-ffab-228e3d0511d0"
   },
   "outputs": [
    {
     "data": {
      "text/plain": [
       "array(['gynecology', 'anesthesia', 'radiotherapy', 'surgery',\n",
       "       'Tuberculosis & Chest'], dtype=object)"
      ]
     },
     "execution_count": 55,
     "metadata": {},
     "output_type": "execute_result"
    }
   ],
   "source": [
    "hc['Department'] = hc['Department'].replace('TB & Chest disease','Tuberculosis & Chest')\n",
    "\n",
    "# Print unique variables in the column to confirm the change \n",
    "hc['Department'].unique()"
   ]
  },
  {
   "cell_type": "markdown",
   "metadata": {},
   "source": [
    "We can also replace with different values by passing a list or dict as substitutes."
   ]
  },
  {
   "cell_type": "markdown",
   "metadata": {
    "id": "g-eYiLvtebH3"
   },
   "source": [
    ">__Task 28__\n",
    ">\n",
    ">Replace values in the __Severity of Illness__ column with a dictionary that maps variables below:\n",
    ">\n",
    ">- Extreme: '3rd degree'\n",
    ">- Moderate: '2nd degree'\n",
    ">- Minor: '1st degree'"
   ]
  },
  {
   "cell_type": "code",
   "execution_count": 56,
   "metadata": {
    "colab": {
     "base_uri": "https://localhost:8080/",
     "height": 713
    },
    "id": "9TW2gepxeeUi",
    "outputId": "f2a73e36-9379-46f1-be50-3f8ab5f2637d"
   },
   "outputs": [
    {
     "data": {
      "text/plain": [
       "0        1st degree\n",
       "1        3rd degree\n",
       "2        2nd degree\n",
       "3        3rd degree\n",
       "4        2nd degree\n",
       "            ...    \n",
       "51233    1st degree\n",
       "51234    2nd degree\n",
       "51235    2nd degree\n",
       "51236    1st degree\n",
       "51237    3rd degree\n",
       "Name: Severity of Illness, Length: 51238, dtype: object"
      ]
     },
     "execution_count": 56,
     "metadata": {},
     "output_type": "execute_result"
    }
   ],
   "source": [
    "# Creat a dict\n",
    "map_dict = {'Extreme': '3rd degree', 'Moderate': '2nd degree', 'Minor': '1st degree'}\n",
    "# Replace values with the dict\n",
    "hc['Severity of Illness'].replace(map_dict)"
   ]
  },
  {
   "cell_type": "markdown",
   "metadata": {},
   "source": [
    "### Rename Column and Row Labels"
   ]
  },
  {
   "cell_type": "markdown",
   "metadata": {
    "id": "TRNs_NEieg7u"
   },
   "source": [
    ">__Task 29__\n",
    ">\n",
    ">Rename all column headings to their lowercase values by passing a `str` function"
   ]
  },
  {
   "cell_type": "code",
   "execution_count": 57,
   "metadata": {
    "colab": {
     "base_uri": "https://localhost:8080/",
     "height": 713
    },
    "id": "5H31dRX3ejAR",
    "outputId": "978af9b3-dae8-4f32-f410-fd6908bf6744"
   },
   "outputs": [
    {
     "data": {
      "text/html": [
       "<div>\n",
       "<style scoped>\n",
       "    .dataframe tbody tr th:only-of-type {\n",
       "        vertical-align: middle;\n",
       "    }\n",
       "\n",
       "    .dataframe tbody tr th {\n",
       "        vertical-align: top;\n",
       "    }\n",
       "\n",
       "    .dataframe thead th {\n",
       "        text-align: right;\n",
       "    }\n",
       "</style>\n",
       "<table border=\"1\" class=\"dataframe\">\n",
       "  <thead>\n",
       "    <tr style=\"text-align: right;\">\n",
       "      <th></th>\n",
       "      <th>unnamed: 0</th>\n",
       "      <th>case_id</th>\n",
       "      <th>hospital_code</th>\n",
       "      <th>hospital_type_code</th>\n",
       "      <th>city_code_hospital</th>\n",
       "      <th>hospital_region_code</th>\n",
       "      <th>available extra rooms in hospital</th>\n",
       "      <th>department</th>\n",
       "      <th>ward_type</th>\n",
       "      <th>ward_facility_code</th>\n",
       "      <th>bed grade</th>\n",
       "      <th>patientid</th>\n",
       "      <th>city_code_patient</th>\n",
       "      <th>type of admission</th>\n",
       "      <th>severity of illness</th>\n",
       "      <th>visitors with patient</th>\n",
       "      <th>age</th>\n",
       "      <th>admission_deposit</th>\n",
       "      <th>stay</th>\n",
       "    </tr>\n",
       "  </thead>\n",
       "  <tbody>\n",
       "    <tr>\n",
       "      <th>0</th>\n",
       "      <td>119967</td>\n",
       "      <td>119968</td>\n",
       "      <td>27</td>\n",
       "      <td>a</td>\n",
       "      <td>7</td>\n",
       "      <td>Y</td>\n",
       "      <td>3</td>\n",
       "      <td>gynecology</td>\n",
       "      <td>R</td>\n",
       "      <td>C</td>\n",
       "      <td>2.0</td>\n",
       "      <td>11389</td>\n",
       "      <td>8.0</td>\n",
       "      <td>Emergency</td>\n",
       "      <td>Minor</td>\n",
       "      <td>2</td>\n",
       "      <td>11-20</td>\n",
       "      <td>5072.0</td>\n",
       "      <td>21-30</td>\n",
       "    </tr>\n",
       "    <tr>\n",
       "      <th>1</th>\n",
       "      <td>92433</td>\n",
       "      <td>92434</td>\n",
       "      <td>6</td>\n",
       "      <td>a</td>\n",
       "      <td>6</td>\n",
       "      <td>X</td>\n",
       "      <td>4</td>\n",
       "      <td>gynecology</td>\n",
       "      <td>Q</td>\n",
       "      <td>F</td>\n",
       "      <td>1.0</td>\n",
       "      <td>12522</td>\n",
       "      <td>2.0</td>\n",
       "      <td>Emergency</td>\n",
       "      <td>Extreme</td>\n",
       "      <td>4</td>\n",
       "      <td>31-40</td>\n",
       "      <td>3585.0</td>\n",
       "      <td>21-30</td>\n",
       "    </tr>\n",
       "    <tr>\n",
       "      <th>2</th>\n",
       "      <td>132258</td>\n",
       "      <td>132259</td>\n",
       "      <td>16</td>\n",
       "      <td>c</td>\n",
       "      <td>3</td>\n",
       "      <td>Z</td>\n",
       "      <td>4</td>\n",
       "      <td>gynecology</td>\n",
       "      <td>S</td>\n",
       "      <td>A</td>\n",
       "      <td>3.0</td>\n",
       "      <td>119556</td>\n",
       "      <td>8.0</td>\n",
       "      <td>Trauma</td>\n",
       "      <td>Moderate</td>\n",
       "      <td>6</td>\n",
       "      <td>71-80</td>\n",
       "      <td>4013.0</td>\n",
       "      <td>More than 100 Days</td>\n",
       "    </tr>\n",
       "    <tr>\n",
       "      <th>3</th>\n",
       "      <td>168439</td>\n",
       "      <td>168440</td>\n",
       "      <td>23</td>\n",
       "      <td>a</td>\n",
       "      <td>6</td>\n",
       "      <td>X</td>\n",
       "      <td>2</td>\n",
       "      <td>anesthesia</td>\n",
       "      <td>S</td>\n",
       "      <td>F</td>\n",
       "      <td>3.0</td>\n",
       "      <td>107177</td>\n",
       "      <td>8.0</td>\n",
       "      <td>Urgent</td>\n",
       "      <td>Extreme</td>\n",
       "      <td>2</td>\n",
       "      <td>71-80</td>\n",
       "      <td>5160.0</td>\n",
       "      <td>21-30</td>\n",
       "    </tr>\n",
       "    <tr>\n",
       "      <th>4</th>\n",
       "      <td>82100</td>\n",
       "      <td>82101</td>\n",
       "      <td>25</td>\n",
       "      <td>e</td>\n",
       "      <td>1</td>\n",
       "      <td>X</td>\n",
       "      <td>3</td>\n",
       "      <td>gynecology</td>\n",
       "      <td>R</td>\n",
       "      <td>E</td>\n",
       "      <td>3.0</td>\n",
       "      <td>64508</td>\n",
       "      <td>13.0</td>\n",
       "      <td>Trauma</td>\n",
       "      <td>Moderate</td>\n",
       "      <td>3</td>\n",
       "      <td>61-70</td>\n",
       "      <td>4099.0</td>\n",
       "      <td>21-30</td>\n",
       "    </tr>\n",
       "    <tr>\n",
       "      <th>...</th>\n",
       "      <td>...</td>\n",
       "      <td>...</td>\n",
       "      <td>...</td>\n",
       "      <td>...</td>\n",
       "      <td>...</td>\n",
       "      <td>...</td>\n",
       "      <td>...</td>\n",
       "      <td>...</td>\n",
       "      <td>...</td>\n",
       "      <td>...</td>\n",
       "      <td>...</td>\n",
       "      <td>...</td>\n",
       "      <td>...</td>\n",
       "      <td>...</td>\n",
       "      <td>...</td>\n",
       "      <td>...</td>\n",
       "      <td>...</td>\n",
       "      <td>...</td>\n",
       "      <td>...</td>\n",
       "    </tr>\n",
       "    <tr>\n",
       "      <th>51233</th>\n",
       "      <td>289419</td>\n",
       "      <td>289420</td>\n",
       "      <td>10</td>\n",
       "      <td>e</td>\n",
       "      <td>1</td>\n",
       "      <td>X</td>\n",
       "      <td>3</td>\n",
       "      <td>gynecology</td>\n",
       "      <td>Q</td>\n",
       "      <td>E</td>\n",
       "      <td>4.0</td>\n",
       "      <td>84995</td>\n",
       "      <td>8.0</td>\n",
       "      <td>Trauma</td>\n",
       "      <td>Minor</td>\n",
       "      <td>2</td>\n",
       "      <td>21-30</td>\n",
       "      <td>5105.0</td>\n",
       "      <td>11-20</td>\n",
       "    </tr>\n",
       "    <tr>\n",
       "      <th>51234</th>\n",
       "      <td>285283</td>\n",
       "      <td>285284</td>\n",
       "      <td>11</td>\n",
       "      <td>b</td>\n",
       "      <td>2</td>\n",
       "      <td>Y</td>\n",
       "      <td>4</td>\n",
       "      <td>gynecology</td>\n",
       "      <td>Q</td>\n",
       "      <td>D</td>\n",
       "      <td>2.0</td>\n",
       "      <td>27052</td>\n",
       "      <td>8.0</td>\n",
       "      <td>Emergency</td>\n",
       "      <td>Moderate</td>\n",
       "      <td>2</td>\n",
       "      <td>51-60</td>\n",
       "      <td>4051.0</td>\n",
       "      <td>21-30</td>\n",
       "    </tr>\n",
       "    <tr>\n",
       "      <th>51235</th>\n",
       "      <td>79117</td>\n",
       "      <td>79118</td>\n",
       "      <td>9</td>\n",
       "      <td>d</td>\n",
       "      <td>5</td>\n",
       "      <td>Z</td>\n",
       "      <td>3</td>\n",
       "      <td>gynecology</td>\n",
       "      <td>S</td>\n",
       "      <td>F</td>\n",
       "      <td>3.0</td>\n",
       "      <td>109756</td>\n",
       "      <td>5.0</td>\n",
       "      <td>Emergency</td>\n",
       "      <td>Moderate</td>\n",
       "      <td>10</td>\n",
       "      <td>51-60</td>\n",
       "      <td>3677.0</td>\n",
       "      <td>More than 100 Days</td>\n",
       "    </tr>\n",
       "    <tr>\n",
       "      <th>51236</th>\n",
       "      <td>128901</td>\n",
       "      <td>128902</td>\n",
       "      <td>23</td>\n",
       "      <td>a</td>\n",
       "      <td>6</td>\n",
       "      <td>X</td>\n",
       "      <td>4</td>\n",
       "      <td>gynecology</td>\n",
       "      <td>R</td>\n",
       "      <td>F</td>\n",
       "      <td>4.0</td>\n",
       "      <td>35479</td>\n",
       "      <td>12.0</td>\n",
       "      <td>Trauma</td>\n",
       "      <td>Minor</td>\n",
       "      <td>2</td>\n",
       "      <td>21-30</td>\n",
       "      <td>4470.0</td>\n",
       "      <td>21-30</td>\n",
       "    </tr>\n",
       "    <tr>\n",
       "      <th>51237</th>\n",
       "      <td>210970</td>\n",
       "      <td>210971</td>\n",
       "      <td>2</td>\n",
       "      <td>c</td>\n",
       "      <td>5</td>\n",
       "      <td>Z</td>\n",
       "      <td>2</td>\n",
       "      <td>Tuberculosis &amp; Chest</td>\n",
       "      <td>S</td>\n",
       "      <td>F</td>\n",
       "      <td>2.0</td>\n",
       "      <td>99310</td>\n",
       "      <td>9.0</td>\n",
       "      <td>Trauma</td>\n",
       "      <td>Extreme</td>\n",
       "      <td>4</td>\n",
       "      <td>51-60</td>\n",
       "      <td>4133.0</td>\n",
       "      <td>31-40</td>\n",
       "    </tr>\n",
       "  </tbody>\n",
       "</table>\n",
       "<p>51238 rows × 19 columns</p>\n",
       "</div>"
      ],
      "text/plain": [
       "       unnamed: 0  case_id  hospital_code hospital_type_code  \\\n",
       "0          119967   119968             27                  a   \n",
       "1           92433    92434              6                  a   \n",
       "2          132258   132259             16                  c   \n",
       "3          168439   168440             23                  a   \n",
       "4           82100    82101             25                  e   \n",
       "...           ...      ...            ...                ...   \n",
       "51233      289419   289420             10                  e   \n",
       "51234      285283   285284             11                  b   \n",
       "51235       79117    79118              9                  d   \n",
       "51236      128901   128902             23                  a   \n",
       "51237      210970   210971              2                  c   \n",
       "\n",
       "       city_code_hospital hospital_region_code  \\\n",
       "0                       7                    Y   \n",
       "1                       6                    X   \n",
       "2                       3                    Z   \n",
       "3                       6                    X   \n",
       "4                       1                    X   \n",
       "...                   ...                  ...   \n",
       "51233                   1                    X   \n",
       "51234                   2                    Y   \n",
       "51235                   5                    Z   \n",
       "51236                   6                    X   \n",
       "51237                   5                    Z   \n",
       "\n",
       "       available extra rooms in hospital            department ward_type  \\\n",
       "0                                      3            gynecology         R   \n",
       "1                                      4            gynecology         Q   \n",
       "2                                      4            gynecology         S   \n",
       "3                                      2            anesthesia         S   \n",
       "4                                      3            gynecology         R   \n",
       "...                                  ...                   ...       ...   \n",
       "51233                                  3            gynecology         Q   \n",
       "51234                                  4            gynecology         Q   \n",
       "51235                                  3            gynecology         S   \n",
       "51236                                  4            gynecology         R   \n",
       "51237                                  2  Tuberculosis & Chest         S   \n",
       "\n",
       "      ward_facility_code  bed grade  patientid  city_code_patient  \\\n",
       "0                      C        2.0      11389                8.0   \n",
       "1                      F        1.0      12522                2.0   \n",
       "2                      A        3.0     119556                8.0   \n",
       "3                      F        3.0     107177                8.0   \n",
       "4                      E        3.0      64508               13.0   \n",
       "...                  ...        ...        ...                ...   \n",
       "51233                  E        4.0      84995                8.0   \n",
       "51234                  D        2.0      27052                8.0   \n",
       "51235                  F        3.0     109756                5.0   \n",
       "51236                  F        4.0      35479               12.0   \n",
       "51237                  F        2.0      99310                9.0   \n",
       "\n",
       "      type of admission severity of illness  visitors with patient    age  \\\n",
       "0             Emergency               Minor                      2  11-20   \n",
       "1             Emergency             Extreme                      4  31-40   \n",
       "2                Trauma            Moderate                      6  71-80   \n",
       "3                Urgent             Extreme                      2  71-80   \n",
       "4                Trauma            Moderate                      3  61-70   \n",
       "...                 ...                 ...                    ...    ...   \n",
       "51233            Trauma               Minor                      2  21-30   \n",
       "51234         Emergency            Moderate                      2  51-60   \n",
       "51235         Emergency            Moderate                     10  51-60   \n",
       "51236            Trauma               Minor                      2  21-30   \n",
       "51237            Trauma             Extreme                      4  51-60   \n",
       "\n",
       "       admission_deposit                stay  \n",
       "0                 5072.0               21-30  \n",
       "1                 3585.0               21-30  \n",
       "2                 4013.0  More than 100 Days  \n",
       "3                 5160.0               21-30  \n",
       "4                 4099.0               21-30  \n",
       "...                  ...                 ...  \n",
       "51233             5105.0               11-20  \n",
       "51234             4051.0               21-30  \n",
       "51235             3677.0  More than 100 Days  \n",
       "51236             4470.0               21-30  \n",
       "51237             4133.0               31-40  \n",
       "\n",
       "[51238 rows x 19 columns]"
      ]
     },
     "execution_count": 57,
     "metadata": {},
     "output_type": "execute_result"
    }
   ],
   "source": [
    "hc.rename(columns=str.lower)"
   ]
  },
  {
   "cell_type": "markdown",
   "metadata": {
    "id": "v-u31QGPepPQ"
   },
   "source": [
    ">__Task 30__\n",
    ">\n",
    ">Rename the column headings below using a dictionary that maps\n",
    ">\n",
    ">- `Severity of Illness` to `Severity`\n",
    ">- `case_id` to `ID`"
   ]
  },
  {
   "cell_type": "code",
   "execution_count": 58,
   "metadata": {
    "colab": {
     "base_uri": "https://localhost:8080/",
     "height": 713
    },
    "id": "kiObkYq4ep9Y",
    "outputId": "95d8ee67-03da-433d-a3b8-35e85656a7fb"
   },
   "outputs": [
    {
     "data": {
      "text/html": [
       "<div>\n",
       "<style scoped>\n",
       "    .dataframe tbody tr th:only-of-type {\n",
       "        vertical-align: middle;\n",
       "    }\n",
       "\n",
       "    .dataframe tbody tr th {\n",
       "        vertical-align: top;\n",
       "    }\n",
       "\n",
       "    .dataframe thead th {\n",
       "        text-align: right;\n",
       "    }\n",
       "</style>\n",
       "<table border=\"1\" class=\"dataframe\">\n",
       "  <thead>\n",
       "    <tr style=\"text-align: right;\">\n",
       "      <th></th>\n",
       "      <th>Unnamed: 0</th>\n",
       "      <th>ID</th>\n",
       "      <th>Hospital_code</th>\n",
       "      <th>Hospital_type_code</th>\n",
       "      <th>City_Code_Hospital</th>\n",
       "      <th>Hospital_region_code</th>\n",
       "      <th>Available Extra Rooms in Hospital</th>\n",
       "      <th>Department</th>\n",
       "      <th>Ward_Type</th>\n",
       "      <th>Ward_Facility_Code</th>\n",
       "      <th>Bed Grade</th>\n",
       "      <th>patientid</th>\n",
       "      <th>City_Code_Patient</th>\n",
       "      <th>Type of Admission</th>\n",
       "      <th>Severity</th>\n",
       "      <th>Visitors with Patient</th>\n",
       "      <th>Age</th>\n",
       "      <th>Admission_Deposit</th>\n",
       "      <th>Stay</th>\n",
       "    </tr>\n",
       "  </thead>\n",
       "  <tbody>\n",
       "    <tr>\n",
       "      <th>0</th>\n",
       "      <td>119967</td>\n",
       "      <td>119968</td>\n",
       "      <td>27</td>\n",
       "      <td>a</td>\n",
       "      <td>7</td>\n",
       "      <td>Y</td>\n",
       "      <td>3</td>\n",
       "      <td>gynecology</td>\n",
       "      <td>R</td>\n",
       "      <td>C</td>\n",
       "      <td>2.0</td>\n",
       "      <td>11389</td>\n",
       "      <td>8.0</td>\n",
       "      <td>Emergency</td>\n",
       "      <td>Minor</td>\n",
       "      <td>2</td>\n",
       "      <td>11-20</td>\n",
       "      <td>5072.0</td>\n",
       "      <td>21-30</td>\n",
       "    </tr>\n",
       "    <tr>\n",
       "      <th>1</th>\n",
       "      <td>92433</td>\n",
       "      <td>92434</td>\n",
       "      <td>6</td>\n",
       "      <td>a</td>\n",
       "      <td>6</td>\n",
       "      <td>X</td>\n",
       "      <td>4</td>\n",
       "      <td>gynecology</td>\n",
       "      <td>Q</td>\n",
       "      <td>F</td>\n",
       "      <td>1.0</td>\n",
       "      <td>12522</td>\n",
       "      <td>2.0</td>\n",
       "      <td>Emergency</td>\n",
       "      <td>Extreme</td>\n",
       "      <td>4</td>\n",
       "      <td>31-40</td>\n",
       "      <td>3585.0</td>\n",
       "      <td>21-30</td>\n",
       "    </tr>\n",
       "    <tr>\n",
       "      <th>2</th>\n",
       "      <td>132258</td>\n",
       "      <td>132259</td>\n",
       "      <td>16</td>\n",
       "      <td>c</td>\n",
       "      <td>3</td>\n",
       "      <td>Z</td>\n",
       "      <td>4</td>\n",
       "      <td>gynecology</td>\n",
       "      <td>S</td>\n",
       "      <td>A</td>\n",
       "      <td>3.0</td>\n",
       "      <td>119556</td>\n",
       "      <td>8.0</td>\n",
       "      <td>Trauma</td>\n",
       "      <td>Moderate</td>\n",
       "      <td>6</td>\n",
       "      <td>71-80</td>\n",
       "      <td>4013.0</td>\n",
       "      <td>More than 100 Days</td>\n",
       "    </tr>\n",
       "    <tr>\n",
       "      <th>3</th>\n",
       "      <td>168439</td>\n",
       "      <td>168440</td>\n",
       "      <td>23</td>\n",
       "      <td>a</td>\n",
       "      <td>6</td>\n",
       "      <td>X</td>\n",
       "      <td>2</td>\n",
       "      <td>anesthesia</td>\n",
       "      <td>S</td>\n",
       "      <td>F</td>\n",
       "      <td>3.0</td>\n",
       "      <td>107177</td>\n",
       "      <td>8.0</td>\n",
       "      <td>Urgent</td>\n",
       "      <td>Extreme</td>\n",
       "      <td>2</td>\n",
       "      <td>71-80</td>\n",
       "      <td>5160.0</td>\n",
       "      <td>21-30</td>\n",
       "    </tr>\n",
       "    <tr>\n",
       "      <th>4</th>\n",
       "      <td>82100</td>\n",
       "      <td>82101</td>\n",
       "      <td>25</td>\n",
       "      <td>e</td>\n",
       "      <td>1</td>\n",
       "      <td>X</td>\n",
       "      <td>3</td>\n",
       "      <td>gynecology</td>\n",
       "      <td>R</td>\n",
       "      <td>E</td>\n",
       "      <td>3.0</td>\n",
       "      <td>64508</td>\n",
       "      <td>13.0</td>\n",
       "      <td>Trauma</td>\n",
       "      <td>Moderate</td>\n",
       "      <td>3</td>\n",
       "      <td>61-70</td>\n",
       "      <td>4099.0</td>\n",
       "      <td>21-30</td>\n",
       "    </tr>\n",
       "    <tr>\n",
       "      <th>...</th>\n",
       "      <td>...</td>\n",
       "      <td>...</td>\n",
       "      <td>...</td>\n",
       "      <td>...</td>\n",
       "      <td>...</td>\n",
       "      <td>...</td>\n",
       "      <td>...</td>\n",
       "      <td>...</td>\n",
       "      <td>...</td>\n",
       "      <td>...</td>\n",
       "      <td>...</td>\n",
       "      <td>...</td>\n",
       "      <td>...</td>\n",
       "      <td>...</td>\n",
       "      <td>...</td>\n",
       "      <td>...</td>\n",
       "      <td>...</td>\n",
       "      <td>...</td>\n",
       "      <td>...</td>\n",
       "    </tr>\n",
       "    <tr>\n",
       "      <th>51233</th>\n",
       "      <td>289419</td>\n",
       "      <td>289420</td>\n",
       "      <td>10</td>\n",
       "      <td>e</td>\n",
       "      <td>1</td>\n",
       "      <td>X</td>\n",
       "      <td>3</td>\n",
       "      <td>gynecology</td>\n",
       "      <td>Q</td>\n",
       "      <td>E</td>\n",
       "      <td>4.0</td>\n",
       "      <td>84995</td>\n",
       "      <td>8.0</td>\n",
       "      <td>Trauma</td>\n",
       "      <td>Minor</td>\n",
       "      <td>2</td>\n",
       "      <td>21-30</td>\n",
       "      <td>5105.0</td>\n",
       "      <td>11-20</td>\n",
       "    </tr>\n",
       "    <tr>\n",
       "      <th>51234</th>\n",
       "      <td>285283</td>\n",
       "      <td>285284</td>\n",
       "      <td>11</td>\n",
       "      <td>b</td>\n",
       "      <td>2</td>\n",
       "      <td>Y</td>\n",
       "      <td>4</td>\n",
       "      <td>gynecology</td>\n",
       "      <td>Q</td>\n",
       "      <td>D</td>\n",
       "      <td>2.0</td>\n",
       "      <td>27052</td>\n",
       "      <td>8.0</td>\n",
       "      <td>Emergency</td>\n",
       "      <td>Moderate</td>\n",
       "      <td>2</td>\n",
       "      <td>51-60</td>\n",
       "      <td>4051.0</td>\n",
       "      <td>21-30</td>\n",
       "    </tr>\n",
       "    <tr>\n",
       "      <th>51235</th>\n",
       "      <td>79117</td>\n",
       "      <td>79118</td>\n",
       "      <td>9</td>\n",
       "      <td>d</td>\n",
       "      <td>5</td>\n",
       "      <td>Z</td>\n",
       "      <td>3</td>\n",
       "      <td>gynecology</td>\n",
       "      <td>S</td>\n",
       "      <td>F</td>\n",
       "      <td>3.0</td>\n",
       "      <td>109756</td>\n",
       "      <td>5.0</td>\n",
       "      <td>Emergency</td>\n",
       "      <td>Moderate</td>\n",
       "      <td>10</td>\n",
       "      <td>51-60</td>\n",
       "      <td>3677.0</td>\n",
       "      <td>More than 100 Days</td>\n",
       "    </tr>\n",
       "    <tr>\n",
       "      <th>51236</th>\n",
       "      <td>128901</td>\n",
       "      <td>128902</td>\n",
       "      <td>23</td>\n",
       "      <td>a</td>\n",
       "      <td>6</td>\n",
       "      <td>X</td>\n",
       "      <td>4</td>\n",
       "      <td>gynecology</td>\n",
       "      <td>R</td>\n",
       "      <td>F</td>\n",
       "      <td>4.0</td>\n",
       "      <td>35479</td>\n",
       "      <td>12.0</td>\n",
       "      <td>Trauma</td>\n",
       "      <td>Minor</td>\n",
       "      <td>2</td>\n",
       "      <td>21-30</td>\n",
       "      <td>4470.0</td>\n",
       "      <td>21-30</td>\n",
       "    </tr>\n",
       "    <tr>\n",
       "      <th>51237</th>\n",
       "      <td>210970</td>\n",
       "      <td>210971</td>\n",
       "      <td>2</td>\n",
       "      <td>c</td>\n",
       "      <td>5</td>\n",
       "      <td>Z</td>\n",
       "      <td>2</td>\n",
       "      <td>Tuberculosis &amp; Chest</td>\n",
       "      <td>S</td>\n",
       "      <td>F</td>\n",
       "      <td>2.0</td>\n",
       "      <td>99310</td>\n",
       "      <td>9.0</td>\n",
       "      <td>Trauma</td>\n",
       "      <td>Extreme</td>\n",
       "      <td>4</td>\n",
       "      <td>51-60</td>\n",
       "      <td>4133.0</td>\n",
       "      <td>31-40</td>\n",
       "    </tr>\n",
       "  </tbody>\n",
       "</table>\n",
       "<p>51238 rows × 19 columns</p>\n",
       "</div>"
      ],
      "text/plain": [
       "       Unnamed: 0      ID  Hospital_code Hospital_type_code  \\\n",
       "0          119967  119968             27                  a   \n",
       "1           92433   92434              6                  a   \n",
       "2          132258  132259             16                  c   \n",
       "3          168439  168440             23                  a   \n",
       "4           82100   82101             25                  e   \n",
       "...           ...     ...            ...                ...   \n",
       "51233      289419  289420             10                  e   \n",
       "51234      285283  285284             11                  b   \n",
       "51235       79117   79118              9                  d   \n",
       "51236      128901  128902             23                  a   \n",
       "51237      210970  210971              2                  c   \n",
       "\n",
       "       City_Code_Hospital Hospital_region_code  \\\n",
       "0                       7                    Y   \n",
       "1                       6                    X   \n",
       "2                       3                    Z   \n",
       "3                       6                    X   \n",
       "4                       1                    X   \n",
       "...                   ...                  ...   \n",
       "51233                   1                    X   \n",
       "51234                   2                    Y   \n",
       "51235                   5                    Z   \n",
       "51236                   6                    X   \n",
       "51237                   5                    Z   \n",
       "\n",
       "       Available Extra Rooms in Hospital            Department Ward_Type  \\\n",
       "0                                      3            gynecology         R   \n",
       "1                                      4            gynecology         Q   \n",
       "2                                      4            gynecology         S   \n",
       "3                                      2            anesthesia         S   \n",
       "4                                      3            gynecology         R   \n",
       "...                                  ...                   ...       ...   \n",
       "51233                                  3            gynecology         Q   \n",
       "51234                                  4            gynecology         Q   \n",
       "51235                                  3            gynecology         S   \n",
       "51236                                  4            gynecology         R   \n",
       "51237                                  2  Tuberculosis & Chest         S   \n",
       "\n",
       "      Ward_Facility_Code  Bed Grade  patientid  City_Code_Patient  \\\n",
       "0                      C        2.0      11389                8.0   \n",
       "1                      F        1.0      12522                2.0   \n",
       "2                      A        3.0     119556                8.0   \n",
       "3                      F        3.0     107177                8.0   \n",
       "4                      E        3.0      64508               13.0   \n",
       "...                  ...        ...        ...                ...   \n",
       "51233                  E        4.0      84995                8.0   \n",
       "51234                  D        2.0      27052                8.0   \n",
       "51235                  F        3.0     109756                5.0   \n",
       "51236                  F        4.0      35479               12.0   \n",
       "51237                  F        2.0      99310                9.0   \n",
       "\n",
       "      Type of Admission  Severity  Visitors with Patient    Age  \\\n",
       "0             Emergency     Minor                      2  11-20   \n",
       "1             Emergency   Extreme                      4  31-40   \n",
       "2                Trauma  Moderate                      6  71-80   \n",
       "3                Urgent   Extreme                      2  71-80   \n",
       "4                Trauma  Moderate                      3  61-70   \n",
       "...                 ...       ...                    ...    ...   \n",
       "51233            Trauma     Minor                      2  21-30   \n",
       "51234         Emergency  Moderate                      2  51-60   \n",
       "51235         Emergency  Moderate                     10  51-60   \n",
       "51236            Trauma     Minor                      2  21-30   \n",
       "51237            Trauma   Extreme                      4  51-60   \n",
       "\n",
       "       Admission_Deposit                Stay  \n",
       "0                 5072.0               21-30  \n",
       "1                 3585.0               21-30  \n",
       "2                 4013.0  More than 100 Days  \n",
       "3                 5160.0               21-30  \n",
       "4                 4099.0               21-30  \n",
       "...                  ...                 ...  \n",
       "51233             5105.0               11-20  \n",
       "51234             4051.0               21-30  \n",
       "51235             3677.0  More than 100 Days  \n",
       "51236             4470.0               21-30  \n",
       "51237             4133.0               31-40  \n",
       "\n",
       "[51238 rows x 19 columns]"
      ]
     },
     "execution_count": 58,
     "metadata": {},
     "output_type": "execute_result"
    }
   ],
   "source": [
    "col_dict = {'Severity of Illness': 'Severity', 'case_id': 'ID'}\n",
    "hc.rename(columns=col_dict)"
   ]
  },
  {
   "cell_type": "markdown",
   "metadata": {},
   "source": [
    "### Binning Methods"
   ]
  },
  {
   "cell_type": "markdown",
   "metadata": {
    "id": "yaL2ymhuergj"
   },
   "source": [
    ">__Task 31__\n",
    ">\n",
    ">Group the case IDs into three categories below:\n",
    ">\n",
    ">- (0, 100000) to `old case`\n",
    ">- (100001-200000) to `recent case`\n",
    ">- (200001-last) to `new case`"
   ]
  },
  {
   "cell_type": "code",
   "execution_count": 59,
   "metadata": {},
   "outputs": [
    {
     "data": {
      "text/plain": [
       "318438"
      ]
     },
     "execution_count": 59,
     "metadata": {},
     "output_type": "execute_result"
    }
   ],
   "source": [
    "# Check the maximum value of the column\n",
    "hc['case_id'].max()"
   ]
  },
  {
   "cell_type": "code",
   "execution_count": 60,
   "metadata": {
    "colab": {
     "base_uri": "https://localhost:8080/"
    },
    "id": "BhywGdWqetue",
    "outputId": "73330599-6e8a-4af7-ddb3-66d798e184a6"
   },
   "outputs": [
    {
     "data": {
      "text/plain": [
       "0        recent case\n",
       "1           old case\n",
       "2        recent case\n",
       "3        recent case\n",
       "4           old case\n",
       "            ...     \n",
       "51233       new case\n",
       "51234       new case\n",
       "51235       old case\n",
       "51236    recent case\n",
       "51237       new case\n",
       "Name: case_id, Length: 51238, dtype: category\n",
       "Categories (3, object): ['old case' < 'recent case' < 'new case']"
      ]
     },
     "execution_count": 60,
     "metadata": {},
     "output_type": "execute_result"
    }
   ],
   "source": [
    "group = pd.cut(hc['case_id'], [0, 100000, 200000, 318437], labels=['old case','recent case','new case'])\n",
    "group"
   ]
  },
  {
   "cell_type": "markdown",
   "metadata": {
    "id": "07mA3j8XevvX"
   },
   "source": [
    ">__Task 32__\n",
    ">\n",
    ">Group the case IDs into to 3 equal-sized bins with 4 decimal places"
   ]
  },
  {
   "cell_type": "code",
   "execution_count": 61,
   "metadata": {
    "colab": {
     "base_uri": "https://localhost:8080/"
    },
    "id": "dCGKswwuevip",
    "outputId": "4e6b96c3-f9cd-4671-a7c0-36a21a66daf1"
   },
   "outputs": [
    {
     "data": {
      "text/plain": [
       "0        (106146.6667, 212292.3333]\n",
       "1           (-317.437, 106146.6667]\n",
       "2        (106146.6667, 212292.3333]\n",
       "3        (106146.6667, 212292.3333]\n",
       "4           (-317.437, 106146.6667]\n",
       "                    ...            \n",
       "51233       (212292.3333, 318438.0]\n",
       "51234       (212292.3333, 318438.0]\n",
       "51235       (-317.437, 106146.6667]\n",
       "51236    (106146.6667, 212292.3333]\n",
       "51237    (106146.6667, 212292.3333]\n",
       "Name: case_id, Length: 51238, dtype: category\n",
       "Categories (3, interval[float64, right]): [(-317.437, 106146.6667] < (106146.6667, 212292.3333] < (212292.3333, 318438.0]]"
      ]
     },
     "execution_count": 61,
     "metadata": {},
     "output_type": "execute_result"
    }
   ],
   "source": [
    "group_equ = pd.cut(hc['case_id'], bins=3, precision=4) #bins= can be omitted\n",
    "group_equ"
   ]
  },
  {
   "cell_type": "markdown",
   "metadata": {
    "id": "GX9nOf3Ie1_N"
   },
   "source": [
    ">__Task 33__\n",
    ">\n",
    ">Group the case IDs into 4 quartiles with 2 decimal places"
   ]
  },
  {
   "cell_type": "code",
   "execution_count": 62,
   "metadata": {
    "colab": {
     "base_uri": "https://localhost:8080/"
    },
    "id": "9WoZEqlle4fB",
    "outputId": "6eedab9e-be30-4165-ac2d-9d293d4e3868"
   },
   "outputs": [
    {
     "data": {
      "text/plain": [
       "0        (79834.25, 159728.5]\n",
       "1        (79834.25, 159728.5]\n",
       "2        (79834.25, 159728.5]\n",
       "3        (159728.5, 238968.5]\n",
       "4        (79834.25, 159728.5]\n",
       "                 ...         \n",
       "51233    (238968.5, 318438.0]\n",
       "51234    (238968.5, 318438.0]\n",
       "51235        (0.99, 79834.25]\n",
       "51236    (79834.25, 159728.5]\n",
       "51237    (159728.5, 238968.5]\n",
       "Name: case_id, Length: 51238, dtype: category\n",
       "Categories (4, interval[float64, right]): [(0.99, 79834.25] < (79834.25, 159728.5] < (159728.5, 238968.5] < (238968.5, 318438.0]]"
      ]
     },
     "execution_count": 62,
     "metadata": {},
     "output_type": "execute_result"
    }
   ],
   "source": [
    "group_qua = pd.qcut(hc['case_id'], q=4, precision=2) #q= can be omitted\n",
    "group_qua"
   ]
  },
  {
   "cell_type": "markdown",
   "metadata": {},
   "source": [
    "### Random Sampling"
   ]
  },
  {
   "cell_type": "markdown",
   "metadata": {},
   "source": [
    ">__Task 34__\n",
    ">\n",
    ">Randomly select 10 data points from the __hc__ data without repeat elements"
   ]
  },
  {
   "cell_type": "code",
   "execution_count": 63,
   "metadata": {
    "colab": {
     "base_uri": "https://localhost:8080/",
     "height": 653
    },
    "id": "DPOl-Z-wbrIS",
    "outputId": "f4f779c8-830b-4db6-8625-1d017b05c6ba"
   },
   "outputs": [
    {
     "data": {
      "text/html": [
       "<div>\n",
       "<style scoped>\n",
       "    .dataframe tbody tr th:only-of-type {\n",
       "        vertical-align: middle;\n",
       "    }\n",
       "\n",
       "    .dataframe tbody tr th {\n",
       "        vertical-align: top;\n",
       "    }\n",
       "\n",
       "    .dataframe thead th {\n",
       "        text-align: right;\n",
       "    }\n",
       "</style>\n",
       "<table border=\"1\" class=\"dataframe\">\n",
       "  <thead>\n",
       "    <tr style=\"text-align: right;\">\n",
       "      <th></th>\n",
       "      <th>Unnamed: 0</th>\n",
       "      <th>case_id</th>\n",
       "      <th>Hospital_code</th>\n",
       "      <th>Hospital_type_code</th>\n",
       "      <th>City_Code_Hospital</th>\n",
       "      <th>Hospital_region_code</th>\n",
       "      <th>Available Extra Rooms in Hospital</th>\n",
       "      <th>Department</th>\n",
       "      <th>Ward_Type</th>\n",
       "      <th>Ward_Facility_Code</th>\n",
       "      <th>Bed Grade</th>\n",
       "      <th>patientid</th>\n",
       "      <th>City_Code_Patient</th>\n",
       "      <th>Type of Admission</th>\n",
       "      <th>Severity of Illness</th>\n",
       "      <th>Visitors with Patient</th>\n",
       "      <th>Age</th>\n",
       "      <th>Admission_Deposit</th>\n",
       "      <th>Stay</th>\n",
       "    </tr>\n",
       "  </thead>\n",
       "  <tbody>\n",
       "    <tr>\n",
       "      <th>3502</th>\n",
       "      <td>166004</td>\n",
       "      <td>166005</td>\n",
       "      <td>2</td>\n",
       "      <td>c</td>\n",
       "      <td>5</td>\n",
       "      <td>Z</td>\n",
       "      <td>4</td>\n",
       "      <td>gynecology</td>\n",
       "      <td>Q</td>\n",
       "      <td>F</td>\n",
       "      <td>1.0</td>\n",
       "      <td>111562</td>\n",
       "      <td>8.0</td>\n",
       "      <td>Trauma</td>\n",
       "      <td>Extreme</td>\n",
       "      <td>4</td>\n",
       "      <td>41-50</td>\n",
       "      <td>3749.0</td>\n",
       "      <td>21-30</td>\n",
       "    </tr>\n",
       "    <tr>\n",
       "      <th>27336</th>\n",
       "      <td>216989</td>\n",
       "      <td>216990</td>\n",
       "      <td>19</td>\n",
       "      <td>a</td>\n",
       "      <td>7</td>\n",
       "      <td>Y</td>\n",
       "      <td>2</td>\n",
       "      <td>gynecology</td>\n",
       "      <td>S</td>\n",
       "      <td>C</td>\n",
       "      <td>4.0</td>\n",
       "      <td>86465</td>\n",
       "      <td>8.0</td>\n",
       "      <td>Emergency</td>\n",
       "      <td>Minor</td>\n",
       "      <td>2</td>\n",
       "      <td>0-10</td>\n",
       "      <td>5027.0</td>\n",
       "      <td>11-20</td>\n",
       "    </tr>\n",
       "    <tr>\n",
       "      <th>20014</th>\n",
       "      <td>97783</td>\n",
       "      <td>97784</td>\n",
       "      <td>27</td>\n",
       "      <td>a</td>\n",
       "      <td>7</td>\n",
       "      <td>Y</td>\n",
       "      <td>4</td>\n",
       "      <td>gynecology</td>\n",
       "      <td>R</td>\n",
       "      <td>C</td>\n",
       "      <td>2.0</td>\n",
       "      <td>121550</td>\n",
       "      <td>8.0</td>\n",
       "      <td>Urgent</td>\n",
       "      <td>Minor</td>\n",
       "      <td>2</td>\n",
       "      <td>31-40</td>\n",
       "      <td>5109.0</td>\n",
       "      <td>11-20</td>\n",
       "    </tr>\n",
       "    <tr>\n",
       "      <th>10870</th>\n",
       "      <td>214585</td>\n",
       "      <td>214586</td>\n",
       "      <td>15</td>\n",
       "      <td>c</td>\n",
       "      <td>5</td>\n",
       "      <td>Z</td>\n",
       "      <td>2</td>\n",
       "      <td>gynecology</td>\n",
       "      <td>Q</td>\n",
       "      <td>F</td>\n",
       "      <td>3.0</td>\n",
       "      <td>83624</td>\n",
       "      <td>23.0</td>\n",
       "      <td>Trauma</td>\n",
       "      <td>Minor</td>\n",
       "      <td>2</td>\n",
       "      <td>0-10</td>\n",
       "      <td>5646.0</td>\n",
       "      <td>21-30</td>\n",
       "    </tr>\n",
       "    <tr>\n",
       "      <th>40857</th>\n",
       "      <td>161752</td>\n",
       "      <td>161753</td>\n",
       "      <td>13</td>\n",
       "      <td>a</td>\n",
       "      <td>5</td>\n",
       "      <td>Z</td>\n",
       "      <td>3</td>\n",
       "      <td>gynecology</td>\n",
       "      <td>R</td>\n",
       "      <td>F</td>\n",
       "      <td>2.0</td>\n",
       "      <td>47011</td>\n",
       "      <td>2.0</td>\n",
       "      <td>Trauma</td>\n",
       "      <td>Moderate</td>\n",
       "      <td>2</td>\n",
       "      <td>31-40</td>\n",
       "      <td>5831.0</td>\n",
       "      <td>11-20</td>\n",
       "    </tr>\n",
       "    <tr>\n",
       "      <th>45277</th>\n",
       "      <td>277666</td>\n",
       "      <td>277667</td>\n",
       "      <td>24</td>\n",
       "      <td>a</td>\n",
       "      <td>1</td>\n",
       "      <td>X</td>\n",
       "      <td>3</td>\n",
       "      <td>gynecology</td>\n",
       "      <td>R</td>\n",
       "      <td>E</td>\n",
       "      <td>2.0</td>\n",
       "      <td>100024</td>\n",
       "      <td>2.0</td>\n",
       "      <td>Trauma</td>\n",
       "      <td>Moderate</td>\n",
       "      <td>2</td>\n",
       "      <td>31-40</td>\n",
       "      <td>4624.0</td>\n",
       "      <td>11-20</td>\n",
       "    </tr>\n",
       "    <tr>\n",
       "      <th>25538</th>\n",
       "      <td>132336</td>\n",
       "      <td>132337</td>\n",
       "      <td>15</td>\n",
       "      <td>c</td>\n",
       "      <td>5</td>\n",
       "      <td>Z</td>\n",
       "      <td>2</td>\n",
       "      <td>gynecology</td>\n",
       "      <td>R</td>\n",
       "      <td>F</td>\n",
       "      <td>3.0</td>\n",
       "      <td>44232</td>\n",
       "      <td>8.0</td>\n",
       "      <td>Emergency</td>\n",
       "      <td>Moderate</td>\n",
       "      <td>4</td>\n",
       "      <td>51-60</td>\n",
       "      <td>5436.0</td>\n",
       "      <td>31-40</td>\n",
       "    </tr>\n",
       "    <tr>\n",
       "      <th>8860</th>\n",
       "      <td>64569</td>\n",
       "      <td>64570</td>\n",
       "      <td>29</td>\n",
       "      <td>a</td>\n",
       "      <td>4</td>\n",
       "      <td>X</td>\n",
       "      <td>2</td>\n",
       "      <td>gynecology</td>\n",
       "      <td>R</td>\n",
       "      <td>F</td>\n",
       "      <td>4.0</td>\n",
       "      <td>30812</td>\n",
       "      <td>1.0</td>\n",
       "      <td>Urgent</td>\n",
       "      <td>Moderate</td>\n",
       "      <td>3</td>\n",
       "      <td>41-50</td>\n",
       "      <td>5219.0</td>\n",
       "      <td>11-20</td>\n",
       "    </tr>\n",
       "    <tr>\n",
       "      <th>16167</th>\n",
       "      <td>206756</td>\n",
       "      <td>206757</td>\n",
       "      <td>31</td>\n",
       "      <td>c</td>\n",
       "      <td>3</td>\n",
       "      <td>Z</td>\n",
       "      <td>3</td>\n",
       "      <td>gynecology</td>\n",
       "      <td>S</td>\n",
       "      <td>A</td>\n",
       "      <td>3.0</td>\n",
       "      <td>71380</td>\n",
       "      <td>8.0</td>\n",
       "      <td>Trauma</td>\n",
       "      <td>Minor</td>\n",
       "      <td>2</td>\n",
       "      <td>61-70</td>\n",
       "      <td>4825.0</td>\n",
       "      <td>21-30</td>\n",
       "    </tr>\n",
       "    <tr>\n",
       "      <th>46264</th>\n",
       "      <td>296401</td>\n",
       "      <td>296402</td>\n",
       "      <td>15</td>\n",
       "      <td>c</td>\n",
       "      <td>5</td>\n",
       "      <td>Z</td>\n",
       "      <td>3</td>\n",
       "      <td>gynecology</td>\n",
       "      <td>S</td>\n",
       "      <td>F</td>\n",
       "      <td>4.0</td>\n",
       "      <td>122959</td>\n",
       "      <td>5.0</td>\n",
       "      <td>Urgent</td>\n",
       "      <td>Minor</td>\n",
       "      <td>2</td>\n",
       "      <td>11-20</td>\n",
       "      <td>5663.0</td>\n",
       "      <td>11-20</td>\n",
       "    </tr>\n",
       "  </tbody>\n",
       "</table>\n",
       "</div>"
      ],
      "text/plain": [
       "       Unnamed: 0  case_id  Hospital_code Hospital_type_code  \\\n",
       "3502       166004   166005              2                  c   \n",
       "27336      216989   216990             19                  a   \n",
       "20014       97783    97784             27                  a   \n",
       "10870      214585   214586             15                  c   \n",
       "40857      161752   161753             13                  a   \n",
       "45277      277666   277667             24                  a   \n",
       "25538      132336   132337             15                  c   \n",
       "8860        64569    64570             29                  a   \n",
       "16167      206756   206757             31                  c   \n",
       "46264      296401   296402             15                  c   \n",
       "\n",
       "       City_Code_Hospital Hospital_region_code  \\\n",
       "3502                    5                    Z   \n",
       "27336                   7                    Y   \n",
       "20014                   7                    Y   \n",
       "10870                   5                    Z   \n",
       "40857                   5                    Z   \n",
       "45277                   1                    X   \n",
       "25538                   5                    Z   \n",
       "8860                    4                    X   \n",
       "16167                   3                    Z   \n",
       "46264                   5                    Z   \n",
       "\n",
       "       Available Extra Rooms in Hospital  Department Ward_Type  \\\n",
       "3502                                   4  gynecology         Q   \n",
       "27336                                  2  gynecology         S   \n",
       "20014                                  4  gynecology         R   \n",
       "10870                                  2  gynecology         Q   \n",
       "40857                                  3  gynecology         R   \n",
       "45277                                  3  gynecology         R   \n",
       "25538                                  2  gynecology         R   \n",
       "8860                                   2  gynecology         R   \n",
       "16167                                  3  gynecology         S   \n",
       "46264                                  3  gynecology         S   \n",
       "\n",
       "      Ward_Facility_Code  Bed Grade  patientid  City_Code_Patient  \\\n",
       "3502                   F        1.0     111562                8.0   \n",
       "27336                  C        4.0      86465                8.0   \n",
       "20014                  C        2.0     121550                8.0   \n",
       "10870                  F        3.0      83624               23.0   \n",
       "40857                  F        2.0      47011                2.0   \n",
       "45277                  E        2.0     100024                2.0   \n",
       "25538                  F        3.0      44232                8.0   \n",
       "8860                   F        4.0      30812                1.0   \n",
       "16167                  A        3.0      71380                8.0   \n",
       "46264                  F        4.0     122959                5.0   \n",
       "\n",
       "      Type of Admission Severity of Illness  Visitors with Patient    Age  \\\n",
       "3502             Trauma             Extreme                      4  41-50   \n",
       "27336         Emergency               Minor                      2   0-10   \n",
       "20014            Urgent               Minor                      2  31-40   \n",
       "10870            Trauma               Minor                      2   0-10   \n",
       "40857            Trauma            Moderate                      2  31-40   \n",
       "45277            Trauma            Moderate                      2  31-40   \n",
       "25538         Emergency            Moderate                      4  51-60   \n",
       "8860             Urgent            Moderate                      3  41-50   \n",
       "16167            Trauma               Minor                      2  61-70   \n",
       "46264            Urgent               Minor                      2  11-20   \n",
       "\n",
       "       Admission_Deposit   Stay  \n",
       "3502              3749.0  21-30  \n",
       "27336             5027.0  11-20  \n",
       "20014             5109.0  11-20  \n",
       "10870             5646.0  21-30  \n",
       "40857             5831.0  11-20  \n",
       "45277             4624.0  11-20  \n",
       "25538             5436.0  31-40  \n",
       "8860              5219.0  11-20  \n",
       "16167             4825.0  21-30  \n",
       "46264             5663.0  11-20  "
      ]
     },
     "execution_count": 63,
     "metadata": {},
     "output_type": "execute_result"
    }
   ],
   "source": [
    "hc.sample(10, replace=False)"
   ]
  },
  {
   "cell_type": "markdown",
   "metadata": {
    "id": "MV4BfH7ob-Jx"
   },
   "source": [
    ">__Task 35__\n",
    ">\n",
    ">Randomly select 50 data points from the __patientid__ column allowing repeat elements"
   ]
  },
  {
   "cell_type": "code",
   "execution_count": 64,
   "metadata": {
    "colab": {
     "base_uri": "https://localhost:8080/",
     "height": 687
    },
    "id": "L8f8FsZib-aK",
    "outputId": "0cd5063c-99e7-42a6-d57a-956d391e27b0"
   },
   "outputs": [
    {
     "data": {
      "text/plain": [
       "25055    114066\n",
       "29330    100902\n",
       "3170      35251\n",
       "34371     68955\n",
       "23175    122814\n",
       "7137     120474\n",
       "50227     52425\n",
       "13760     35819\n",
       "21424     82203\n",
       "10690     79919\n",
       "49658     74667\n",
       "5568      90863\n",
       "34432     92098\n",
       "719        1846\n",
       "34502     42554\n",
       "3152      41856\n",
       "19778     29879\n",
       "24601    102100\n",
       "46785     80701\n",
       "44565     29586\n",
       "50663     85074\n",
       "1435       8243\n",
       "5907      20289\n",
       "25990     58353\n",
       "42403     85539\n",
       "5984      30368\n",
       "23352    123135\n",
       "4002       2767\n",
       "51030     63783\n",
       "47147     11380\n",
       "30794     72076\n",
       "691       40589\n",
       "17921    107893\n",
       "40382     54926\n",
       "14702    120068\n",
       "14622     60827\n",
       "3474      36601\n",
       "48218     42150\n",
       "25416     20192\n",
       "28951     27400\n",
       "43906     65996\n",
       "7635      48912\n",
       "32325     28031\n",
       "21871     41720\n",
       "4259     117355\n",
       "43696     24687\n",
       "26264     97603\n",
       "28707     30926\n",
       "48539    117076\n",
       "31098     13058\n",
       "Name: patientid, dtype: int64"
      ]
     },
     "execution_count": 64,
     "metadata": {},
     "output_type": "execute_result"
    }
   ],
   "source": [
    "hc['patientid'].sample(50, replace=True)"
   ]
  }
 ],
 "metadata": {
  "colab": {
   "collapsed_sections": [],
   "name": "2.b.ipynb",
   "provenance": []
  },
  "kernelspec": {
   "display_name": "Python 3 (ipykernel)",
   "language": "python",
   "name": "python3"
  },
  "language_info": {
   "codemirror_mode": {
    "name": "ipython",
    "version": 3
   },
   "file_extension": ".py",
   "mimetype": "text/x-python",
   "name": "python",
   "nbconvert_exporter": "python",
   "pygments_lexer": "ipython3",
   "version": "3.11.3"
  },
  "vscode": {
   "interpreter": {
    "hash": "40d3a090f54c6569ab1632332b64b2c03c39dcf918b08424e98f38b5ae0af88f"
   }
  }
 },
 "nbformat": 4,
 "nbformat_minor": 4
}
